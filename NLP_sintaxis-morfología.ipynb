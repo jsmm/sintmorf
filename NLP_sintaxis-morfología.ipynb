{
 "cells": [
  {
   "cell_type": "markdown",
   "metadata": {
    "extensions": {
     "jupyter_dashboards": {
      "version": 1,
      "views": {
       "default_view": {
        "col": 0,
        "height": 2,
        "row": 2,
        "width": 12
       }
      }
     }
    },
    "lang": "es"
   },
   "source": [
    "# PNL\n",
    "\n",
    "python 3.6.13\n",
    "conda env py3.16.13"
   ]
  },
  {
   "cell_type": "code",
   "execution_count": 7,
   "metadata": {
    "extensions": {
     "jupyter_dashboards": {
      "version": 1,
      "views": {
       "default_view": {
        "hidden": true
       }
      }
     }
    }
   },
   "outputs": [],
   "source": [
    "text = \"\"\"Esta es una prueba. Con este lema miles de personas han recorrido las calles de Murcia este jueves para reclamar a las administraciones públicas la adopción de medidas que recuperen su laguna, aquella de aguas transparentes que conocieron antaño y han perdido. Nueve colectivos ciudadanos se han unido en torno a la consigna 'SOS Mar Menor. Por un mar Menor con futuro' para protestar por la situación de la laguna, dos meses después de la grave crisis que sufrió en agosto, cuando se sacaron 15 toneladas de peces. Manuel trabaja en el Banco Asiático de Desarrollo (ADB), en Manila.\"\"\""
   ]
  },
  {
   "cell_type": "code",
   "execution_count": null,
   "metadata": {},
   "outputs": [],
   "source": []
  },
  {
   "cell_type": "code",
   "execution_count": null,
   "metadata": {},
   "outputs": [],
   "source": []
  },
  {
   "cell_type": "code",
   "execution_count": 8,
   "metadata": {
    "extensions": {
     "jupyter_dashboards": {
      "version": 1,
      "views": {
       "default_view": {
        "hidden": true
       }
      }
     }
    }
   },
   "outputs": [
    {
     "data": {
      "text/plain": [
       "{'spacy_version': '3.1.3',\n",
       " 'location': '/Users/mbook/opt/anaconda3/envs/py3.16.13/lib/python3.6/site-packages/spacy',\n",
       " 'platform': 'Darwin-22.1.0-x86_64-i386-64bit',\n",
       " 'python_version': '3.6.13',\n",
       " 'pipelines': {'es_core_news_sm': '3.1.0',\n",
       "  'es_dep_news_trf': '3.1.0',\n",
       "  'es_core_news_md': '3.1.0',\n",
       "  'es_core_news_lg': '3.1.0'}}"
      ]
     },
     "execution_count": 8,
     "metadata": {},
     "output_type": "execute_result"
    }
   ],
   "source": [
    "import spacy\n",
    "from spacy.lang.es import Spanish\n",
    "import es_dep_news_trf\n",
    "\n",
    "nlp = Spanish()\n",
    "nlp = es_dep_news_trf.load()\n",
    "doc = nlp(text)\n",
    "spacy.info()"
   ]
  },
  {
   "cell_type": "markdown",
   "metadata": {
    "extensions": {
     "jupyter_dashboards": {
      "version": 1,
      "views": {
       "default_view": {
        "col": 0,
        "height": 2,
        "row": 8,
        "width": 12
       }
      }
     }
    }
   },
   "source": [
    "[Trained pipelines for Spanish](https://spacy.io/models/es):\n",
    "\n",
    "- es_core_news_sm: Spanish pipeline optimized for CPU. Components: tok2vec, morphologizer, parser, senter, ner, attribute_ruler, lemmatizer. 13 MB.\n",
    "- es_core_news_md: Spanish pipeline optimized for CPU. Components: tok2vec, morphologizer, parser, senter, ner, attribute_ruler, lemmatizer. 40 MB.\n",
    "- es_core_news_lg: Spanish pipeline optimized for CPU. Components: tok2vec, morphologizer, parser, senter, ner, attribute_ruler, lemmatizer. 542 MB.\n",
    "- es_dep_news_trf: Spanish transformer pipeline (dccuchile/bert-base-spanish-wwm-cased). Components: transformer, morphologizer, parser, attribute_ruler, lemmatizer. 391 MB."
   ]
  },
  {
   "cell_type": "markdown",
   "metadata": {
    "extensions": {
     "jupyter_dashboards": {
      "version": 1,
      "views": {
       "default_view": {
        "col": 0,
        "height": 2,
        "row": 10,
        "width": 12
       }
      }
     }
    }
   },
   "source": [
    "# Morfología"
   ]
  },
  {
   "cell_type": "markdown",
   "metadata": {
    "extensions": {
     "jupyter_dashboards": {
      "version": 1,
      "views": {
       "default_view": {
        "col": 0,
        "height": 2,
        "row": 12,
        "width": 12
       }
      }
     }
    }
   },
   "source": [
    "## Segmentación por palabras (tokenización)"
   ]
  },
  {
   "cell_type": "code",
   "execution_count": 9,
   "metadata": {
    "extensions": {
     "jupyter_dashboards": {
      "version": 1,
      "views": {
       "default_view": {
        "hidden": true
       }
      }
     }
    }
   },
   "outputs": [
    {
     "name": "stdout",
     "output_type": "stream",
     "text": [
      "Esta\n",
      "es\n",
      "una\n",
      "prueba\n",
      ".\n",
      "Con\n",
      "este\n",
      "lema\n",
      "miles\n",
      "de\n",
      "personas\n",
      "han\n",
      "recorrido\n",
      "las\n",
      "calles\n",
      "de\n",
      "Murcia\n",
      "este\n",
      "jueves\n",
      "para\n",
      "reclamar\n",
      "a\n",
      "las\n",
      "administraciones\n",
      "públicas\n",
      "la\n",
      "adopción\n",
      "de\n",
      "medidas\n",
      "que\n",
      "recuperen\n",
      "su\n",
      "laguna\n",
      ",\n",
      "aquella\n",
      "de\n",
      "aguas\n",
      "transparentes\n",
      "que\n",
      "conocieron\n",
      "antaño\n",
      "y\n",
      "han\n",
      "perdido\n",
      ".\n",
      "Nueve\n",
      "colectivos\n",
      "ciudadanos\n",
      "se\n",
      "han\n",
      "unido\n",
      "en\n",
      "torno\n",
      "a\n",
      "la\n",
      "consigna\n",
      "'\n",
      "SOS\n",
      "Mar\n",
      "Menor\n",
      ".\n",
      "Por\n",
      "un\n",
      "mar\n",
      "Menor\n",
      "con\n",
      "futuro\n",
      "'\n",
      "para\n",
      "protestar\n",
      "por\n",
      "la\n",
      "situación\n",
      "de\n",
      "la\n",
      "laguna\n",
      ",\n",
      "dos\n",
      "meses\n",
      "después\n",
      "de\n",
      "la\n",
      "grave\n",
      "crisis\n",
      "que\n",
      "sufrió\n",
      "en\n",
      "agosto\n",
      ",\n",
      "cuando\n",
      "se\n",
      "sacaron\n",
      "15\n",
      "toneladas\n",
      "de\n",
      "peces\n",
      ".\n",
      "Manuel\n",
      "trabaja\n",
      "en\n",
      "el\n",
      "Banco\n",
      "Asiático\n",
      "de\n",
      "Desarrollo\n",
      "(\n",
      "ADB\n",
      ")\n",
      ",\n",
      "en\n",
      "Manila\n",
      ".\n"
     ]
    }
   ],
   "source": [
    "for token in doc:\n",
    "    print(token.text)"
   ]
  },
  {
   "cell_type": "markdown",
   "metadata": {
    "extensions": {
     "jupyter_dashboards": {
      "version": 1,
      "views": {
       "default_view": {
        "col": 0,
        "height": 2,
        "row": 16,
        "width": 12
       }
      }
     }
    }
   },
   "source": [
    "## Análisis morfológico de las palabras\n",
    "\n",
    "Lemmatizer, Tagger, Morphologizer, "
   ]
  },
  {
   "cell_type": "code",
   "execution_count": 10,
   "metadata": {
    "extensions": {
     "jupyter_dashboards": {
      "version": 1,
      "views": {
       "default_view": {
        "hidden": true
       }
      }
     }
    }
   },
   "outputs": [
    {
     "data": {
      "text/html": [
       "<div>\n",
       "<style scoped>\n",
       "    .dataframe tbody tr th:only-of-type {\n",
       "        vertical-align: middle;\n",
       "    }\n",
       "\n",
       "    .dataframe tbody tr th {\n",
       "        vertical-align: top;\n",
       "    }\n",
       "\n",
       "    .dataframe thead th {\n",
       "        text-align: right;\n",
       "    }\n",
       "</style>\n",
       "<table border=\"1\" class=\"dataframe\">\n",
       "  <thead>\n",
       "    <tr style=\"text-align: right;\">\n",
       "      <th></th>\n",
       "      <th>Token</th>\n",
       "      <th>Lemma</th>\n",
       "      <th>POS</th>\n",
       "      <th>Tag</th>\n",
       "      <th>Explain</th>\n",
       "      <th>Morph</th>\n",
       "      <th>Is alphabetical</th>\n",
       "      <th>Is digit</th>\n",
       "      <th>Shape</th>\n",
       "      <th>Language</th>\n",
       "      <th>Is stop</th>\n",
       "      <th>Prefix</th>\n",
       "      <th>Suffix</th>\n",
       "    </tr>\n",
       "  </thead>\n",
       "  <tbody>\n",
       "    <tr>\n",
       "      <th>0</th>\n",
       "      <td>Esta</td>\n",
       "      <td>este</td>\n",
       "      <td>PRON</td>\n",
       "      <td>PRON</td>\n",
       "      <td>pronoun</td>\n",
       "      <td>(Gender=Fem, Number=Sing, PronType=Dem)</td>\n",
       "      <td>True</td>\n",
       "      <td>False</td>\n",
       "      <td>Xxxx</td>\n",
       "      <td>es</td>\n",
       "      <td>True</td>\n",
       "      <td>E</td>\n",
       "      <td>sta</td>\n",
       "    </tr>\n",
       "    <tr>\n",
       "      <th>1</th>\n",
       "      <td>es</td>\n",
       "      <td>ser</td>\n",
       "      <td>AUX</td>\n",
       "      <td>AUX</td>\n",
       "      <td>auxiliary</td>\n",
       "      <td>(Mood=Ind, Number=Sing, Person=3, Tense=Pres, ...</td>\n",
       "      <td>True</td>\n",
       "      <td>False</td>\n",
       "      <td>xx</td>\n",
       "      <td>es</td>\n",
       "      <td>True</td>\n",
       "      <td>e</td>\n",
       "      <td>es</td>\n",
       "    </tr>\n",
       "    <tr>\n",
       "      <th>2</th>\n",
       "      <td>una</td>\n",
       "      <td>uno</td>\n",
       "      <td>DET</td>\n",
       "      <td>DET</td>\n",
       "      <td>determiner</td>\n",
       "      <td>(Definite=Ind, Gender=Fem, Number=Sing, PronTy...</td>\n",
       "      <td>True</td>\n",
       "      <td>False</td>\n",
       "      <td>xxx</td>\n",
       "      <td>es</td>\n",
       "      <td>True</td>\n",
       "      <td>u</td>\n",
       "      <td>una</td>\n",
       "    </tr>\n",
       "    <tr>\n",
       "      <th>3</th>\n",
       "      <td>prueba</td>\n",
       "      <td>prueba</td>\n",
       "      <td>NOUN</td>\n",
       "      <td>NOUN</td>\n",
       "      <td>noun</td>\n",
       "      <td>(Gender=Fem, Number=Sing)</td>\n",
       "      <td>True</td>\n",
       "      <td>False</td>\n",
       "      <td>xxxx</td>\n",
       "      <td>es</td>\n",
       "      <td>False</td>\n",
       "      <td>p</td>\n",
       "      <td>eba</td>\n",
       "    </tr>\n",
       "    <tr>\n",
       "      <th>4</th>\n",
       "      <td>.</td>\n",
       "      <td>.</td>\n",
       "      <td>PUNCT</td>\n",
       "      <td>PUNCT</td>\n",
       "      <td>punctuation</td>\n",
       "      <td>(PunctType=Peri)</td>\n",
       "      <td>False</td>\n",
       "      <td>False</td>\n",
       "      <td>.</td>\n",
       "      <td>es</td>\n",
       "      <td>False</td>\n",
       "      <td>.</td>\n",
       "      <td>.</td>\n",
       "    </tr>\n",
       "    <tr>\n",
       "      <th>...</th>\n",
       "      <td>...</td>\n",
       "      <td>...</td>\n",
       "      <td>...</td>\n",
       "      <td>...</td>\n",
       "      <td>...</td>\n",
       "      <td>...</td>\n",
       "      <td>...</td>\n",
       "      <td>...</td>\n",
       "      <td>...</td>\n",
       "      <td>...</td>\n",
       "      <td>...</td>\n",
       "      <td>...</td>\n",
       "      <td>...</td>\n",
       "    </tr>\n",
       "    <tr>\n",
       "      <th>107</th>\n",
       "      <td>)</td>\n",
       "      <td>)</td>\n",
       "      <td>PUNCT</td>\n",
       "      <td>PUNCT</td>\n",
       "      <td>punctuation</td>\n",
       "      <td>(PunctSide=Fin, PunctType=Brck)</td>\n",
       "      <td>False</td>\n",
       "      <td>False</td>\n",
       "      <td>)</td>\n",
       "      <td>es</td>\n",
       "      <td>False</td>\n",
       "      <td>)</td>\n",
       "      <td>)</td>\n",
       "    </tr>\n",
       "    <tr>\n",
       "      <th>108</th>\n",
       "      <td>,</td>\n",
       "      <td>,</td>\n",
       "      <td>PUNCT</td>\n",
       "      <td>PUNCT</td>\n",
       "      <td>punctuation</td>\n",
       "      <td>(PunctType=Comm)</td>\n",
       "      <td>False</td>\n",
       "      <td>False</td>\n",
       "      <td>,</td>\n",
       "      <td>es</td>\n",
       "      <td>False</td>\n",
       "      <td>,</td>\n",
       "      <td>,</td>\n",
       "    </tr>\n",
       "    <tr>\n",
       "      <th>109</th>\n",
       "      <td>en</td>\n",
       "      <td>en</td>\n",
       "      <td>ADP</td>\n",
       "      <td>ADP</td>\n",
       "      <td>adposition</td>\n",
       "      <td>(AdpType=Prep)</td>\n",
       "      <td>True</td>\n",
       "      <td>False</td>\n",
       "      <td>xx</td>\n",
       "      <td>es</td>\n",
       "      <td>True</td>\n",
       "      <td>e</td>\n",
       "      <td>en</td>\n",
       "    </tr>\n",
       "    <tr>\n",
       "      <th>110</th>\n",
       "      <td>Manila</td>\n",
       "      <td>Manila</td>\n",
       "      <td>PROPN</td>\n",
       "      <td>PROPN</td>\n",
       "      <td>proper noun</td>\n",
       "      <td>()</td>\n",
       "      <td>True</td>\n",
       "      <td>False</td>\n",
       "      <td>Xxxxx</td>\n",
       "      <td>es</td>\n",
       "      <td>False</td>\n",
       "      <td>M</td>\n",
       "      <td>ila</td>\n",
       "    </tr>\n",
       "    <tr>\n",
       "      <th>111</th>\n",
       "      <td>.</td>\n",
       "      <td>.</td>\n",
       "      <td>PUNCT</td>\n",
       "      <td>PUNCT</td>\n",
       "      <td>punctuation</td>\n",
       "      <td>(PunctType=Peri)</td>\n",
       "      <td>False</td>\n",
       "      <td>False</td>\n",
       "      <td>.</td>\n",
       "      <td>es</td>\n",
       "      <td>False</td>\n",
       "      <td>.</td>\n",
       "      <td>.</td>\n",
       "    </tr>\n",
       "  </tbody>\n",
       "</table>\n",
       "<p>112 rows × 13 columns</p>\n",
       "</div>"
      ],
      "text/plain": [
       "      Token   Lemma    POS    Tag      Explain  \\\n",
       "0      Esta    este   PRON   PRON      pronoun   \n",
       "1        es     ser    AUX    AUX    auxiliary   \n",
       "2       una     uno    DET    DET   determiner   \n",
       "3    prueba  prueba   NOUN   NOUN         noun   \n",
       "4         .       .  PUNCT  PUNCT  punctuation   \n",
       "..      ...     ...    ...    ...          ...   \n",
       "107       )       )  PUNCT  PUNCT  punctuation   \n",
       "108       ,       ,  PUNCT  PUNCT  punctuation   \n",
       "109      en      en    ADP    ADP   adposition   \n",
       "110  Manila  Manila  PROPN  PROPN  proper noun   \n",
       "111       .       .  PUNCT  PUNCT  punctuation   \n",
       "\n",
       "                                                 Morph  Is alphabetical  \\\n",
       "0              (Gender=Fem, Number=Sing, PronType=Dem)             True   \n",
       "1    (Mood=Ind, Number=Sing, Person=3, Tense=Pres, ...             True   \n",
       "2    (Definite=Ind, Gender=Fem, Number=Sing, PronTy...             True   \n",
       "3                            (Gender=Fem, Number=Sing)             True   \n",
       "4                                     (PunctType=Peri)            False   \n",
       "..                                                 ...              ...   \n",
       "107                    (PunctSide=Fin, PunctType=Brck)            False   \n",
       "108                                   (PunctType=Comm)            False   \n",
       "109                                     (AdpType=Prep)             True   \n",
       "110                                                 ()             True   \n",
       "111                                   (PunctType=Peri)            False   \n",
       "\n",
       "     Is digit  Shape Language  Is stop Prefix Suffix  \n",
       "0       False   Xxxx       es     True      E    sta  \n",
       "1       False     xx       es     True      e     es  \n",
       "2       False    xxx       es     True      u    una  \n",
       "3       False   xxxx       es    False      p    eba  \n",
       "4       False      .       es    False      .      .  \n",
       "..        ...    ...      ...      ...    ...    ...  \n",
       "107     False      )       es    False      )      )  \n",
       "108     False      ,       es    False      ,      ,  \n",
       "109     False     xx       es     True      e     en  \n",
       "110     False  Xxxxx       es    False      M    ila  \n",
       "111     False      .       es    False      .      .  \n",
       "\n",
       "[112 rows x 13 columns]"
      ]
     },
     "execution_count": 10,
     "metadata": {},
     "output_type": "execute_result"
    }
   ],
   "source": [
    "import pandas as pd\n",
    "\n",
    "pd.DataFrame([[lexeme.text, lexeme.lemma_, lexeme.pos_, lexeme.tag_, spacy.explain(lexeme.tag_), lexeme.morph, lexeme.is_alpha, lexeme.is_digit, lexeme.shape_, lexeme.lang_, lexeme.is_stop, lexeme.prefix_, lexeme.suffix_, ] for lexeme in doc], columns=['Token', 'Lemma', 'POS', 'Tag', 'Explain', 'Morph', 'Is alphabetical', 'Is digit', 'Shape', 'Language', 'Is stop', 'Prefix', 'Suffix'])"
   ]
  },
  {
   "cell_type": "markdown",
   "metadata": {
    "extensions": {
     "jupyter_dashboards": {
      "version": 1,
      "views": {
       "default_view": {
        "col": 0,
        "height": 2,
        "row": 20,
        "width": 12
       }
      }
     }
    }
   },
   "source": [
    "# Sintaxis"
   ]
  },
  {
   "cell_type": "markdown",
   "metadata": {
    "extensions": {
     "jupyter_dashboards": {
      "version": 1,
      "views": {
       "default_view": {
        "col": 0,
        "height": 2,
        "row": 22,
        "width": 12
       }
      }
     }
    }
   },
   "source": [
    "## Segmentación por oraciones\n",
    "\n",
    "*SentenceRecognizer*."
   ]
  },
  {
   "cell_type": "code",
   "execution_count": 11,
   "metadata": {
    "extensions": {
     "jupyter_dashboards": {
      "version": 1,
      "views": {
       "default_view": {
        "hidden": true
       }
      }
     }
    }
   },
   "outputs": [
    {
     "name": "stdout",
     "output_type": "stream",
     "text": [
      "Esta es una prueba.\n",
      "\n",
      "Con este lema miles de personas han recorrido las calles de Murcia este jueves para reclamar a las administraciones públicas la adopción de medidas que recuperen su laguna, aquella de aguas transparentes que conocieron antaño y han perdido.\n",
      "\n",
      "Nueve colectivos ciudadanos se han unido en torno a la consigna '\n",
      "\n",
      "SOS\n",
      "\n",
      "Mar\n",
      "\n",
      "Menor\n",
      "\n",
      ".\n",
      "\n",
      "Por un mar Menor con futuro' para protestar por la situación de la laguna, dos meses después de la grave crisis que sufrió en agosto, cuando se sacaron 15 toneladas de peces.\n",
      "\n",
      "Manuel trabaja en el Banco Asiático de Desarrollo (ADB), en Manila.\n",
      "\n"
     ]
    }
   ],
   "source": [
    "assert doc.has_annotation(\"SENT_START\")\n",
    "for sent in doc.sents:\n",
    "    print(sent.text + \"\\n\")\n",
    "    "
   ]
  },
  {
   "cell_type": "markdown",
   "metadata": {
    "extensions": {
     "jupyter_dashboards": {
      "version": 1,
      "views": {
       "default_view": {
        "col": 0,
        "height": 2,
        "row": 26,
        "width": 12
       }
      }
     }
    }
   },
   "source": [
    "## POS Tagging"
   ]
  },
  {
   "cell_type": "code",
   "execution_count": 12,
   "metadata": {
    "extensions": {
     "jupyter_dashboards": {
      "version": 1,
      "views": {
       "default_view": {
        "hidden": true
       }
      }
     }
    }
   },
   "outputs": [
    {
     "data": {
      "text/html": [
       "<div>\n",
       "<style scoped>\n",
       "    .dataframe tbody tr th:only-of-type {\n",
       "        vertical-align: middle;\n",
       "    }\n",
       "\n",
       "    .dataframe tbody tr th {\n",
       "        vertical-align: top;\n",
       "    }\n",
       "\n",
       "    .dataframe thead th {\n",
       "        text-align: right;\n",
       "    }\n",
       "</style>\n",
       "<table border=\"1\" class=\"dataframe\">\n",
       "  <thead>\n",
       "    <tr style=\"text-align: right;\">\n",
       "      <th></th>\n",
       "      <th>Palabra</th>\n",
       "      <th>Función sintáctica</th>\n",
       "      <th>Abreviatura de la función</th>\n",
       "    </tr>\n",
       "  </thead>\n",
       "  <tbody>\n",
       "    <tr>\n",
       "      <th>0</th>\n",
       "      <td>Esta</td>\n",
       "      <td>nominal subject</td>\n",
       "      <td>nsubj</td>\n",
       "    </tr>\n",
       "    <tr>\n",
       "      <th>1</th>\n",
       "      <td>es</td>\n",
       "      <td>copula</td>\n",
       "      <td>cop</td>\n",
       "    </tr>\n",
       "    <tr>\n",
       "      <th>2</th>\n",
       "      <td>una</td>\n",
       "      <td>determiner</td>\n",
       "      <td>det</td>\n",
       "    </tr>\n",
       "    <tr>\n",
       "      <th>3</th>\n",
       "      <td>prueba</td>\n",
       "      <td>None</td>\n",
       "      <td>ROOT</td>\n",
       "    </tr>\n",
       "    <tr>\n",
       "      <th>4</th>\n",
       "      <td>.</td>\n",
       "      <td>punctuation</td>\n",
       "      <td>punct</td>\n",
       "    </tr>\n",
       "    <tr>\n",
       "      <th>...</th>\n",
       "      <td>...</td>\n",
       "      <td>...</td>\n",
       "      <td>...</td>\n",
       "    </tr>\n",
       "    <tr>\n",
       "      <th>107</th>\n",
       "      <td>)</td>\n",
       "      <td>punctuation</td>\n",
       "      <td>punct</td>\n",
       "    </tr>\n",
       "    <tr>\n",
       "      <th>108</th>\n",
       "      <td>,</td>\n",
       "      <td>punctuation</td>\n",
       "      <td>punct</td>\n",
       "    </tr>\n",
       "    <tr>\n",
       "      <th>109</th>\n",
       "      <td>en</td>\n",
       "      <td>case marking</td>\n",
       "      <td>case</td>\n",
       "    </tr>\n",
       "    <tr>\n",
       "      <th>110</th>\n",
       "      <td>Manila</td>\n",
       "      <td>modifier of nominal</td>\n",
       "      <td>nmod</td>\n",
       "    </tr>\n",
       "    <tr>\n",
       "      <th>111</th>\n",
       "      <td>.</td>\n",
       "      <td>punctuation</td>\n",
       "      <td>punct</td>\n",
       "    </tr>\n",
       "  </tbody>\n",
       "</table>\n",
       "<p>112 rows × 3 columns</p>\n",
       "</div>"
      ],
      "text/plain": [
       "    Palabra   Función sintáctica Abreviatura de la función\n",
       "0      Esta      nominal subject                     nsubj\n",
       "1        es               copula                       cop\n",
       "2       una           determiner                       det\n",
       "3    prueba                 None                      ROOT\n",
       "4         .          punctuation                     punct\n",
       "..      ...                  ...                       ...\n",
       "107       )          punctuation                     punct\n",
       "108       ,          punctuation                     punct\n",
       "109      en         case marking                      case\n",
       "110  Manila  modifier of nominal                      nmod\n",
       "111       .          punctuation                     punct\n",
       "\n",
       "[112 rows x 3 columns]"
      ]
     },
     "execution_count": 12,
     "metadata": {},
     "output_type": "execute_result"
    }
   ],
   "source": [
    "import pandas as pd\n",
    "\n",
    "pd.DataFrame([[word.text, spacy.explain(word.dep_), word.dep_] for word in doc], columns=['Palabra', 'Función sintáctica', 'Abreviatura de la función'])"
   ]
  },
  {
   "cell_type": "code",
   "execution_count": 13,
   "metadata": {
    "extensions": {
     "jupyter_dashboards": {
      "version": 1,
      "views": {
       "default_view": {
        "hidden": true
       }
      }
     }
    }
   },
   "outputs": [
    {
     "name": "stdout",
     "output_type": "stream",
     "text": [
      "Dep tree                         Token            Dep type Lemma          Part of Sp\n",
      "──────────────────────────────── ──────────────── ──────── ────────────── ──────────\n",
      "                           ┌───► Esta             nsubj    este           PRON      \n",
      "                           │┌──► es               cop      ser            AUX       \n",
      "                           ││┌─► una              det      uno            DET       \n",
      "                           └┴┼── prueba           ROOT     prueba         NOUN      \n",
      "                             └─► .                punct    .              PUNCT     \n",
      "                            ┌──► Con              case     con            ADP       \n",
      "                            │┌─► este             det      este           DET       \n",
      "                      ┌────►└┴── lema             obl      lema           NOUN      \n",
      "                      │┌─►┌───── miles            nsubj    mil            NUM       \n",
      "                      ││  │  ┌─► de               case     de             ADP       \n",
      "                      ││  └─►└── personas         nmod     persona        NOUN      \n",
      "                      ││     ┌─► han              aux      haber          AUX       \n",
      "┌┬────────────────────┼┼─────┴── recorrido        ROOT     recorrer       VERB      \n",
      "││                    ││     ┌─► las              det      el             DET       \n",
      "││                    │└─►┌──┴── calles           obj      calle          NOUN      \n",
      "││                    │   │  ┌─► de               case     de             ADP       \n",
      "││                    │   └─►└── Murcia           nmod     Murcia         PROPN     \n",
      "││                    │      ┌─► este             det      este           DET       \n",
      "││                    └─────►└── jueves           obl      jueves         NOUN      \n",
      "││                           ┌─► para             mark     para           ADP       \n",
      "│└─►┌────────────────────┬───┴── reclamar         advcl    reclamar       VERB      \n",
      "│   │                    │  ┌──► a                case     a              ADP       \n",
      "│   │                    │  │┌─► las              det      el             DET       \n",
      "│   │                    └─►└┼── administraciones obj      administración NOUN      \n",
      "│   │                        └─► públicas         amod     público        ADJ       \n",
      "│   │                        ┌─► la               det      el             DET       \n",
      "│   └─►┌─────────────────────┴── adopción         obj      adopción       NOUN      \n",
      "│      │                     ┌─► de               case     de             ADP       \n",
      "│      └─►┌──────────────────┴── medidas          nmod     medida         NOUN      \n",
      "│         │                  ┌─► que              nsubj    que            PRON      \n",
      "│         └─►┌───────────────┴── recuperen        acl      recuperar      VERB      \n",
      "│            │               ┌─► su               det      su             DET       \n",
      "│            └─►┌────────────┴── laguna           obj      laguna         NOUN      \n",
      "│               │            ┌─► ,                punct    ,              PUNCT     \n",
      "│               └─►┌─────────┴── aquella          appos    aquel          PRON      \n",
      "│                  │         ┌─► de               case     de             ADP       \n",
      "│                  └─►┌──────┼── aguas            nmod     agua           NOUN      \n",
      "│                     │      └─► transparentes    amod     transparente   ADJ       \n",
      "│                     │      ┌─► que              obj      que            PRON      \n",
      "│                     └─►┌───┼── conocieron       acl      conocer        VERB      \n",
      "│                        │   └─► antaño           advmod   antaño         ADV       \n",
      "│                        │  ┌──► y                cc       y              CCONJ     \n",
      "│                        │  │┌─► han              aux      haber          AUX       \n",
      "│                        └─►└┴── perdido          conj     perder         VERB      \n",
      "└──────────────────────────────► .                punct    .              PUNCT     \n",
      "                             ┌─► Nueve            nummod   nueve          NUM       \n",
      "                          ┌─►├── colectivos       nsubj    colectivo      NOUN      \n",
      "                          │  └─► ciudadanos       amod     ciudadano      ADJ       \n",
      "                          │ ┌──► se               obj      él             PRON      \n",
      "                          │ │┌─► han              aux      haber          AUX       \n",
      "                     ┌┬───┴─┴┴── unido            ROOT     unir           VERB      \n",
      "                     ││  ┌─►┌┬── en               case     en             ADP       \n",
      "                     ││  │  │└─► torno            fixed    torno          NOUN      \n",
      "                     ││  │  └──► a                fixed    a              ADP       \n",
      "                     ││  │   ┌─► la               det      el             DET       \n",
      "                     │└─►└───┴── consigna         obl      consigna       NOUN      \n",
      "                     └─────────► '                advcl    '              PROPN     \n",
      "                                 SOS              ROOT     SOS            PROPN     \n",
      "                                 Mar              ROOT     Mar            PROPN     \n",
      "                                 Menor            ROOT     Menor          PROPN     \n",
      "                                 .                ROOT     .              PUNCT     \n",
      "                            ┌──► Por              case     por            ADP       \n",
      "                            │┌─► un               det      uno            DET       \n",
      "    ┌┬───────────────────┬┬─┴┼── mar              ROOT     mar            NOUN      \n",
      "    ││                   ││  └─► Menor            flat     Menor          PROPN     \n",
      "    ││                   ││  ┌─► con              case     con            ADP       \n",
      "    ││                   │└─►└── futuro           nmod     futuro         NOUN      \n",
      "    ││                   └─────► '                nmod     '              PROPN     \n",
      "    ││                       ┌─► para             mark     para           ADP       \n",
      "    │└─►┌─────────────┬──────┴── protestar        acl      protestar      VERB      \n",
      "    │   │             │     ┌──► por              case     por            ADP       \n",
      "    │   │             │     │┌─► la               det      el             DET       \n",
      "    │   │             └─►┌──┴┴── situación        obl      situación      NOUN      \n",
      "    │   │                │  ┌──► de               case     de             ADP       \n",
      "    │   │                │  │┌─► la               det      el             DET       \n",
      "    │   │                └─►└┴── laguna           nmod     laguna         NOUN      \n",
      "    │   │                   ┌──► ,                punct    ,              PUNCT     \n",
      "    │   │                   │┌─► dos              nummod   dos            NUM       \n",
      "    │   │                ┌─►└┴── meses            obl      mes            NOUN      \n",
      "    │   └─►┌─────────────┴────── después          advmod   después        ADV       \n",
      "    │      │               ┌───► de               case     de             ADP       \n",
      "    │      │               │┌──► la               det      el             DET       \n",
      "    │      │               ││┌─► grave            amod     grave          ADJ       \n",
      "    │      └─►┌────────────┴┴┴── crisis           obl      crisis         NOUN      \n",
      "    │         │              ┌─► que              obj      que            PRON      \n",
      "    │         └─►┌───────────┴── sufrió           acl      sufrir         VERB      \n",
      "    │            │           ┌─► en               case     en             ADP       \n",
      "    │            └─►┌────────┴── agosto           obl      agosto         NOUN      \n",
      "    │               │      ┌───► ,                punct    ,              PUNCT     \n",
      "    │               │      │┌──► cuando           obl      cuando         PRON      \n",
      "    │               │      ││┌─► se               obj      él             PRON      \n",
      "    │               └─►┌───┴┴┴── sacaron          acl      sacar          VERB      \n",
      "    │                  │     ┌─► 15               nummod   15             NUM       \n",
      "    │                  └─►┌──┴── toneladas        nsubj    tonelada       NOUN      \n",
      "    │                     │  ┌─► de               case     de             ADP       \n",
      "    │                     └─►└── peces            nmod     pez            NOUN      \n",
      "    └──────────────────────────► .                punct    .              PUNCT     \n",
      "                             ┌─► Manuel           nsubj    Manuel         PROPN     \n",
      "                    ┌┬───────┴── trabaja          ROOT     trabajar       VERB      \n",
      "                    ││      ┌──► en               case     en             ADP       \n",
      "                    ││      │┌─► el               det      el             DET       \n",
      "                    │└─►┌┬┬─┴┼── Banco            obl      Banco          PROPN     \n",
      "                    │   │││  └─► Asiático         flat     Asiático       PROPN     \n",
      "                    │   │││  ┌─► de               case     de             ADP       \n",
      "                    │   ││└─►└── Desarrollo       flat     Desarrollo     PROPN     \n",
      "                    │   ││   ┌─► (                punct    (              PUNCT     \n",
      "                    │   │└──►├── ADB              flat     ADB            PROPN     \n",
      "                    │   │    └─► )                punct    )              PUNCT     \n",
      "                    │   │   ┌──► ,                punct    ,              PUNCT     \n",
      "                    │   │   │┌─► en               case     en             ADP       \n",
      "                    │   └──►└┴── Manila           nmod     Manila         PROPN     \n",
      "                    └──────────► .                punct    .              PUNCT     \n"
     ]
    }
   ],
   "source": [
    "import explacy\n",
    "\n",
    "explacy.print_parse_info(nlp, text)"
   ]
  },
  {
   "cell_type": "code",
   "execution_count": 14,
   "metadata": {
    "extensions": {
     "jupyter_dashboards": {
      "version": 1,
      "views": {
       "default_view": {
        "hidden": true
       }
      }
     }
    }
   },
   "outputs": [
    {
     "data": {
      "text/html": [
       "<span class=\"tex2jax_ignore\"><!DOCTYPE html>\n",
       "<html lang=\"es\">\n",
       "    <head>\n",
       "        <title>displaCy</title>\n",
       "    </head>\n",
       "\n",
       "    <body style=\"font-size: 16px; font-family: -apple-system, BlinkMacSystemFont, 'Segoe UI', Helvetica, Arial, sans-serif, 'Apple Color Emoji', 'Segoe UI Emoji', 'Segoe UI Symbol'; padding: 4rem 2rem; direction: ltr\">\n",
       "<figure style=\"margin-bottom: 6rem\">\n",
       "<svg xmlns=\"http://www.w3.org/2000/svg\" xmlns:xlink=\"http://www.w3.org/1999/xlink\" xml:lang=\"es\" id=\"e74a3efcf93f47628d4bebde4a6a647d-0\" class=\"displacy\" width=\"490\" height=\"302.0\" direction=\"ltr\" style=\"max-width: none; height: 302.0px; color: brown; background: #ffffff; font-family: Monaco; direction: ltr\">\n",
       "<text class=\"displacy-token\" fill=\"currentColor\" text-anchor=\"middle\" y=\"212.0\">\n",
       "    <tspan class=\"displacy-word\" fill=\"currentColor\" x=\"50\">Esta</tspan>\n",
       "    <tspan class=\"displacy-tag\" dy=\"2em\" fill=\"currentColor\" x=\"50\">PRON</tspan>\n",
       "</text>\n",
       "\n",
       "<text class=\"displacy-token\" fill=\"currentColor\" text-anchor=\"middle\" y=\"212.0\">\n",
       "    <tspan class=\"displacy-word\" fill=\"currentColor\" x=\"160\">es</tspan>\n",
       "    <tspan class=\"displacy-tag\" dy=\"2em\" fill=\"currentColor\" x=\"160\">AUX</tspan>\n",
       "</text>\n",
       "\n",
       "<text class=\"displacy-token\" fill=\"currentColor\" text-anchor=\"middle\" y=\"212.0\">\n",
       "    <tspan class=\"displacy-word\" fill=\"currentColor\" x=\"270\">una</tspan>\n",
       "    <tspan class=\"displacy-tag\" dy=\"2em\" fill=\"currentColor\" x=\"270\">DET</tspan>\n",
       "</text>\n",
       "\n",
       "<text class=\"displacy-token\" fill=\"currentColor\" text-anchor=\"middle\" y=\"212.0\">\n",
       "    <tspan class=\"displacy-word\" fill=\"currentColor\" x=\"380\">prueba.</tspan>\n",
       "    <tspan class=\"displacy-tag\" dy=\"2em\" fill=\"currentColor\" x=\"380\">NOUN</tspan>\n",
       "</text>\n",
       "\n",
       "<g class=\"displacy-arrow\">\n",
       "    <path class=\"displacy-arc\" id=\"arrow-e74a3efcf93f47628d4bebde4a6a647d-0-0\" stroke-width=\"2px\" d=\"M70,167.0 C70,2.0 380.0,2.0 380.0,167.0\" fill=\"none\" stroke=\"currentColor\"/>\n",
       "    <text dy=\"1.25em\" style=\"font-size: 0.8em; letter-spacing: 1px\">\n",
       "        <textPath xlink:href=\"#arrow-e74a3efcf93f47628d4bebde4a6a647d-0-0\" class=\"displacy-label\" startOffset=\"50%\" side=\"left\" fill=\"currentColor\" text-anchor=\"middle\">nsubj</textPath>\n",
       "    </text>\n",
       "    <path class=\"displacy-arrowhead\" d=\"M70,169.0 L62,157.0 78,157.0\" fill=\"currentColor\"/>\n",
       "</g>\n",
       "\n",
       "<g class=\"displacy-arrow\">\n",
       "    <path class=\"displacy-arc\" id=\"arrow-e74a3efcf93f47628d4bebde4a6a647d-0-1\" stroke-width=\"2px\" d=\"M180,167.0 C180,57.0 375.0,57.0 375.0,167.0\" fill=\"none\" stroke=\"currentColor\"/>\n",
       "    <text dy=\"1.25em\" style=\"font-size: 0.8em; letter-spacing: 1px\">\n",
       "        <textPath xlink:href=\"#arrow-e74a3efcf93f47628d4bebde4a6a647d-0-1\" class=\"displacy-label\" startOffset=\"50%\" side=\"left\" fill=\"currentColor\" text-anchor=\"middle\">cop</textPath>\n",
       "    </text>\n",
       "    <path class=\"displacy-arrowhead\" d=\"M180,169.0 L172,157.0 188,157.0\" fill=\"currentColor\"/>\n",
       "</g>\n",
       "\n",
       "<g class=\"displacy-arrow\">\n",
       "    <path class=\"displacy-arc\" id=\"arrow-e74a3efcf93f47628d4bebde4a6a647d-0-2\" stroke-width=\"2px\" d=\"M290,167.0 C290,112.0 370.0,112.0 370.0,167.0\" fill=\"none\" stroke=\"currentColor\"/>\n",
       "    <text dy=\"1.25em\" style=\"font-size: 0.8em; letter-spacing: 1px\">\n",
       "        <textPath xlink:href=\"#arrow-e74a3efcf93f47628d4bebde4a6a647d-0-2\" class=\"displacy-label\" startOffset=\"50%\" side=\"left\" fill=\"currentColor\" text-anchor=\"middle\">det</textPath>\n",
       "    </text>\n",
       "    <path class=\"displacy-arrowhead\" d=\"M290,169.0 L282,157.0 298,157.0\" fill=\"currentColor\"/>\n",
       "</g>\n",
       "</svg>\n",
       "</figure>\n",
       "\n",
       "<figure style=\"margin-bottom: 6rem\">\n",
       "<svg xmlns=\"http://www.w3.org/2000/svg\" xmlns:xlink=\"http://www.w3.org/1999/xlink\" xml:lang=\"es\" id=\"e74a3efcf93f47628d4bebde4a6a647d-1\" class=\"displacy\" width=\"4230\" height=\"522.0\" direction=\"ltr\" style=\"max-width: none; height: 522.0px; color: brown; background: #ffffff; font-family: Monaco; direction: ltr\">\n",
       "<text class=\"displacy-token\" fill=\"currentColor\" text-anchor=\"middle\" y=\"432.0\">\n",
       "    <tspan class=\"displacy-word\" fill=\"currentColor\" x=\"50\">Con</tspan>\n",
       "    <tspan class=\"displacy-tag\" dy=\"2em\" fill=\"currentColor\" x=\"50\">ADP</tspan>\n",
       "</text>\n",
       "\n",
       "<text class=\"displacy-token\" fill=\"currentColor\" text-anchor=\"middle\" y=\"432.0\">\n",
       "    <tspan class=\"displacy-word\" fill=\"currentColor\" x=\"160\">este</tspan>\n",
       "    <tspan class=\"displacy-tag\" dy=\"2em\" fill=\"currentColor\" x=\"160\">DET</tspan>\n",
       "</text>\n",
       "\n",
       "<text class=\"displacy-token\" fill=\"currentColor\" text-anchor=\"middle\" y=\"432.0\">\n",
       "    <tspan class=\"displacy-word\" fill=\"currentColor\" x=\"270\">lema</tspan>\n",
       "    <tspan class=\"displacy-tag\" dy=\"2em\" fill=\"currentColor\" x=\"270\">NOUN</tspan>\n",
       "</text>\n",
       "\n",
       "<text class=\"displacy-token\" fill=\"currentColor\" text-anchor=\"middle\" y=\"432.0\">\n",
       "    <tspan class=\"displacy-word\" fill=\"currentColor\" x=\"380\">miles</tspan>\n",
       "    <tspan class=\"displacy-tag\" dy=\"2em\" fill=\"currentColor\" x=\"380\">NUM</tspan>\n",
       "</text>\n",
       "\n",
       "<text class=\"displacy-token\" fill=\"currentColor\" text-anchor=\"middle\" y=\"432.0\">\n",
       "    <tspan class=\"displacy-word\" fill=\"currentColor\" x=\"490\">de</tspan>\n",
       "    <tspan class=\"displacy-tag\" dy=\"2em\" fill=\"currentColor\" x=\"490\">ADP</tspan>\n",
       "</text>\n",
       "\n",
       "<text class=\"displacy-token\" fill=\"currentColor\" text-anchor=\"middle\" y=\"432.0\">\n",
       "    <tspan class=\"displacy-word\" fill=\"currentColor\" x=\"600\">personas</tspan>\n",
       "    <tspan class=\"displacy-tag\" dy=\"2em\" fill=\"currentColor\" x=\"600\">NOUN</tspan>\n",
       "</text>\n",
       "\n",
       "<text class=\"displacy-token\" fill=\"currentColor\" text-anchor=\"middle\" y=\"432.0\">\n",
       "    <tspan class=\"displacy-word\" fill=\"currentColor\" x=\"710\">han</tspan>\n",
       "    <tspan class=\"displacy-tag\" dy=\"2em\" fill=\"currentColor\" x=\"710\">AUX</tspan>\n",
       "</text>\n",
       "\n",
       "<text class=\"displacy-token\" fill=\"currentColor\" text-anchor=\"middle\" y=\"432.0\">\n",
       "    <tspan class=\"displacy-word\" fill=\"currentColor\" x=\"820\">recorrido</tspan>\n",
       "    <tspan class=\"displacy-tag\" dy=\"2em\" fill=\"currentColor\" x=\"820\">VERB</tspan>\n",
       "</text>\n",
       "\n",
       "<text class=\"displacy-token\" fill=\"currentColor\" text-anchor=\"middle\" y=\"432.0\">\n",
       "    <tspan class=\"displacy-word\" fill=\"currentColor\" x=\"930\">las</tspan>\n",
       "    <tspan class=\"displacy-tag\" dy=\"2em\" fill=\"currentColor\" x=\"930\">DET</tspan>\n",
       "</text>\n",
       "\n",
       "<text class=\"displacy-token\" fill=\"currentColor\" text-anchor=\"middle\" y=\"432.0\">\n",
       "    <tspan class=\"displacy-word\" fill=\"currentColor\" x=\"1040\">calles</tspan>\n",
       "    <tspan class=\"displacy-tag\" dy=\"2em\" fill=\"currentColor\" x=\"1040\">NOUN</tspan>\n",
       "</text>\n",
       "\n",
       "<text class=\"displacy-token\" fill=\"currentColor\" text-anchor=\"middle\" y=\"432.0\">\n",
       "    <tspan class=\"displacy-word\" fill=\"currentColor\" x=\"1150\">de</tspan>\n",
       "    <tspan class=\"displacy-tag\" dy=\"2em\" fill=\"currentColor\" x=\"1150\">ADP</tspan>\n",
       "</text>\n",
       "\n",
       "<text class=\"displacy-token\" fill=\"currentColor\" text-anchor=\"middle\" y=\"432.0\">\n",
       "    <tspan class=\"displacy-word\" fill=\"currentColor\" x=\"1260\">Murcia</tspan>\n",
       "    <tspan class=\"displacy-tag\" dy=\"2em\" fill=\"currentColor\" x=\"1260\">PROPN</tspan>\n",
       "</text>\n",
       "\n",
       "<text class=\"displacy-token\" fill=\"currentColor\" text-anchor=\"middle\" y=\"432.0\">\n",
       "    <tspan class=\"displacy-word\" fill=\"currentColor\" x=\"1370\">este</tspan>\n",
       "    <tspan class=\"displacy-tag\" dy=\"2em\" fill=\"currentColor\" x=\"1370\">DET</tspan>\n",
       "</text>\n",
       "\n",
       "<text class=\"displacy-token\" fill=\"currentColor\" text-anchor=\"middle\" y=\"432.0\">\n",
       "    <tspan class=\"displacy-word\" fill=\"currentColor\" x=\"1480\">jueves</tspan>\n",
       "    <tspan class=\"displacy-tag\" dy=\"2em\" fill=\"currentColor\" x=\"1480\">NOUN</tspan>\n",
       "</text>\n",
       "\n",
       "<text class=\"displacy-token\" fill=\"currentColor\" text-anchor=\"middle\" y=\"432.0\">\n",
       "    <tspan class=\"displacy-word\" fill=\"currentColor\" x=\"1590\">para</tspan>\n",
       "    <tspan class=\"displacy-tag\" dy=\"2em\" fill=\"currentColor\" x=\"1590\">ADP</tspan>\n",
       "</text>\n",
       "\n",
       "<text class=\"displacy-token\" fill=\"currentColor\" text-anchor=\"middle\" y=\"432.0\">\n",
       "    <tspan class=\"displacy-word\" fill=\"currentColor\" x=\"1700\">reclamar</tspan>\n",
       "    <tspan class=\"displacy-tag\" dy=\"2em\" fill=\"currentColor\" x=\"1700\">VERB</tspan>\n",
       "</text>\n",
       "\n",
       "<text class=\"displacy-token\" fill=\"currentColor\" text-anchor=\"middle\" y=\"432.0\">\n",
       "    <tspan class=\"displacy-word\" fill=\"currentColor\" x=\"1810\">a</tspan>\n",
       "    <tspan class=\"displacy-tag\" dy=\"2em\" fill=\"currentColor\" x=\"1810\">ADP</tspan>\n",
       "</text>\n",
       "\n",
       "<text class=\"displacy-token\" fill=\"currentColor\" text-anchor=\"middle\" y=\"432.0\">\n",
       "    <tspan class=\"displacy-word\" fill=\"currentColor\" x=\"1920\">las</tspan>\n",
       "    <tspan class=\"displacy-tag\" dy=\"2em\" fill=\"currentColor\" x=\"1920\">DET</tspan>\n",
       "</text>\n",
       "\n",
       "<text class=\"displacy-token\" fill=\"currentColor\" text-anchor=\"middle\" y=\"432.0\">\n",
       "    <tspan class=\"displacy-word\" fill=\"currentColor\" x=\"2030\">administraciones</tspan>\n",
       "    <tspan class=\"displacy-tag\" dy=\"2em\" fill=\"currentColor\" x=\"2030\">NOUN</tspan>\n",
       "</text>\n",
       "\n",
       "<text class=\"displacy-token\" fill=\"currentColor\" text-anchor=\"middle\" y=\"432.0\">\n",
       "    <tspan class=\"displacy-word\" fill=\"currentColor\" x=\"2140\">públicas</tspan>\n",
       "    <tspan class=\"displacy-tag\" dy=\"2em\" fill=\"currentColor\" x=\"2140\">ADJ</tspan>\n",
       "</text>\n",
       "\n",
       "<text class=\"displacy-token\" fill=\"currentColor\" text-anchor=\"middle\" y=\"432.0\">\n",
       "    <tspan class=\"displacy-word\" fill=\"currentColor\" x=\"2250\">la</tspan>\n",
       "    <tspan class=\"displacy-tag\" dy=\"2em\" fill=\"currentColor\" x=\"2250\">DET</tspan>\n",
       "</text>\n",
       "\n",
       "<text class=\"displacy-token\" fill=\"currentColor\" text-anchor=\"middle\" y=\"432.0\">\n",
       "    <tspan class=\"displacy-word\" fill=\"currentColor\" x=\"2360\">adopción</tspan>\n",
       "    <tspan class=\"displacy-tag\" dy=\"2em\" fill=\"currentColor\" x=\"2360\">NOUN</tspan>\n",
       "</text>\n",
       "\n",
       "<text class=\"displacy-token\" fill=\"currentColor\" text-anchor=\"middle\" y=\"432.0\">\n",
       "    <tspan class=\"displacy-word\" fill=\"currentColor\" x=\"2470\">de</tspan>\n",
       "    <tspan class=\"displacy-tag\" dy=\"2em\" fill=\"currentColor\" x=\"2470\">ADP</tspan>\n",
       "</text>\n",
       "\n",
       "<text class=\"displacy-token\" fill=\"currentColor\" text-anchor=\"middle\" y=\"432.0\">\n",
       "    <tspan class=\"displacy-word\" fill=\"currentColor\" x=\"2580\">medidas</tspan>\n",
       "    <tspan class=\"displacy-tag\" dy=\"2em\" fill=\"currentColor\" x=\"2580\">NOUN</tspan>\n",
       "</text>\n",
       "\n",
       "<text class=\"displacy-token\" fill=\"currentColor\" text-anchor=\"middle\" y=\"432.0\">\n",
       "    <tspan class=\"displacy-word\" fill=\"currentColor\" x=\"2690\">que</tspan>\n",
       "    <tspan class=\"displacy-tag\" dy=\"2em\" fill=\"currentColor\" x=\"2690\">PRON</tspan>\n",
       "</text>\n",
       "\n",
       "<text class=\"displacy-token\" fill=\"currentColor\" text-anchor=\"middle\" y=\"432.0\">\n",
       "    <tspan class=\"displacy-word\" fill=\"currentColor\" x=\"2800\">recuperen</tspan>\n",
       "    <tspan class=\"displacy-tag\" dy=\"2em\" fill=\"currentColor\" x=\"2800\">VERB</tspan>\n",
       "</text>\n",
       "\n",
       "<text class=\"displacy-token\" fill=\"currentColor\" text-anchor=\"middle\" y=\"432.0\">\n",
       "    <tspan class=\"displacy-word\" fill=\"currentColor\" x=\"2910\">su</tspan>\n",
       "    <tspan class=\"displacy-tag\" dy=\"2em\" fill=\"currentColor\" x=\"2910\">DET</tspan>\n",
       "</text>\n",
       "\n",
       "<text class=\"displacy-token\" fill=\"currentColor\" text-anchor=\"middle\" y=\"432.0\">\n",
       "    <tspan class=\"displacy-word\" fill=\"currentColor\" x=\"3020\">laguna,</tspan>\n",
       "    <tspan class=\"displacy-tag\" dy=\"2em\" fill=\"currentColor\" x=\"3020\">NOUN</tspan>\n",
       "</text>\n",
       "\n",
       "<text class=\"displacy-token\" fill=\"currentColor\" text-anchor=\"middle\" y=\"432.0\">\n",
       "    <tspan class=\"displacy-word\" fill=\"currentColor\" x=\"3130\">aquella</tspan>\n",
       "    <tspan class=\"displacy-tag\" dy=\"2em\" fill=\"currentColor\" x=\"3130\">PRON</tspan>\n",
       "</text>\n",
       "\n",
       "<text class=\"displacy-token\" fill=\"currentColor\" text-anchor=\"middle\" y=\"432.0\">\n",
       "    <tspan class=\"displacy-word\" fill=\"currentColor\" x=\"3240\">de</tspan>\n",
       "    <tspan class=\"displacy-tag\" dy=\"2em\" fill=\"currentColor\" x=\"3240\">ADP</tspan>\n",
       "</text>\n",
       "\n",
       "<text class=\"displacy-token\" fill=\"currentColor\" text-anchor=\"middle\" y=\"432.0\">\n",
       "    <tspan class=\"displacy-word\" fill=\"currentColor\" x=\"3350\">aguas</tspan>\n",
       "    <tspan class=\"displacy-tag\" dy=\"2em\" fill=\"currentColor\" x=\"3350\">NOUN</tspan>\n",
       "</text>\n",
       "\n",
       "<text class=\"displacy-token\" fill=\"currentColor\" text-anchor=\"middle\" y=\"432.0\">\n",
       "    <tspan class=\"displacy-word\" fill=\"currentColor\" x=\"3460\">transparentes</tspan>\n",
       "    <tspan class=\"displacy-tag\" dy=\"2em\" fill=\"currentColor\" x=\"3460\">ADJ</tspan>\n",
       "</text>\n",
       "\n",
       "<text class=\"displacy-token\" fill=\"currentColor\" text-anchor=\"middle\" y=\"432.0\">\n",
       "    <tspan class=\"displacy-word\" fill=\"currentColor\" x=\"3570\">que</tspan>\n",
       "    <tspan class=\"displacy-tag\" dy=\"2em\" fill=\"currentColor\" x=\"3570\">PRON</tspan>\n",
       "</text>\n",
       "\n",
       "<text class=\"displacy-token\" fill=\"currentColor\" text-anchor=\"middle\" y=\"432.0\">\n",
       "    <tspan class=\"displacy-word\" fill=\"currentColor\" x=\"3680\">conocieron</tspan>\n",
       "    <tspan class=\"displacy-tag\" dy=\"2em\" fill=\"currentColor\" x=\"3680\">VERB</tspan>\n",
       "</text>\n",
       "\n",
       "<text class=\"displacy-token\" fill=\"currentColor\" text-anchor=\"middle\" y=\"432.0\">\n",
       "    <tspan class=\"displacy-word\" fill=\"currentColor\" x=\"3790\">antaño</tspan>\n",
       "    <tspan class=\"displacy-tag\" dy=\"2em\" fill=\"currentColor\" x=\"3790\">ADV</tspan>\n",
       "</text>\n",
       "\n",
       "<text class=\"displacy-token\" fill=\"currentColor\" text-anchor=\"middle\" y=\"432.0\">\n",
       "    <tspan class=\"displacy-word\" fill=\"currentColor\" x=\"3900\">y</tspan>\n",
       "    <tspan class=\"displacy-tag\" dy=\"2em\" fill=\"currentColor\" x=\"3900\">CCONJ</tspan>\n",
       "</text>\n",
       "\n",
       "<text class=\"displacy-token\" fill=\"currentColor\" text-anchor=\"middle\" y=\"432.0\">\n",
       "    <tspan class=\"displacy-word\" fill=\"currentColor\" x=\"4010\">han</tspan>\n",
       "    <tspan class=\"displacy-tag\" dy=\"2em\" fill=\"currentColor\" x=\"4010\">AUX</tspan>\n",
       "</text>\n",
       "\n",
       "<text class=\"displacy-token\" fill=\"currentColor\" text-anchor=\"middle\" y=\"432.0\">\n",
       "    <tspan class=\"displacy-word\" fill=\"currentColor\" x=\"4120\">perdido.</tspan>\n",
       "    <tspan class=\"displacy-tag\" dy=\"2em\" fill=\"currentColor\" x=\"4120\">VERB</tspan>\n",
       "</text>\n",
       "\n",
       "<g class=\"displacy-arrow\">\n",
       "    <path class=\"displacy-arc\" id=\"arrow-e74a3efcf93f47628d4bebde4a6a647d-1-0\" stroke-width=\"2px\" d=\"M70,387.0 C70,277.0 245.0,277.0 245.0,387.0\" fill=\"none\" stroke=\"currentColor\"/>\n",
       "    <text dy=\"1.25em\" style=\"font-size: 0.8em; letter-spacing: 1px\">\n",
       "        <textPath xlink:href=\"#arrow-e74a3efcf93f47628d4bebde4a6a647d-1-0\" class=\"displacy-label\" startOffset=\"50%\" side=\"left\" fill=\"currentColor\" text-anchor=\"middle\">case</textPath>\n",
       "    </text>\n",
       "    <path class=\"displacy-arrowhead\" d=\"M70,389.0 L62,377.0 78,377.0\" fill=\"currentColor\"/>\n",
       "</g>\n",
       "\n",
       "<g class=\"displacy-arrow\">\n",
       "    <path class=\"displacy-arc\" id=\"arrow-e74a3efcf93f47628d4bebde4a6a647d-1-1\" stroke-width=\"2px\" d=\"M180,387.0 C180,332.0 240.0,332.0 240.0,387.0\" fill=\"none\" stroke=\"currentColor\"/>\n",
       "    <text dy=\"1.25em\" style=\"font-size: 0.8em; letter-spacing: 1px\">\n",
       "        <textPath xlink:href=\"#arrow-e74a3efcf93f47628d4bebde4a6a647d-1-1\" class=\"displacy-label\" startOffset=\"50%\" side=\"left\" fill=\"currentColor\" text-anchor=\"middle\">det</textPath>\n",
       "    </text>\n",
       "    <path class=\"displacy-arrowhead\" d=\"M180,389.0 L172,377.0 188,377.0\" fill=\"currentColor\"/>\n",
       "</g>\n",
       "\n",
       "<g class=\"displacy-arrow\">\n",
       "    <path class=\"displacy-arc\" id=\"arrow-e74a3efcf93f47628d4bebde4a6a647d-1-2\" stroke-width=\"2px\" d=\"M290,387.0 C290,112.0 810.0,112.0 810.0,387.0\" fill=\"none\" stroke=\"currentColor\"/>\n",
       "    <text dy=\"1.25em\" style=\"font-size: 0.8em; letter-spacing: 1px\">\n",
       "        <textPath xlink:href=\"#arrow-e74a3efcf93f47628d4bebde4a6a647d-1-2\" class=\"displacy-label\" startOffset=\"50%\" side=\"left\" fill=\"currentColor\" text-anchor=\"middle\">obl</textPath>\n",
       "    </text>\n",
       "    <path class=\"displacy-arrowhead\" d=\"M290,389.0 L282,377.0 298,377.0\" fill=\"currentColor\"/>\n",
       "</g>\n",
       "\n",
       "<g class=\"displacy-arrow\">\n",
       "    <path class=\"displacy-arc\" id=\"arrow-e74a3efcf93f47628d4bebde4a6a647d-1-3\" stroke-width=\"2px\" d=\"M400,387.0 C400,167.0 805.0,167.0 805.0,387.0\" fill=\"none\" stroke=\"currentColor\"/>\n",
       "    <text dy=\"1.25em\" style=\"font-size: 0.8em; letter-spacing: 1px\">\n",
       "        <textPath xlink:href=\"#arrow-e74a3efcf93f47628d4bebde4a6a647d-1-3\" class=\"displacy-label\" startOffset=\"50%\" side=\"left\" fill=\"currentColor\" text-anchor=\"middle\">nsubj</textPath>\n",
       "    </text>\n",
       "    <path class=\"displacy-arrowhead\" d=\"M400,389.0 L392,377.0 408,377.0\" fill=\"currentColor\"/>\n",
       "</g>\n",
       "\n",
       "<g class=\"displacy-arrow\">\n",
       "    <path class=\"displacy-arc\" id=\"arrow-e74a3efcf93f47628d4bebde4a6a647d-1-4\" stroke-width=\"2px\" d=\"M510,387.0 C510,332.0 570.0,332.0 570.0,387.0\" fill=\"none\" stroke=\"currentColor\"/>\n",
       "    <text dy=\"1.25em\" style=\"font-size: 0.8em; letter-spacing: 1px\">\n",
       "        <textPath xlink:href=\"#arrow-e74a3efcf93f47628d4bebde4a6a647d-1-4\" class=\"displacy-label\" startOffset=\"50%\" side=\"left\" fill=\"currentColor\" text-anchor=\"middle\">case</textPath>\n",
       "    </text>\n",
       "    <path class=\"displacy-arrowhead\" d=\"M510,389.0 L502,377.0 518,377.0\" fill=\"currentColor\"/>\n",
       "</g>\n",
       "\n",
       "<g class=\"displacy-arrow\">\n",
       "    <path class=\"displacy-arc\" id=\"arrow-e74a3efcf93f47628d4bebde4a6a647d-1-5\" stroke-width=\"2px\" d=\"M400,387.0 C400,277.0 575.0,277.0 575.0,387.0\" fill=\"none\" stroke=\"currentColor\"/>\n",
       "    <text dy=\"1.25em\" style=\"font-size: 0.8em; letter-spacing: 1px\">\n",
       "        <textPath xlink:href=\"#arrow-e74a3efcf93f47628d4bebde4a6a647d-1-5\" class=\"displacy-label\" startOffset=\"50%\" side=\"left\" fill=\"currentColor\" text-anchor=\"middle\">nmod</textPath>\n",
       "    </text>\n",
       "    <path class=\"displacy-arrowhead\" d=\"M575.0,389.0 L583.0,377.0 567.0,377.0\" fill=\"currentColor\"/>\n",
       "</g>\n",
       "\n",
       "<g class=\"displacy-arrow\">\n",
       "    <path class=\"displacy-arc\" id=\"arrow-e74a3efcf93f47628d4bebde4a6a647d-1-6\" stroke-width=\"2px\" d=\"M730,387.0 C730,332.0 790.0,332.0 790.0,387.0\" fill=\"none\" stroke=\"currentColor\"/>\n",
       "    <text dy=\"1.25em\" style=\"font-size: 0.8em; letter-spacing: 1px\">\n",
       "        <textPath xlink:href=\"#arrow-e74a3efcf93f47628d4bebde4a6a647d-1-6\" class=\"displacy-label\" startOffset=\"50%\" side=\"left\" fill=\"currentColor\" text-anchor=\"middle\">aux</textPath>\n",
       "    </text>\n",
       "    <path class=\"displacy-arrowhead\" d=\"M730,389.0 L722,377.0 738,377.0\" fill=\"currentColor\"/>\n",
       "</g>\n",
       "\n",
       "<g class=\"displacy-arrow\">\n",
       "    <path class=\"displacy-arc\" id=\"arrow-e74a3efcf93f47628d4bebde4a6a647d-1-7\" stroke-width=\"2px\" d=\"M950,387.0 C950,332.0 1010.0,332.0 1010.0,387.0\" fill=\"none\" stroke=\"currentColor\"/>\n",
       "    <text dy=\"1.25em\" style=\"font-size: 0.8em; letter-spacing: 1px\">\n",
       "        <textPath xlink:href=\"#arrow-e74a3efcf93f47628d4bebde4a6a647d-1-7\" class=\"displacy-label\" startOffset=\"50%\" side=\"left\" fill=\"currentColor\" text-anchor=\"middle\">det</textPath>\n",
       "    </text>\n",
       "    <path class=\"displacy-arrowhead\" d=\"M950,389.0 L942,377.0 958,377.0\" fill=\"currentColor\"/>\n",
       "</g>\n",
       "\n",
       "<g class=\"displacy-arrow\">\n",
       "    <path class=\"displacy-arc\" id=\"arrow-e74a3efcf93f47628d4bebde4a6a647d-1-8\" stroke-width=\"2px\" d=\"M840,387.0 C840,277.0 1015.0,277.0 1015.0,387.0\" fill=\"none\" stroke=\"currentColor\"/>\n",
       "    <text dy=\"1.25em\" style=\"font-size: 0.8em; letter-spacing: 1px\">\n",
       "        <textPath xlink:href=\"#arrow-e74a3efcf93f47628d4bebde4a6a647d-1-8\" class=\"displacy-label\" startOffset=\"50%\" side=\"left\" fill=\"currentColor\" text-anchor=\"middle\">obj</textPath>\n",
       "    </text>\n",
       "    <path class=\"displacy-arrowhead\" d=\"M1015.0,389.0 L1023.0,377.0 1007.0,377.0\" fill=\"currentColor\"/>\n",
       "</g>\n",
       "\n",
       "<g class=\"displacy-arrow\">\n",
       "    <path class=\"displacy-arc\" id=\"arrow-e74a3efcf93f47628d4bebde4a6a647d-1-9\" stroke-width=\"2px\" d=\"M1170,387.0 C1170,332.0 1230.0,332.0 1230.0,387.0\" fill=\"none\" stroke=\"currentColor\"/>\n",
       "    <text dy=\"1.25em\" style=\"font-size: 0.8em; letter-spacing: 1px\">\n",
       "        <textPath xlink:href=\"#arrow-e74a3efcf93f47628d4bebde4a6a647d-1-9\" class=\"displacy-label\" startOffset=\"50%\" side=\"left\" fill=\"currentColor\" text-anchor=\"middle\">case</textPath>\n",
       "    </text>\n",
       "    <path class=\"displacy-arrowhead\" d=\"M1170,389.0 L1162,377.0 1178,377.0\" fill=\"currentColor\"/>\n",
       "</g>\n",
       "\n",
       "<g class=\"displacy-arrow\">\n",
       "    <path class=\"displacy-arc\" id=\"arrow-e74a3efcf93f47628d4bebde4a6a647d-1-10\" stroke-width=\"2px\" d=\"M1060,387.0 C1060,277.0 1235.0,277.0 1235.0,387.0\" fill=\"none\" stroke=\"currentColor\"/>\n",
       "    <text dy=\"1.25em\" style=\"font-size: 0.8em; letter-spacing: 1px\">\n",
       "        <textPath xlink:href=\"#arrow-e74a3efcf93f47628d4bebde4a6a647d-1-10\" class=\"displacy-label\" startOffset=\"50%\" side=\"left\" fill=\"currentColor\" text-anchor=\"middle\">nmod</textPath>\n",
       "    </text>\n",
       "    <path class=\"displacy-arrowhead\" d=\"M1235.0,389.0 L1243.0,377.0 1227.0,377.0\" fill=\"currentColor\"/>\n",
       "</g>\n",
       "\n",
       "<g class=\"displacy-arrow\">\n",
       "    <path class=\"displacy-arc\" id=\"arrow-e74a3efcf93f47628d4bebde4a6a647d-1-11\" stroke-width=\"2px\" d=\"M1390,387.0 C1390,332.0 1450.0,332.0 1450.0,387.0\" fill=\"none\" stroke=\"currentColor\"/>\n",
       "    <text dy=\"1.25em\" style=\"font-size: 0.8em; letter-spacing: 1px\">\n",
       "        <textPath xlink:href=\"#arrow-e74a3efcf93f47628d4bebde4a6a647d-1-11\" class=\"displacy-label\" startOffset=\"50%\" side=\"left\" fill=\"currentColor\" text-anchor=\"middle\">det</textPath>\n",
       "    </text>\n",
       "    <path class=\"displacy-arrowhead\" d=\"M1390,389.0 L1382,377.0 1398,377.0\" fill=\"currentColor\"/>\n",
       "</g>\n",
       "\n",
       "<g class=\"displacy-arrow\">\n",
       "    <path class=\"displacy-arc\" id=\"arrow-e74a3efcf93f47628d4bebde4a6a647d-1-12\" stroke-width=\"2px\" d=\"M840,387.0 C840,57.0 1475.0,57.0 1475.0,387.0\" fill=\"none\" stroke=\"currentColor\"/>\n",
       "    <text dy=\"1.25em\" style=\"font-size: 0.8em; letter-spacing: 1px\">\n",
       "        <textPath xlink:href=\"#arrow-e74a3efcf93f47628d4bebde4a6a647d-1-12\" class=\"displacy-label\" startOffset=\"50%\" side=\"left\" fill=\"currentColor\" text-anchor=\"middle\">obl</textPath>\n",
       "    </text>\n",
       "    <path class=\"displacy-arrowhead\" d=\"M1475.0,389.0 L1483.0,377.0 1467.0,377.0\" fill=\"currentColor\"/>\n",
       "</g>\n",
       "\n",
       "<g class=\"displacy-arrow\">\n",
       "    <path class=\"displacy-arc\" id=\"arrow-e74a3efcf93f47628d4bebde4a6a647d-1-13\" stroke-width=\"2px\" d=\"M1610,387.0 C1610,332.0 1670.0,332.0 1670.0,387.0\" fill=\"none\" stroke=\"currentColor\"/>\n",
       "    <text dy=\"1.25em\" style=\"font-size: 0.8em; letter-spacing: 1px\">\n",
       "        <textPath xlink:href=\"#arrow-e74a3efcf93f47628d4bebde4a6a647d-1-13\" class=\"displacy-label\" startOffset=\"50%\" side=\"left\" fill=\"currentColor\" text-anchor=\"middle\">mark</textPath>\n",
       "    </text>\n",
       "    <path class=\"displacy-arrowhead\" d=\"M1610,389.0 L1602,377.0 1618,377.0\" fill=\"currentColor\"/>\n",
       "</g>\n",
       "\n",
       "<g class=\"displacy-arrow\">\n",
       "    <path class=\"displacy-arc\" id=\"arrow-e74a3efcf93f47628d4bebde4a6a647d-1-14\" stroke-width=\"2px\" d=\"M840,387.0 C840,2.0 1700.0,2.0 1700.0,387.0\" fill=\"none\" stroke=\"currentColor\"/>\n",
       "    <text dy=\"1.25em\" style=\"font-size: 0.8em; letter-spacing: 1px\">\n",
       "        <textPath xlink:href=\"#arrow-e74a3efcf93f47628d4bebde4a6a647d-1-14\" class=\"displacy-label\" startOffset=\"50%\" side=\"left\" fill=\"currentColor\" text-anchor=\"middle\">advcl</textPath>\n",
       "    </text>\n",
       "    <path class=\"displacy-arrowhead\" d=\"M1700.0,389.0 L1708.0,377.0 1692.0,377.0\" fill=\"currentColor\"/>\n",
       "</g>\n",
       "\n",
       "<g class=\"displacy-arrow\">\n",
       "    <path class=\"displacy-arc\" id=\"arrow-e74a3efcf93f47628d4bebde4a6a647d-1-15\" stroke-width=\"2px\" d=\"M1830,387.0 C1830,277.0 2005.0,277.0 2005.0,387.0\" fill=\"none\" stroke=\"currentColor\"/>\n",
       "    <text dy=\"1.25em\" style=\"font-size: 0.8em; letter-spacing: 1px\">\n",
       "        <textPath xlink:href=\"#arrow-e74a3efcf93f47628d4bebde4a6a647d-1-15\" class=\"displacy-label\" startOffset=\"50%\" side=\"left\" fill=\"currentColor\" text-anchor=\"middle\">case</textPath>\n",
       "    </text>\n",
       "    <path class=\"displacy-arrowhead\" d=\"M1830,389.0 L1822,377.0 1838,377.0\" fill=\"currentColor\"/>\n",
       "</g>\n",
       "\n",
       "<g class=\"displacy-arrow\">\n",
       "    <path class=\"displacy-arc\" id=\"arrow-e74a3efcf93f47628d4bebde4a6a647d-1-16\" stroke-width=\"2px\" d=\"M1940,387.0 C1940,332.0 2000.0,332.0 2000.0,387.0\" fill=\"none\" stroke=\"currentColor\"/>\n",
       "    <text dy=\"1.25em\" style=\"font-size: 0.8em; letter-spacing: 1px\">\n",
       "        <textPath xlink:href=\"#arrow-e74a3efcf93f47628d4bebde4a6a647d-1-16\" class=\"displacy-label\" startOffset=\"50%\" side=\"left\" fill=\"currentColor\" text-anchor=\"middle\">det</textPath>\n",
       "    </text>\n",
       "    <path class=\"displacy-arrowhead\" d=\"M1940,389.0 L1932,377.0 1948,377.0\" fill=\"currentColor\"/>\n",
       "</g>\n",
       "\n",
       "<g class=\"displacy-arrow\">\n",
       "    <path class=\"displacy-arc\" id=\"arrow-e74a3efcf93f47628d4bebde4a6a647d-1-17\" stroke-width=\"2px\" d=\"M1720,387.0 C1720,222.0 2010.0,222.0 2010.0,387.0\" fill=\"none\" stroke=\"currentColor\"/>\n",
       "    <text dy=\"1.25em\" style=\"font-size: 0.8em; letter-spacing: 1px\">\n",
       "        <textPath xlink:href=\"#arrow-e74a3efcf93f47628d4bebde4a6a647d-1-17\" class=\"displacy-label\" startOffset=\"50%\" side=\"left\" fill=\"currentColor\" text-anchor=\"middle\">obj</textPath>\n",
       "    </text>\n",
       "    <path class=\"displacy-arrowhead\" d=\"M2010.0,389.0 L2018.0,377.0 2002.0,377.0\" fill=\"currentColor\"/>\n",
       "</g>\n",
       "\n",
       "<g class=\"displacy-arrow\">\n",
       "    <path class=\"displacy-arc\" id=\"arrow-e74a3efcf93f47628d4bebde4a6a647d-1-18\" stroke-width=\"2px\" d=\"M2050,387.0 C2050,332.0 2110.0,332.0 2110.0,387.0\" fill=\"none\" stroke=\"currentColor\"/>\n",
       "    <text dy=\"1.25em\" style=\"font-size: 0.8em; letter-spacing: 1px\">\n",
       "        <textPath xlink:href=\"#arrow-e74a3efcf93f47628d4bebde4a6a647d-1-18\" class=\"displacy-label\" startOffset=\"50%\" side=\"left\" fill=\"currentColor\" text-anchor=\"middle\">amod</textPath>\n",
       "    </text>\n",
       "    <path class=\"displacy-arrowhead\" d=\"M2110.0,389.0 L2118.0,377.0 2102.0,377.0\" fill=\"currentColor\"/>\n",
       "</g>\n",
       "\n",
       "<g class=\"displacy-arrow\">\n",
       "    <path class=\"displacy-arc\" id=\"arrow-e74a3efcf93f47628d4bebde4a6a647d-1-19\" stroke-width=\"2px\" d=\"M2270,387.0 C2270,332.0 2330.0,332.0 2330.0,387.0\" fill=\"none\" stroke=\"currentColor\"/>\n",
       "    <text dy=\"1.25em\" style=\"font-size: 0.8em; letter-spacing: 1px\">\n",
       "        <textPath xlink:href=\"#arrow-e74a3efcf93f47628d4bebde4a6a647d-1-19\" class=\"displacy-label\" startOffset=\"50%\" side=\"left\" fill=\"currentColor\" text-anchor=\"middle\">det</textPath>\n",
       "    </text>\n",
       "    <path class=\"displacy-arrowhead\" d=\"M2270,389.0 L2262,377.0 2278,377.0\" fill=\"currentColor\"/>\n",
       "</g>\n",
       "\n",
       "<g class=\"displacy-arrow\">\n",
       "    <path class=\"displacy-arc\" id=\"arrow-e74a3efcf93f47628d4bebde4a6a647d-1-20\" stroke-width=\"2px\" d=\"M1720,387.0 C1720,57.0 2355.0,57.0 2355.0,387.0\" fill=\"none\" stroke=\"currentColor\"/>\n",
       "    <text dy=\"1.25em\" style=\"font-size: 0.8em; letter-spacing: 1px\">\n",
       "        <textPath xlink:href=\"#arrow-e74a3efcf93f47628d4bebde4a6a647d-1-20\" class=\"displacy-label\" startOffset=\"50%\" side=\"left\" fill=\"currentColor\" text-anchor=\"middle\">obj</textPath>\n",
       "    </text>\n",
       "    <path class=\"displacy-arrowhead\" d=\"M2355.0,389.0 L2363.0,377.0 2347.0,377.0\" fill=\"currentColor\"/>\n",
       "</g>\n",
       "\n",
       "<g class=\"displacy-arrow\">\n",
       "    <path class=\"displacy-arc\" id=\"arrow-e74a3efcf93f47628d4bebde4a6a647d-1-21\" stroke-width=\"2px\" d=\"M2490,387.0 C2490,332.0 2550.0,332.0 2550.0,387.0\" fill=\"none\" stroke=\"currentColor\"/>\n",
       "    <text dy=\"1.25em\" style=\"font-size: 0.8em; letter-spacing: 1px\">\n",
       "        <textPath xlink:href=\"#arrow-e74a3efcf93f47628d4bebde4a6a647d-1-21\" class=\"displacy-label\" startOffset=\"50%\" side=\"left\" fill=\"currentColor\" text-anchor=\"middle\">case</textPath>\n",
       "    </text>\n",
       "    <path class=\"displacy-arrowhead\" d=\"M2490,389.0 L2482,377.0 2498,377.0\" fill=\"currentColor\"/>\n",
       "</g>\n",
       "\n",
       "<g class=\"displacy-arrow\">\n",
       "    <path class=\"displacy-arc\" id=\"arrow-e74a3efcf93f47628d4bebde4a6a647d-1-22\" stroke-width=\"2px\" d=\"M2380,387.0 C2380,277.0 2555.0,277.0 2555.0,387.0\" fill=\"none\" stroke=\"currentColor\"/>\n",
       "    <text dy=\"1.25em\" style=\"font-size: 0.8em; letter-spacing: 1px\">\n",
       "        <textPath xlink:href=\"#arrow-e74a3efcf93f47628d4bebde4a6a647d-1-22\" class=\"displacy-label\" startOffset=\"50%\" side=\"left\" fill=\"currentColor\" text-anchor=\"middle\">nmod</textPath>\n",
       "    </text>\n",
       "    <path class=\"displacy-arrowhead\" d=\"M2555.0,389.0 L2563.0,377.0 2547.0,377.0\" fill=\"currentColor\"/>\n",
       "</g>\n",
       "\n",
       "<g class=\"displacy-arrow\">\n",
       "    <path class=\"displacy-arc\" id=\"arrow-e74a3efcf93f47628d4bebde4a6a647d-1-23\" stroke-width=\"2px\" d=\"M2710,387.0 C2710,332.0 2770.0,332.0 2770.0,387.0\" fill=\"none\" stroke=\"currentColor\"/>\n",
       "    <text dy=\"1.25em\" style=\"font-size: 0.8em; letter-spacing: 1px\">\n",
       "        <textPath xlink:href=\"#arrow-e74a3efcf93f47628d4bebde4a6a647d-1-23\" class=\"displacy-label\" startOffset=\"50%\" side=\"left\" fill=\"currentColor\" text-anchor=\"middle\">nsubj</textPath>\n",
       "    </text>\n",
       "    <path class=\"displacy-arrowhead\" d=\"M2710,389.0 L2702,377.0 2718,377.0\" fill=\"currentColor\"/>\n",
       "</g>\n",
       "\n",
       "<g class=\"displacy-arrow\">\n",
       "    <path class=\"displacy-arc\" id=\"arrow-e74a3efcf93f47628d4bebde4a6a647d-1-24\" stroke-width=\"2px\" d=\"M2600,387.0 C2600,277.0 2775.0,277.0 2775.0,387.0\" fill=\"none\" stroke=\"currentColor\"/>\n",
       "    <text dy=\"1.25em\" style=\"font-size: 0.8em; letter-spacing: 1px\">\n",
       "        <textPath xlink:href=\"#arrow-e74a3efcf93f47628d4bebde4a6a647d-1-24\" class=\"displacy-label\" startOffset=\"50%\" side=\"left\" fill=\"currentColor\" text-anchor=\"middle\">acl</textPath>\n",
       "    </text>\n",
       "    <path class=\"displacy-arrowhead\" d=\"M2775.0,389.0 L2783.0,377.0 2767.0,377.0\" fill=\"currentColor\"/>\n",
       "</g>\n",
       "\n",
       "<g class=\"displacy-arrow\">\n",
       "    <path class=\"displacy-arc\" id=\"arrow-e74a3efcf93f47628d4bebde4a6a647d-1-25\" stroke-width=\"2px\" d=\"M2930,387.0 C2930,332.0 2990.0,332.0 2990.0,387.0\" fill=\"none\" stroke=\"currentColor\"/>\n",
       "    <text dy=\"1.25em\" style=\"font-size: 0.8em; letter-spacing: 1px\">\n",
       "        <textPath xlink:href=\"#arrow-e74a3efcf93f47628d4bebde4a6a647d-1-25\" class=\"displacy-label\" startOffset=\"50%\" side=\"left\" fill=\"currentColor\" text-anchor=\"middle\">det</textPath>\n",
       "    </text>\n",
       "    <path class=\"displacy-arrowhead\" d=\"M2930,389.0 L2922,377.0 2938,377.0\" fill=\"currentColor\"/>\n",
       "</g>\n",
       "\n",
       "<g class=\"displacy-arrow\">\n",
       "    <path class=\"displacy-arc\" id=\"arrow-e74a3efcf93f47628d4bebde4a6a647d-1-26\" stroke-width=\"2px\" d=\"M2820,387.0 C2820,277.0 2995.0,277.0 2995.0,387.0\" fill=\"none\" stroke=\"currentColor\"/>\n",
       "    <text dy=\"1.25em\" style=\"font-size: 0.8em; letter-spacing: 1px\">\n",
       "        <textPath xlink:href=\"#arrow-e74a3efcf93f47628d4bebde4a6a647d-1-26\" class=\"displacy-label\" startOffset=\"50%\" side=\"left\" fill=\"currentColor\" text-anchor=\"middle\">obj</textPath>\n",
       "    </text>\n",
       "    <path class=\"displacy-arrowhead\" d=\"M2995.0,389.0 L3003.0,377.0 2987.0,377.0\" fill=\"currentColor\"/>\n",
       "</g>\n",
       "\n",
       "<g class=\"displacy-arrow\">\n",
       "    <path class=\"displacy-arc\" id=\"arrow-e74a3efcf93f47628d4bebde4a6a647d-1-27\" stroke-width=\"2px\" d=\"M3040,387.0 C3040,332.0 3100.0,332.0 3100.0,387.0\" fill=\"none\" stroke=\"currentColor\"/>\n",
       "    <text dy=\"1.25em\" style=\"font-size: 0.8em; letter-spacing: 1px\">\n",
       "        <textPath xlink:href=\"#arrow-e74a3efcf93f47628d4bebde4a6a647d-1-27\" class=\"displacy-label\" startOffset=\"50%\" side=\"left\" fill=\"currentColor\" text-anchor=\"middle\">appos</textPath>\n",
       "    </text>\n",
       "    <path class=\"displacy-arrowhead\" d=\"M3100.0,389.0 L3108.0,377.0 3092.0,377.0\" fill=\"currentColor\"/>\n",
       "</g>\n",
       "\n",
       "<g class=\"displacy-arrow\">\n",
       "    <path class=\"displacy-arc\" id=\"arrow-e74a3efcf93f47628d4bebde4a6a647d-1-28\" stroke-width=\"2px\" d=\"M3260,387.0 C3260,332.0 3320.0,332.0 3320.0,387.0\" fill=\"none\" stroke=\"currentColor\"/>\n",
       "    <text dy=\"1.25em\" style=\"font-size: 0.8em; letter-spacing: 1px\">\n",
       "        <textPath xlink:href=\"#arrow-e74a3efcf93f47628d4bebde4a6a647d-1-28\" class=\"displacy-label\" startOffset=\"50%\" side=\"left\" fill=\"currentColor\" text-anchor=\"middle\">case</textPath>\n",
       "    </text>\n",
       "    <path class=\"displacy-arrowhead\" d=\"M3260,389.0 L3252,377.0 3268,377.0\" fill=\"currentColor\"/>\n",
       "</g>\n",
       "\n",
       "<g class=\"displacy-arrow\">\n",
       "    <path class=\"displacy-arc\" id=\"arrow-e74a3efcf93f47628d4bebde4a6a647d-1-29\" stroke-width=\"2px\" d=\"M3150,387.0 C3150,277.0 3325.0,277.0 3325.0,387.0\" fill=\"none\" stroke=\"currentColor\"/>\n",
       "    <text dy=\"1.25em\" style=\"font-size: 0.8em; letter-spacing: 1px\">\n",
       "        <textPath xlink:href=\"#arrow-e74a3efcf93f47628d4bebde4a6a647d-1-29\" class=\"displacy-label\" startOffset=\"50%\" side=\"left\" fill=\"currentColor\" text-anchor=\"middle\">nmod</textPath>\n",
       "    </text>\n",
       "    <path class=\"displacy-arrowhead\" d=\"M3325.0,389.0 L3333.0,377.0 3317.0,377.0\" fill=\"currentColor\"/>\n",
       "</g>\n",
       "\n",
       "<g class=\"displacy-arrow\">\n",
       "    <path class=\"displacy-arc\" id=\"arrow-e74a3efcf93f47628d4bebde4a6a647d-1-30\" stroke-width=\"2px\" d=\"M3370,387.0 C3370,332.0 3430.0,332.0 3430.0,387.0\" fill=\"none\" stroke=\"currentColor\"/>\n",
       "    <text dy=\"1.25em\" style=\"font-size: 0.8em; letter-spacing: 1px\">\n",
       "        <textPath xlink:href=\"#arrow-e74a3efcf93f47628d4bebde4a6a647d-1-30\" class=\"displacy-label\" startOffset=\"50%\" side=\"left\" fill=\"currentColor\" text-anchor=\"middle\">amod</textPath>\n",
       "    </text>\n",
       "    <path class=\"displacy-arrowhead\" d=\"M3430.0,389.0 L3438.0,377.0 3422.0,377.0\" fill=\"currentColor\"/>\n",
       "</g>\n",
       "\n",
       "<g class=\"displacy-arrow\">\n",
       "    <path class=\"displacy-arc\" id=\"arrow-e74a3efcf93f47628d4bebde4a6a647d-1-31\" stroke-width=\"2px\" d=\"M3590,387.0 C3590,332.0 3650.0,332.0 3650.0,387.0\" fill=\"none\" stroke=\"currentColor\"/>\n",
       "    <text dy=\"1.25em\" style=\"font-size: 0.8em; letter-spacing: 1px\">\n",
       "        <textPath xlink:href=\"#arrow-e74a3efcf93f47628d4bebde4a6a647d-1-31\" class=\"displacy-label\" startOffset=\"50%\" side=\"left\" fill=\"currentColor\" text-anchor=\"middle\">obj</textPath>\n",
       "    </text>\n",
       "    <path class=\"displacy-arrowhead\" d=\"M3590,389.0 L3582,377.0 3598,377.0\" fill=\"currentColor\"/>\n",
       "</g>\n",
       "\n",
       "<g class=\"displacy-arrow\">\n",
       "    <path class=\"displacy-arc\" id=\"arrow-e74a3efcf93f47628d4bebde4a6a647d-1-32\" stroke-width=\"2px\" d=\"M3370,387.0 C3370,222.0 3660.0,222.0 3660.0,387.0\" fill=\"none\" stroke=\"currentColor\"/>\n",
       "    <text dy=\"1.25em\" style=\"font-size: 0.8em; letter-spacing: 1px\">\n",
       "        <textPath xlink:href=\"#arrow-e74a3efcf93f47628d4bebde4a6a647d-1-32\" class=\"displacy-label\" startOffset=\"50%\" side=\"left\" fill=\"currentColor\" text-anchor=\"middle\">acl</textPath>\n",
       "    </text>\n",
       "    <path class=\"displacy-arrowhead\" d=\"M3660.0,389.0 L3668.0,377.0 3652.0,377.0\" fill=\"currentColor\"/>\n",
       "</g>\n",
       "\n",
       "<g class=\"displacy-arrow\">\n",
       "    <path class=\"displacy-arc\" id=\"arrow-e74a3efcf93f47628d4bebde4a6a647d-1-33\" stroke-width=\"2px\" d=\"M3700,387.0 C3700,332.0 3760.0,332.0 3760.0,387.0\" fill=\"none\" stroke=\"currentColor\"/>\n",
       "    <text dy=\"1.25em\" style=\"font-size: 0.8em; letter-spacing: 1px\">\n",
       "        <textPath xlink:href=\"#arrow-e74a3efcf93f47628d4bebde4a6a647d-1-33\" class=\"displacy-label\" startOffset=\"50%\" side=\"left\" fill=\"currentColor\" text-anchor=\"middle\">advmod</textPath>\n",
       "    </text>\n",
       "    <path class=\"displacy-arrowhead\" d=\"M3760.0,389.0 L3768.0,377.0 3752.0,377.0\" fill=\"currentColor\"/>\n",
       "</g>\n",
       "\n",
       "<g class=\"displacy-arrow\">\n",
       "    <path class=\"displacy-arc\" id=\"arrow-e74a3efcf93f47628d4bebde4a6a647d-1-34\" stroke-width=\"2px\" d=\"M3920,387.0 C3920,277.0 4095.0,277.0 4095.0,387.0\" fill=\"none\" stroke=\"currentColor\"/>\n",
       "    <text dy=\"1.25em\" style=\"font-size: 0.8em; letter-spacing: 1px\">\n",
       "        <textPath xlink:href=\"#arrow-e74a3efcf93f47628d4bebde4a6a647d-1-34\" class=\"displacy-label\" startOffset=\"50%\" side=\"left\" fill=\"currentColor\" text-anchor=\"middle\">cc</textPath>\n",
       "    </text>\n",
       "    <path class=\"displacy-arrowhead\" d=\"M3920,389.0 L3912,377.0 3928,377.0\" fill=\"currentColor\"/>\n",
       "</g>\n",
       "\n",
       "<g class=\"displacy-arrow\">\n",
       "    <path class=\"displacy-arc\" id=\"arrow-e74a3efcf93f47628d4bebde4a6a647d-1-35\" stroke-width=\"2px\" d=\"M4030,387.0 C4030,332.0 4090.0,332.0 4090.0,387.0\" fill=\"none\" stroke=\"currentColor\"/>\n",
       "    <text dy=\"1.25em\" style=\"font-size: 0.8em; letter-spacing: 1px\">\n",
       "        <textPath xlink:href=\"#arrow-e74a3efcf93f47628d4bebde4a6a647d-1-35\" class=\"displacy-label\" startOffset=\"50%\" side=\"left\" fill=\"currentColor\" text-anchor=\"middle\">aux</textPath>\n",
       "    </text>\n",
       "    <path class=\"displacy-arrowhead\" d=\"M4030,389.0 L4022,377.0 4038,377.0\" fill=\"currentColor\"/>\n",
       "</g>\n",
       "\n",
       "<g class=\"displacy-arrow\">\n",
       "    <path class=\"displacy-arc\" id=\"arrow-e74a3efcf93f47628d4bebde4a6a647d-1-36\" stroke-width=\"2px\" d=\"M3700,387.0 C3700,167.0 4105.0,167.0 4105.0,387.0\" fill=\"none\" stroke=\"currentColor\"/>\n",
       "    <text dy=\"1.25em\" style=\"font-size: 0.8em; letter-spacing: 1px\">\n",
       "        <textPath xlink:href=\"#arrow-e74a3efcf93f47628d4bebde4a6a647d-1-36\" class=\"displacy-label\" startOffset=\"50%\" side=\"left\" fill=\"currentColor\" text-anchor=\"middle\">conj</textPath>\n",
       "    </text>\n",
       "    <path class=\"displacy-arrowhead\" d=\"M4105.0,389.0 L4113.0,377.0 4097.0,377.0\" fill=\"currentColor\"/>\n",
       "</g>\n",
       "</svg>\n",
       "</figure>\n",
       "\n",
       "<figure style=\"margin-bottom: 6rem\">\n",
       "<svg xmlns=\"http://www.w3.org/2000/svg\" xmlns:xlink=\"http://www.w3.org/1999/xlink\" xml:lang=\"es\" id=\"e74a3efcf93f47628d4bebde4a6a647d-2\" class=\"displacy\" width=\"1260\" height=\"357.0\" direction=\"ltr\" style=\"max-width: none; height: 357.0px; color: brown; background: #ffffff; font-family: Monaco; direction: ltr\">\n",
       "<text class=\"displacy-token\" fill=\"currentColor\" text-anchor=\"middle\" y=\"267.0\">\n",
       "    <tspan class=\"displacy-word\" fill=\"currentColor\" x=\"50\">Nueve</tspan>\n",
       "    <tspan class=\"displacy-tag\" dy=\"2em\" fill=\"currentColor\" x=\"50\">NUM</tspan>\n",
       "</text>\n",
       "\n",
       "<text class=\"displacy-token\" fill=\"currentColor\" text-anchor=\"middle\" y=\"267.0\">\n",
       "    <tspan class=\"displacy-word\" fill=\"currentColor\" x=\"160\">colectivos</tspan>\n",
       "    <tspan class=\"displacy-tag\" dy=\"2em\" fill=\"currentColor\" x=\"160\">NOUN</tspan>\n",
       "</text>\n",
       "\n",
       "<text class=\"displacy-token\" fill=\"currentColor\" text-anchor=\"middle\" y=\"267.0\">\n",
       "    <tspan class=\"displacy-word\" fill=\"currentColor\" x=\"270\">ciudadanos</tspan>\n",
       "    <tspan class=\"displacy-tag\" dy=\"2em\" fill=\"currentColor\" x=\"270\">ADJ</tspan>\n",
       "</text>\n",
       "\n",
       "<text class=\"displacy-token\" fill=\"currentColor\" text-anchor=\"middle\" y=\"267.0\">\n",
       "    <tspan class=\"displacy-word\" fill=\"currentColor\" x=\"380\">se</tspan>\n",
       "    <tspan class=\"displacy-tag\" dy=\"2em\" fill=\"currentColor\" x=\"380\">PRON</tspan>\n",
       "</text>\n",
       "\n",
       "<text class=\"displacy-token\" fill=\"currentColor\" text-anchor=\"middle\" y=\"267.0\">\n",
       "    <tspan class=\"displacy-word\" fill=\"currentColor\" x=\"490\">han</tspan>\n",
       "    <tspan class=\"displacy-tag\" dy=\"2em\" fill=\"currentColor\" x=\"490\">AUX</tspan>\n",
       "</text>\n",
       "\n",
       "<text class=\"displacy-token\" fill=\"currentColor\" text-anchor=\"middle\" y=\"267.0\">\n",
       "    <tspan class=\"displacy-word\" fill=\"currentColor\" x=\"600\">unido</tspan>\n",
       "    <tspan class=\"displacy-tag\" dy=\"2em\" fill=\"currentColor\" x=\"600\">VERB</tspan>\n",
       "</text>\n",
       "\n",
       "<text class=\"displacy-token\" fill=\"currentColor\" text-anchor=\"middle\" y=\"267.0\">\n",
       "    <tspan class=\"displacy-word\" fill=\"currentColor\" x=\"710\">en</tspan>\n",
       "    <tspan class=\"displacy-tag\" dy=\"2em\" fill=\"currentColor\" x=\"710\">ADP</tspan>\n",
       "</text>\n",
       "\n",
       "<text class=\"displacy-token\" fill=\"currentColor\" text-anchor=\"middle\" y=\"267.0\">\n",
       "    <tspan class=\"displacy-word\" fill=\"currentColor\" x=\"820\">torno</tspan>\n",
       "    <tspan class=\"displacy-tag\" dy=\"2em\" fill=\"currentColor\" x=\"820\">NOUN</tspan>\n",
       "</text>\n",
       "\n",
       "<text class=\"displacy-token\" fill=\"currentColor\" text-anchor=\"middle\" y=\"267.0\">\n",
       "    <tspan class=\"displacy-word\" fill=\"currentColor\" x=\"930\">a</tspan>\n",
       "    <tspan class=\"displacy-tag\" dy=\"2em\" fill=\"currentColor\" x=\"930\">ADP</tspan>\n",
       "</text>\n",
       "\n",
       "<text class=\"displacy-token\" fill=\"currentColor\" text-anchor=\"middle\" y=\"267.0\">\n",
       "    <tspan class=\"displacy-word\" fill=\"currentColor\" x=\"1040\">la</tspan>\n",
       "    <tspan class=\"displacy-tag\" dy=\"2em\" fill=\"currentColor\" x=\"1040\">DET</tspan>\n",
       "</text>\n",
       "\n",
       "<text class=\"displacy-token\" fill=\"currentColor\" text-anchor=\"middle\" y=\"267.0\">\n",
       "    <tspan class=\"displacy-word\" fill=\"currentColor\" x=\"1150\">consigna '</tspan>\n",
       "    <tspan class=\"displacy-tag\" dy=\"2em\" fill=\"currentColor\" x=\"1150\">NOUN</tspan>\n",
       "</text>\n",
       "\n",
       "<g class=\"displacy-arrow\">\n",
       "    <path class=\"displacy-arc\" id=\"arrow-e74a3efcf93f47628d4bebde4a6a647d-2-0\" stroke-width=\"2px\" d=\"M70,222.0 C70,167.0 145.0,167.0 145.0,222.0\" fill=\"none\" stroke=\"currentColor\"/>\n",
       "    <text dy=\"1.25em\" style=\"font-size: 0.8em; letter-spacing: 1px\">\n",
       "        <textPath xlink:href=\"#arrow-e74a3efcf93f47628d4bebde4a6a647d-2-0\" class=\"displacy-label\" startOffset=\"50%\" side=\"left\" fill=\"currentColor\" text-anchor=\"middle\">nummod</textPath>\n",
       "    </text>\n",
       "    <path class=\"displacy-arrowhead\" d=\"M70,224.0 L62,212.0 78,212.0\" fill=\"currentColor\"/>\n",
       "</g>\n",
       "\n",
       "<g class=\"displacy-arrow\">\n",
       "    <path class=\"displacy-arc\" id=\"arrow-e74a3efcf93f47628d4bebde4a6a647d-2-1\" stroke-width=\"2px\" d=\"M180,222.0 C180,57.0 595.0,57.0 595.0,222.0\" fill=\"none\" stroke=\"currentColor\"/>\n",
       "    <text dy=\"1.25em\" style=\"font-size: 0.8em; letter-spacing: 1px\">\n",
       "        <textPath xlink:href=\"#arrow-e74a3efcf93f47628d4bebde4a6a647d-2-1\" class=\"displacy-label\" startOffset=\"50%\" side=\"left\" fill=\"currentColor\" text-anchor=\"middle\">nsubj</textPath>\n",
       "    </text>\n",
       "    <path class=\"displacy-arrowhead\" d=\"M180,224.0 L172,212.0 188,212.0\" fill=\"currentColor\"/>\n",
       "</g>\n",
       "\n",
       "<g class=\"displacy-arrow\">\n",
       "    <path class=\"displacy-arc\" id=\"arrow-e74a3efcf93f47628d4bebde4a6a647d-2-2\" stroke-width=\"2px\" d=\"M180,222.0 C180,167.0 255.0,167.0 255.0,222.0\" fill=\"none\" stroke=\"currentColor\"/>\n",
       "    <text dy=\"1.25em\" style=\"font-size: 0.8em; letter-spacing: 1px\">\n",
       "        <textPath xlink:href=\"#arrow-e74a3efcf93f47628d4bebde4a6a647d-2-2\" class=\"displacy-label\" startOffset=\"50%\" side=\"left\" fill=\"currentColor\" text-anchor=\"middle\">amod</textPath>\n",
       "    </text>\n",
       "    <path class=\"displacy-arrowhead\" d=\"M255.0,224.0 L263.0,212.0 247.0,212.0\" fill=\"currentColor\"/>\n",
       "</g>\n",
       "\n",
       "<g class=\"displacy-arrow\">\n",
       "    <path class=\"displacy-arc\" id=\"arrow-e74a3efcf93f47628d4bebde4a6a647d-2-3\" stroke-width=\"2px\" d=\"M400,222.0 C400,112.0 590.0,112.0 590.0,222.0\" fill=\"none\" stroke=\"currentColor\"/>\n",
       "    <text dy=\"1.25em\" style=\"font-size: 0.8em; letter-spacing: 1px\">\n",
       "        <textPath xlink:href=\"#arrow-e74a3efcf93f47628d4bebde4a6a647d-2-3\" class=\"displacy-label\" startOffset=\"50%\" side=\"left\" fill=\"currentColor\" text-anchor=\"middle\">obj</textPath>\n",
       "    </text>\n",
       "    <path class=\"displacy-arrowhead\" d=\"M400,224.0 L392,212.0 408,212.0\" fill=\"currentColor\"/>\n",
       "</g>\n",
       "\n",
       "<g class=\"displacy-arrow\">\n",
       "    <path class=\"displacy-arc\" id=\"arrow-e74a3efcf93f47628d4bebde4a6a647d-2-4\" stroke-width=\"2px\" d=\"M510,222.0 C510,167.0 585.0,167.0 585.0,222.0\" fill=\"none\" stroke=\"currentColor\"/>\n",
       "    <text dy=\"1.25em\" style=\"font-size: 0.8em; letter-spacing: 1px\">\n",
       "        <textPath xlink:href=\"#arrow-e74a3efcf93f47628d4bebde4a6a647d-2-4\" class=\"displacy-label\" startOffset=\"50%\" side=\"left\" fill=\"currentColor\" text-anchor=\"middle\">aux</textPath>\n",
       "    </text>\n",
       "    <path class=\"displacy-arrowhead\" d=\"M510,224.0 L502,212.0 518,212.0\" fill=\"currentColor\"/>\n",
       "</g>\n",
       "\n",
       "<g class=\"displacy-arrow\">\n",
       "    <path class=\"displacy-arc\" id=\"arrow-e74a3efcf93f47628d4bebde4a6a647d-2-5\" stroke-width=\"2px\" d=\"M730,222.0 C730,57.0 1145.0,57.0 1145.0,222.0\" fill=\"none\" stroke=\"currentColor\"/>\n",
       "    <text dy=\"1.25em\" style=\"font-size: 0.8em; letter-spacing: 1px\">\n",
       "        <textPath xlink:href=\"#arrow-e74a3efcf93f47628d4bebde4a6a647d-2-5\" class=\"displacy-label\" startOffset=\"50%\" side=\"left\" fill=\"currentColor\" text-anchor=\"middle\">case</textPath>\n",
       "    </text>\n",
       "    <path class=\"displacy-arrowhead\" d=\"M730,224.0 L722,212.0 738,212.0\" fill=\"currentColor\"/>\n",
       "</g>\n",
       "\n",
       "<g class=\"displacy-arrow\">\n",
       "    <path class=\"displacy-arc\" id=\"arrow-e74a3efcf93f47628d4bebde4a6a647d-2-6\" stroke-width=\"2px\" d=\"M730,222.0 C730,167.0 805.0,167.0 805.0,222.0\" fill=\"none\" stroke=\"currentColor\"/>\n",
       "    <text dy=\"1.25em\" style=\"font-size: 0.8em; letter-spacing: 1px\">\n",
       "        <textPath xlink:href=\"#arrow-e74a3efcf93f47628d4bebde4a6a647d-2-6\" class=\"displacy-label\" startOffset=\"50%\" side=\"left\" fill=\"currentColor\" text-anchor=\"middle\">fixed</textPath>\n",
       "    </text>\n",
       "    <path class=\"displacy-arrowhead\" d=\"M805.0,224.0 L813.0,212.0 797.0,212.0\" fill=\"currentColor\"/>\n",
       "</g>\n",
       "\n",
       "<g class=\"displacy-arrow\">\n",
       "    <path class=\"displacy-arc\" id=\"arrow-e74a3efcf93f47628d4bebde4a6a647d-2-7\" stroke-width=\"2px\" d=\"M730,222.0 C730,112.0 920.0,112.0 920.0,222.0\" fill=\"none\" stroke=\"currentColor\"/>\n",
       "    <text dy=\"1.25em\" style=\"font-size: 0.8em; letter-spacing: 1px\">\n",
       "        <textPath xlink:href=\"#arrow-e74a3efcf93f47628d4bebde4a6a647d-2-7\" class=\"displacy-label\" startOffset=\"50%\" side=\"left\" fill=\"currentColor\" text-anchor=\"middle\">fixed</textPath>\n",
       "    </text>\n",
       "    <path class=\"displacy-arrowhead\" d=\"M920.0,224.0 L928.0,212.0 912.0,212.0\" fill=\"currentColor\"/>\n",
       "</g>\n",
       "\n",
       "<g class=\"displacy-arrow\">\n",
       "    <path class=\"displacy-arc\" id=\"arrow-e74a3efcf93f47628d4bebde4a6a647d-2-8\" stroke-width=\"2px\" d=\"M1060,222.0 C1060,167.0 1135.0,167.0 1135.0,222.0\" fill=\"none\" stroke=\"currentColor\"/>\n",
       "    <text dy=\"1.25em\" style=\"font-size: 0.8em; letter-spacing: 1px\">\n",
       "        <textPath xlink:href=\"#arrow-e74a3efcf93f47628d4bebde4a6a647d-2-8\" class=\"displacy-label\" startOffset=\"50%\" side=\"left\" fill=\"currentColor\" text-anchor=\"middle\">det</textPath>\n",
       "    </text>\n",
       "    <path class=\"displacy-arrowhead\" d=\"M1060,224.0 L1052,212.0 1068,212.0\" fill=\"currentColor\"/>\n",
       "</g>\n",
       "\n",
       "<g class=\"displacy-arrow\">\n",
       "    <path class=\"displacy-arc\" id=\"arrow-e74a3efcf93f47628d4bebde4a6a647d-2-9\" stroke-width=\"2px\" d=\"M620,222.0 C620,2.0 1150.0,2.0 1150.0,222.0\" fill=\"none\" stroke=\"currentColor\"/>\n",
       "    <text dy=\"1.25em\" style=\"font-size: 0.8em; letter-spacing: 1px\">\n",
       "        <textPath xlink:href=\"#arrow-e74a3efcf93f47628d4bebde4a6a647d-2-9\" class=\"displacy-label\" startOffset=\"50%\" side=\"left\" fill=\"currentColor\" text-anchor=\"middle\">obl</textPath>\n",
       "    </text>\n",
       "    <path class=\"displacy-arrowhead\" d=\"M1150.0,224.0 L1158.0,212.0 1142.0,212.0\" fill=\"currentColor\"/>\n",
       "</g>\n",
       "</svg>\n",
       "</figure>\n",
       "\n",
       "<figure style=\"margin-bottom: 6rem\">\n",
       "<svg xmlns=\"http://www.w3.org/2000/svg\" xmlns:xlink=\"http://www.w3.org/1999/xlink\" xml:lang=\"es\" id=\"e74a3efcf93f47628d4bebde4a6a647d-3\" class=\"displacy\" width=\"160\" height=\"137.0\" direction=\"ltr\" style=\"max-width: none; height: 137.0px; color: brown; background: #ffffff; font-family: Monaco; direction: ltr\">\n",
       "<text class=\"displacy-token\" fill=\"currentColor\" text-anchor=\"middle\" y=\"47.0\">\n",
       "    <tspan class=\"displacy-word\" fill=\"currentColor\" x=\"50\">SOS</tspan>\n",
       "    <tspan class=\"displacy-tag\" dy=\"2em\" fill=\"currentColor\" x=\"50\">PROPN</tspan>\n",
       "</text>\n",
       "</svg>\n",
       "</figure>\n",
       "\n",
       "<figure style=\"margin-bottom: 6rem\">\n",
       "<svg xmlns=\"http://www.w3.org/2000/svg\" xmlns:xlink=\"http://www.w3.org/1999/xlink\" xml:lang=\"es\" id=\"e74a3efcf93f47628d4bebde4a6a647d-4\" class=\"displacy\" width=\"160\" height=\"137.0\" direction=\"ltr\" style=\"max-width: none; height: 137.0px; color: brown; background: #ffffff; font-family: Monaco; direction: ltr\">\n",
       "<text class=\"displacy-token\" fill=\"currentColor\" text-anchor=\"middle\" y=\"47.0\">\n",
       "    <tspan class=\"displacy-word\" fill=\"currentColor\" x=\"50\">Mar</tspan>\n",
       "    <tspan class=\"displacy-tag\" dy=\"2em\" fill=\"currentColor\" x=\"50\">PROPN</tspan>\n",
       "</text>\n",
       "</svg>\n",
       "</figure>\n",
       "\n",
       "<figure style=\"margin-bottom: 6rem\">\n",
       "<svg xmlns=\"http://www.w3.org/2000/svg\" xmlns:xlink=\"http://www.w3.org/1999/xlink\" xml:lang=\"es\" id=\"e74a3efcf93f47628d4bebde4a6a647d-5\" class=\"displacy\" width=\"160\" height=\"137.0\" direction=\"ltr\" style=\"max-width: none; height: 137.0px; color: brown; background: #ffffff; font-family: Monaco; direction: ltr\">\n",
       "<text class=\"displacy-token\" fill=\"currentColor\" text-anchor=\"middle\" y=\"47.0\">\n",
       "    <tspan class=\"displacy-word\" fill=\"currentColor\" x=\"50\">Menor</tspan>\n",
       "    <tspan class=\"displacy-tag\" dy=\"2em\" fill=\"currentColor\" x=\"50\">PROPN</tspan>\n",
       "</text>\n",
       "</svg>\n",
       "</figure>\n",
       "\n",
       "<figure style=\"margin-bottom: 6rem\">\n",
       "<svg xmlns=\"http://www.w3.org/2000/svg\" xmlns:xlink=\"http://www.w3.org/1999/xlink\" xml:lang=\"es\" id=\"e74a3efcf93f47628d4bebde4a6a647d-6\" class=\"displacy\" width=\"160\" height=\"137.0\" direction=\"ltr\" style=\"max-width: none; height: 137.0px; color: brown; background: #ffffff; font-family: Monaco; direction: ltr\">\n",
       "<text class=\"displacy-token\" fill=\"currentColor\" text-anchor=\"middle\" y=\"47.0\">\n",
       "    <tspan class=\"displacy-word\" fill=\"currentColor\" x=\"50\">.</tspan>\n",
       "    <tspan class=\"displacy-tag\" dy=\"2em\" fill=\"currentColor\" x=\"50\">PUNCT</tspan>\n",
       "</text>\n",
       "</svg>\n",
       "</figure>\n",
       "\n",
       "<figure style=\"margin-bottom: 6rem\">\n",
       "<svg xmlns=\"http://www.w3.org/2000/svg\" xmlns:xlink=\"http://www.w3.org/1999/xlink\" xml:lang=\"es\" id=\"e74a3efcf93f47628d4bebde4a6a647d-7\" class=\"displacy\" width=\"3570\" height=\"467.0\" direction=\"ltr\" style=\"max-width: none; height: 467.0px; color: brown; background: #ffffff; font-family: Monaco; direction: ltr\">\n",
       "<text class=\"displacy-token\" fill=\"currentColor\" text-anchor=\"middle\" y=\"377.0\">\n",
       "    <tspan class=\"displacy-word\" fill=\"currentColor\" x=\"50\">Por</tspan>\n",
       "    <tspan class=\"displacy-tag\" dy=\"2em\" fill=\"currentColor\" x=\"50\">ADP</tspan>\n",
       "</text>\n",
       "\n",
       "<text class=\"displacy-token\" fill=\"currentColor\" text-anchor=\"middle\" y=\"377.0\">\n",
       "    <tspan class=\"displacy-word\" fill=\"currentColor\" x=\"160\">un</tspan>\n",
       "    <tspan class=\"displacy-tag\" dy=\"2em\" fill=\"currentColor\" x=\"160\">DET</tspan>\n",
       "</text>\n",
       "\n",
       "<text class=\"displacy-token\" fill=\"currentColor\" text-anchor=\"middle\" y=\"377.0\">\n",
       "    <tspan class=\"displacy-word\" fill=\"currentColor\" x=\"270\">mar</tspan>\n",
       "    <tspan class=\"displacy-tag\" dy=\"2em\" fill=\"currentColor\" x=\"270\">NOUN</tspan>\n",
       "</text>\n",
       "\n",
       "<text class=\"displacy-token\" fill=\"currentColor\" text-anchor=\"middle\" y=\"377.0\">\n",
       "    <tspan class=\"displacy-word\" fill=\"currentColor\" x=\"380\">Menor</tspan>\n",
       "    <tspan class=\"displacy-tag\" dy=\"2em\" fill=\"currentColor\" x=\"380\">PROPN</tspan>\n",
       "</text>\n",
       "\n",
       "<text class=\"displacy-token\" fill=\"currentColor\" text-anchor=\"middle\" y=\"377.0\">\n",
       "    <tspan class=\"displacy-word\" fill=\"currentColor\" x=\"490\">con</tspan>\n",
       "    <tspan class=\"displacy-tag\" dy=\"2em\" fill=\"currentColor\" x=\"490\">ADP</tspan>\n",
       "</text>\n",
       "\n",
       "<text class=\"displacy-token\" fill=\"currentColor\" text-anchor=\"middle\" y=\"377.0\">\n",
       "    <tspan class=\"displacy-word\" fill=\"currentColor\" x=\"600\">futuro'</tspan>\n",
       "    <tspan class=\"displacy-tag\" dy=\"2em\" fill=\"currentColor\" x=\"600\">NOUN</tspan>\n",
       "</text>\n",
       "\n",
       "<text class=\"displacy-token\" fill=\"currentColor\" text-anchor=\"middle\" y=\"377.0\">\n",
       "    <tspan class=\"displacy-word\" fill=\"currentColor\" x=\"710\">para</tspan>\n",
       "    <tspan class=\"displacy-tag\" dy=\"2em\" fill=\"currentColor\" x=\"710\">ADP</tspan>\n",
       "</text>\n",
       "\n",
       "<text class=\"displacy-token\" fill=\"currentColor\" text-anchor=\"middle\" y=\"377.0\">\n",
       "    <tspan class=\"displacy-word\" fill=\"currentColor\" x=\"820\">protestar</tspan>\n",
       "    <tspan class=\"displacy-tag\" dy=\"2em\" fill=\"currentColor\" x=\"820\">VERB</tspan>\n",
       "</text>\n",
       "\n",
       "<text class=\"displacy-token\" fill=\"currentColor\" text-anchor=\"middle\" y=\"377.0\">\n",
       "    <tspan class=\"displacy-word\" fill=\"currentColor\" x=\"930\">por</tspan>\n",
       "    <tspan class=\"displacy-tag\" dy=\"2em\" fill=\"currentColor\" x=\"930\">ADP</tspan>\n",
       "</text>\n",
       "\n",
       "<text class=\"displacy-token\" fill=\"currentColor\" text-anchor=\"middle\" y=\"377.0\">\n",
       "    <tspan class=\"displacy-word\" fill=\"currentColor\" x=\"1040\">la</tspan>\n",
       "    <tspan class=\"displacy-tag\" dy=\"2em\" fill=\"currentColor\" x=\"1040\">DET</tspan>\n",
       "</text>\n",
       "\n",
       "<text class=\"displacy-token\" fill=\"currentColor\" text-anchor=\"middle\" y=\"377.0\">\n",
       "    <tspan class=\"displacy-word\" fill=\"currentColor\" x=\"1150\">situación</tspan>\n",
       "    <tspan class=\"displacy-tag\" dy=\"2em\" fill=\"currentColor\" x=\"1150\">NOUN</tspan>\n",
       "</text>\n",
       "\n",
       "<text class=\"displacy-token\" fill=\"currentColor\" text-anchor=\"middle\" y=\"377.0\">\n",
       "    <tspan class=\"displacy-word\" fill=\"currentColor\" x=\"1260\">de</tspan>\n",
       "    <tspan class=\"displacy-tag\" dy=\"2em\" fill=\"currentColor\" x=\"1260\">ADP</tspan>\n",
       "</text>\n",
       "\n",
       "<text class=\"displacy-token\" fill=\"currentColor\" text-anchor=\"middle\" y=\"377.0\">\n",
       "    <tspan class=\"displacy-word\" fill=\"currentColor\" x=\"1370\">la</tspan>\n",
       "    <tspan class=\"displacy-tag\" dy=\"2em\" fill=\"currentColor\" x=\"1370\">DET</tspan>\n",
       "</text>\n",
       "\n",
       "<text class=\"displacy-token\" fill=\"currentColor\" text-anchor=\"middle\" y=\"377.0\">\n",
       "    <tspan class=\"displacy-word\" fill=\"currentColor\" x=\"1480\">laguna,</tspan>\n",
       "    <tspan class=\"displacy-tag\" dy=\"2em\" fill=\"currentColor\" x=\"1480\">NOUN</tspan>\n",
       "</text>\n",
       "\n",
       "<text class=\"displacy-token\" fill=\"currentColor\" text-anchor=\"middle\" y=\"377.0\">\n",
       "    <tspan class=\"displacy-word\" fill=\"currentColor\" x=\"1590\">dos</tspan>\n",
       "    <tspan class=\"displacy-tag\" dy=\"2em\" fill=\"currentColor\" x=\"1590\">NUM</tspan>\n",
       "</text>\n",
       "\n",
       "<text class=\"displacy-token\" fill=\"currentColor\" text-anchor=\"middle\" y=\"377.0\">\n",
       "    <tspan class=\"displacy-word\" fill=\"currentColor\" x=\"1700\">meses</tspan>\n",
       "    <tspan class=\"displacy-tag\" dy=\"2em\" fill=\"currentColor\" x=\"1700\">NOUN</tspan>\n",
       "</text>\n",
       "\n",
       "<text class=\"displacy-token\" fill=\"currentColor\" text-anchor=\"middle\" y=\"377.0\">\n",
       "    <tspan class=\"displacy-word\" fill=\"currentColor\" x=\"1810\">después</tspan>\n",
       "    <tspan class=\"displacy-tag\" dy=\"2em\" fill=\"currentColor\" x=\"1810\">ADV</tspan>\n",
       "</text>\n",
       "\n",
       "<text class=\"displacy-token\" fill=\"currentColor\" text-anchor=\"middle\" y=\"377.0\">\n",
       "    <tspan class=\"displacy-word\" fill=\"currentColor\" x=\"1920\">de</tspan>\n",
       "    <tspan class=\"displacy-tag\" dy=\"2em\" fill=\"currentColor\" x=\"1920\">ADP</tspan>\n",
       "</text>\n",
       "\n",
       "<text class=\"displacy-token\" fill=\"currentColor\" text-anchor=\"middle\" y=\"377.0\">\n",
       "    <tspan class=\"displacy-word\" fill=\"currentColor\" x=\"2030\">la</tspan>\n",
       "    <tspan class=\"displacy-tag\" dy=\"2em\" fill=\"currentColor\" x=\"2030\">DET</tspan>\n",
       "</text>\n",
       "\n",
       "<text class=\"displacy-token\" fill=\"currentColor\" text-anchor=\"middle\" y=\"377.0\">\n",
       "    <tspan class=\"displacy-word\" fill=\"currentColor\" x=\"2140\">grave</tspan>\n",
       "    <tspan class=\"displacy-tag\" dy=\"2em\" fill=\"currentColor\" x=\"2140\">ADJ</tspan>\n",
       "</text>\n",
       "\n",
       "<text class=\"displacy-token\" fill=\"currentColor\" text-anchor=\"middle\" y=\"377.0\">\n",
       "    <tspan class=\"displacy-word\" fill=\"currentColor\" x=\"2250\">crisis</tspan>\n",
       "    <tspan class=\"displacy-tag\" dy=\"2em\" fill=\"currentColor\" x=\"2250\">NOUN</tspan>\n",
       "</text>\n",
       "\n",
       "<text class=\"displacy-token\" fill=\"currentColor\" text-anchor=\"middle\" y=\"377.0\">\n",
       "    <tspan class=\"displacy-word\" fill=\"currentColor\" x=\"2360\">que</tspan>\n",
       "    <tspan class=\"displacy-tag\" dy=\"2em\" fill=\"currentColor\" x=\"2360\">PRON</tspan>\n",
       "</text>\n",
       "\n",
       "<text class=\"displacy-token\" fill=\"currentColor\" text-anchor=\"middle\" y=\"377.0\">\n",
       "    <tspan class=\"displacy-word\" fill=\"currentColor\" x=\"2470\">sufrió</tspan>\n",
       "    <tspan class=\"displacy-tag\" dy=\"2em\" fill=\"currentColor\" x=\"2470\">VERB</tspan>\n",
       "</text>\n",
       "\n",
       "<text class=\"displacy-token\" fill=\"currentColor\" text-anchor=\"middle\" y=\"377.0\">\n",
       "    <tspan class=\"displacy-word\" fill=\"currentColor\" x=\"2580\">en</tspan>\n",
       "    <tspan class=\"displacy-tag\" dy=\"2em\" fill=\"currentColor\" x=\"2580\">ADP</tspan>\n",
       "</text>\n",
       "\n",
       "<text class=\"displacy-token\" fill=\"currentColor\" text-anchor=\"middle\" y=\"377.0\">\n",
       "    <tspan class=\"displacy-word\" fill=\"currentColor\" x=\"2690\">agosto,</tspan>\n",
       "    <tspan class=\"displacy-tag\" dy=\"2em\" fill=\"currentColor\" x=\"2690\">NOUN</tspan>\n",
       "</text>\n",
       "\n",
       "<text class=\"displacy-token\" fill=\"currentColor\" text-anchor=\"middle\" y=\"377.0\">\n",
       "    <tspan class=\"displacy-word\" fill=\"currentColor\" x=\"2800\">cuando</tspan>\n",
       "    <tspan class=\"displacy-tag\" dy=\"2em\" fill=\"currentColor\" x=\"2800\">PRON</tspan>\n",
       "</text>\n",
       "\n",
       "<text class=\"displacy-token\" fill=\"currentColor\" text-anchor=\"middle\" y=\"377.0\">\n",
       "    <tspan class=\"displacy-word\" fill=\"currentColor\" x=\"2910\">se</tspan>\n",
       "    <tspan class=\"displacy-tag\" dy=\"2em\" fill=\"currentColor\" x=\"2910\">PRON</tspan>\n",
       "</text>\n",
       "\n",
       "<text class=\"displacy-token\" fill=\"currentColor\" text-anchor=\"middle\" y=\"377.0\">\n",
       "    <tspan class=\"displacy-word\" fill=\"currentColor\" x=\"3020\">sacaron</tspan>\n",
       "    <tspan class=\"displacy-tag\" dy=\"2em\" fill=\"currentColor\" x=\"3020\">VERB</tspan>\n",
       "</text>\n",
       "\n",
       "<text class=\"displacy-token\" fill=\"currentColor\" text-anchor=\"middle\" y=\"377.0\">\n",
       "    <tspan class=\"displacy-word\" fill=\"currentColor\" x=\"3130\">15</tspan>\n",
       "    <tspan class=\"displacy-tag\" dy=\"2em\" fill=\"currentColor\" x=\"3130\">NUM</tspan>\n",
       "</text>\n",
       "\n",
       "<text class=\"displacy-token\" fill=\"currentColor\" text-anchor=\"middle\" y=\"377.0\">\n",
       "    <tspan class=\"displacy-word\" fill=\"currentColor\" x=\"3240\">toneladas</tspan>\n",
       "    <tspan class=\"displacy-tag\" dy=\"2em\" fill=\"currentColor\" x=\"3240\">NOUN</tspan>\n",
       "</text>\n",
       "\n",
       "<text class=\"displacy-token\" fill=\"currentColor\" text-anchor=\"middle\" y=\"377.0\">\n",
       "    <tspan class=\"displacy-word\" fill=\"currentColor\" x=\"3350\">de</tspan>\n",
       "    <tspan class=\"displacy-tag\" dy=\"2em\" fill=\"currentColor\" x=\"3350\">ADP</tspan>\n",
       "</text>\n",
       "\n",
       "<text class=\"displacy-token\" fill=\"currentColor\" text-anchor=\"middle\" y=\"377.0\">\n",
       "    <tspan class=\"displacy-word\" fill=\"currentColor\" x=\"3460\">peces.</tspan>\n",
       "    <tspan class=\"displacy-tag\" dy=\"2em\" fill=\"currentColor\" x=\"3460\">NOUN</tspan>\n",
       "</text>\n",
       "\n",
       "<g class=\"displacy-arrow\">\n",
       "    <path class=\"displacy-arc\" id=\"arrow-e74a3efcf93f47628d4bebde4a6a647d-7-0\" stroke-width=\"2px\" d=\"M70,332.0 C70,222.0 250.0,222.0 250.0,332.0\" fill=\"none\" stroke=\"currentColor\"/>\n",
       "    <text dy=\"1.25em\" style=\"font-size: 0.8em; letter-spacing: 1px\">\n",
       "        <textPath xlink:href=\"#arrow-e74a3efcf93f47628d4bebde4a6a647d-7-0\" class=\"displacy-label\" startOffset=\"50%\" side=\"left\" fill=\"currentColor\" text-anchor=\"middle\">case</textPath>\n",
       "    </text>\n",
       "    <path class=\"displacy-arrowhead\" d=\"M70,334.0 L62,322.0 78,322.0\" fill=\"currentColor\"/>\n",
       "</g>\n",
       "\n",
       "<g class=\"displacy-arrow\">\n",
       "    <path class=\"displacy-arc\" id=\"arrow-e74a3efcf93f47628d4bebde4a6a647d-7-1\" stroke-width=\"2px\" d=\"M180,332.0 C180,277.0 245.0,277.0 245.0,332.0\" fill=\"none\" stroke=\"currentColor\"/>\n",
       "    <text dy=\"1.25em\" style=\"font-size: 0.8em; letter-spacing: 1px\">\n",
       "        <textPath xlink:href=\"#arrow-e74a3efcf93f47628d4bebde4a6a647d-7-1\" class=\"displacy-label\" startOffset=\"50%\" side=\"left\" fill=\"currentColor\" text-anchor=\"middle\">det</textPath>\n",
       "    </text>\n",
       "    <path class=\"displacy-arrowhead\" d=\"M180,334.0 L172,322.0 188,322.0\" fill=\"currentColor\"/>\n",
       "</g>\n",
       "\n",
       "<g class=\"displacy-arrow\">\n",
       "    <path class=\"displacy-arc\" id=\"arrow-e74a3efcf93f47628d4bebde4a6a647d-7-2\" stroke-width=\"2px\" d=\"M290,332.0 C290,277.0 355.0,277.0 355.0,332.0\" fill=\"none\" stroke=\"currentColor\"/>\n",
       "    <text dy=\"1.25em\" style=\"font-size: 0.8em; letter-spacing: 1px\">\n",
       "        <textPath xlink:href=\"#arrow-e74a3efcf93f47628d4bebde4a6a647d-7-2\" class=\"displacy-label\" startOffset=\"50%\" side=\"left\" fill=\"currentColor\" text-anchor=\"middle\">flat</textPath>\n",
       "    </text>\n",
       "    <path class=\"displacy-arrowhead\" d=\"M355.0,334.0 L363.0,322.0 347.0,322.0\" fill=\"currentColor\"/>\n",
       "</g>\n",
       "\n",
       "<g class=\"displacy-arrow\">\n",
       "    <path class=\"displacy-arc\" id=\"arrow-e74a3efcf93f47628d4bebde4a6a647d-7-3\" stroke-width=\"2px\" d=\"M510,332.0 C510,277.0 575.0,277.0 575.0,332.0\" fill=\"none\" stroke=\"currentColor\"/>\n",
       "    <text dy=\"1.25em\" style=\"font-size: 0.8em; letter-spacing: 1px\">\n",
       "        <textPath xlink:href=\"#arrow-e74a3efcf93f47628d4bebde4a6a647d-7-3\" class=\"displacy-label\" startOffset=\"50%\" side=\"left\" fill=\"currentColor\" text-anchor=\"middle\">case</textPath>\n",
       "    </text>\n",
       "    <path class=\"displacy-arrowhead\" d=\"M510,334.0 L502,322.0 518,322.0\" fill=\"currentColor\"/>\n",
       "</g>\n",
       "\n",
       "<g class=\"displacy-arrow\">\n",
       "    <path class=\"displacy-arc\" id=\"arrow-e74a3efcf93f47628d4bebde4a6a647d-7-4\" stroke-width=\"2px\" d=\"M290,332.0 C290,167.0 585.0,167.0 585.0,332.0\" fill=\"none\" stroke=\"currentColor\"/>\n",
       "    <text dy=\"1.25em\" style=\"font-size: 0.8em; letter-spacing: 1px\">\n",
       "        <textPath xlink:href=\"#arrow-e74a3efcf93f47628d4bebde4a6a647d-7-4\" class=\"displacy-label\" startOffset=\"50%\" side=\"left\" fill=\"currentColor\" text-anchor=\"middle\">nmod</textPath>\n",
       "    </text>\n",
       "    <path class=\"displacy-arrowhead\" d=\"M585.0,334.0 L593.0,322.0 577.0,322.0\" fill=\"currentColor\"/>\n",
       "</g>\n",
       "\n",
       "<g class=\"displacy-arrow\">\n",
       "    <path class=\"displacy-arc\" id=\"arrow-e74a3efcf93f47628d4bebde4a6a647d-7-5\" stroke-width=\"2px\" d=\"M730,332.0 C730,277.0 795.0,277.0 795.0,332.0\" fill=\"none\" stroke=\"currentColor\"/>\n",
       "    <text dy=\"1.25em\" style=\"font-size: 0.8em; letter-spacing: 1px\">\n",
       "        <textPath xlink:href=\"#arrow-e74a3efcf93f47628d4bebde4a6a647d-7-5\" class=\"displacy-label\" startOffset=\"50%\" side=\"left\" fill=\"currentColor\" text-anchor=\"middle\">mark</textPath>\n",
       "    </text>\n",
       "    <path class=\"displacy-arrowhead\" d=\"M730,334.0 L722,322.0 738,322.0\" fill=\"currentColor\"/>\n",
       "</g>\n",
       "\n",
       "<g class=\"displacy-arrow\">\n",
       "    <path class=\"displacy-arc\" id=\"arrow-e74a3efcf93f47628d4bebde4a6a647d-7-6\" stroke-width=\"2px\" d=\"M290,332.0 C290,57.0 815.0,57.0 815.0,332.0\" fill=\"none\" stroke=\"currentColor\"/>\n",
       "    <text dy=\"1.25em\" style=\"font-size: 0.8em; letter-spacing: 1px\">\n",
       "        <textPath xlink:href=\"#arrow-e74a3efcf93f47628d4bebde4a6a647d-7-6\" class=\"displacy-label\" startOffset=\"50%\" side=\"left\" fill=\"currentColor\" text-anchor=\"middle\">acl</textPath>\n",
       "    </text>\n",
       "    <path class=\"displacy-arrowhead\" d=\"M815.0,334.0 L823.0,322.0 807.0,322.0\" fill=\"currentColor\"/>\n",
       "</g>\n",
       "\n",
       "<g class=\"displacy-arrow\">\n",
       "    <path class=\"displacy-arc\" id=\"arrow-e74a3efcf93f47628d4bebde4a6a647d-7-7\" stroke-width=\"2px\" d=\"M950,332.0 C950,222.0 1130.0,222.0 1130.0,332.0\" fill=\"none\" stroke=\"currentColor\"/>\n",
       "    <text dy=\"1.25em\" style=\"font-size: 0.8em; letter-spacing: 1px\">\n",
       "        <textPath xlink:href=\"#arrow-e74a3efcf93f47628d4bebde4a6a647d-7-7\" class=\"displacy-label\" startOffset=\"50%\" side=\"left\" fill=\"currentColor\" text-anchor=\"middle\">case</textPath>\n",
       "    </text>\n",
       "    <path class=\"displacy-arrowhead\" d=\"M950,334.0 L942,322.0 958,322.0\" fill=\"currentColor\"/>\n",
       "</g>\n",
       "\n",
       "<g class=\"displacy-arrow\">\n",
       "    <path class=\"displacy-arc\" id=\"arrow-e74a3efcf93f47628d4bebde4a6a647d-7-8\" stroke-width=\"2px\" d=\"M1060,332.0 C1060,277.0 1125.0,277.0 1125.0,332.0\" fill=\"none\" stroke=\"currentColor\"/>\n",
       "    <text dy=\"1.25em\" style=\"font-size: 0.8em; letter-spacing: 1px\">\n",
       "        <textPath xlink:href=\"#arrow-e74a3efcf93f47628d4bebde4a6a647d-7-8\" class=\"displacy-label\" startOffset=\"50%\" side=\"left\" fill=\"currentColor\" text-anchor=\"middle\">det</textPath>\n",
       "    </text>\n",
       "    <path class=\"displacy-arrowhead\" d=\"M1060,334.0 L1052,322.0 1068,322.0\" fill=\"currentColor\"/>\n",
       "</g>\n",
       "\n",
       "<g class=\"displacy-arrow\">\n",
       "    <path class=\"displacy-arc\" id=\"arrow-e74a3efcf93f47628d4bebde4a6a647d-7-9\" stroke-width=\"2px\" d=\"M840,332.0 C840,167.0 1135.0,167.0 1135.0,332.0\" fill=\"none\" stroke=\"currentColor\"/>\n",
       "    <text dy=\"1.25em\" style=\"font-size: 0.8em; letter-spacing: 1px\">\n",
       "        <textPath xlink:href=\"#arrow-e74a3efcf93f47628d4bebde4a6a647d-7-9\" class=\"displacy-label\" startOffset=\"50%\" side=\"left\" fill=\"currentColor\" text-anchor=\"middle\">obl</textPath>\n",
       "    </text>\n",
       "    <path class=\"displacy-arrowhead\" d=\"M1135.0,334.0 L1143.0,322.0 1127.0,322.0\" fill=\"currentColor\"/>\n",
       "</g>\n",
       "\n",
       "<g class=\"displacy-arrow\">\n",
       "    <path class=\"displacy-arc\" id=\"arrow-e74a3efcf93f47628d4bebde4a6a647d-7-10\" stroke-width=\"2px\" d=\"M1280,332.0 C1280,222.0 1460.0,222.0 1460.0,332.0\" fill=\"none\" stroke=\"currentColor\"/>\n",
       "    <text dy=\"1.25em\" style=\"font-size: 0.8em; letter-spacing: 1px\">\n",
       "        <textPath xlink:href=\"#arrow-e74a3efcf93f47628d4bebde4a6a647d-7-10\" class=\"displacy-label\" startOffset=\"50%\" side=\"left\" fill=\"currentColor\" text-anchor=\"middle\">case</textPath>\n",
       "    </text>\n",
       "    <path class=\"displacy-arrowhead\" d=\"M1280,334.0 L1272,322.0 1288,322.0\" fill=\"currentColor\"/>\n",
       "</g>\n",
       "\n",
       "<g class=\"displacy-arrow\">\n",
       "    <path class=\"displacy-arc\" id=\"arrow-e74a3efcf93f47628d4bebde4a6a647d-7-11\" stroke-width=\"2px\" d=\"M1390,332.0 C1390,277.0 1455.0,277.0 1455.0,332.0\" fill=\"none\" stroke=\"currentColor\"/>\n",
       "    <text dy=\"1.25em\" style=\"font-size: 0.8em; letter-spacing: 1px\">\n",
       "        <textPath xlink:href=\"#arrow-e74a3efcf93f47628d4bebde4a6a647d-7-11\" class=\"displacy-label\" startOffset=\"50%\" side=\"left\" fill=\"currentColor\" text-anchor=\"middle\">det</textPath>\n",
       "    </text>\n",
       "    <path class=\"displacy-arrowhead\" d=\"M1390,334.0 L1382,322.0 1398,322.0\" fill=\"currentColor\"/>\n",
       "</g>\n",
       "\n",
       "<g class=\"displacy-arrow\">\n",
       "    <path class=\"displacy-arc\" id=\"arrow-e74a3efcf93f47628d4bebde4a6a647d-7-12\" stroke-width=\"2px\" d=\"M1170,332.0 C1170,167.0 1465.0,167.0 1465.0,332.0\" fill=\"none\" stroke=\"currentColor\"/>\n",
       "    <text dy=\"1.25em\" style=\"font-size: 0.8em; letter-spacing: 1px\">\n",
       "        <textPath xlink:href=\"#arrow-e74a3efcf93f47628d4bebde4a6a647d-7-12\" class=\"displacy-label\" startOffset=\"50%\" side=\"left\" fill=\"currentColor\" text-anchor=\"middle\">nmod</textPath>\n",
       "    </text>\n",
       "    <path class=\"displacy-arrowhead\" d=\"M1465.0,334.0 L1473.0,322.0 1457.0,322.0\" fill=\"currentColor\"/>\n",
       "</g>\n",
       "\n",
       "<g class=\"displacy-arrow\">\n",
       "    <path class=\"displacy-arc\" id=\"arrow-e74a3efcf93f47628d4bebde4a6a647d-7-13\" stroke-width=\"2px\" d=\"M1610,332.0 C1610,277.0 1675.0,277.0 1675.0,332.0\" fill=\"none\" stroke=\"currentColor\"/>\n",
       "    <text dy=\"1.25em\" style=\"font-size: 0.8em; letter-spacing: 1px\">\n",
       "        <textPath xlink:href=\"#arrow-e74a3efcf93f47628d4bebde4a6a647d-7-13\" class=\"displacy-label\" startOffset=\"50%\" side=\"left\" fill=\"currentColor\" text-anchor=\"middle\">nummod</textPath>\n",
       "    </text>\n",
       "    <path class=\"displacy-arrowhead\" d=\"M1610,334.0 L1602,322.0 1618,322.0\" fill=\"currentColor\"/>\n",
       "</g>\n",
       "\n",
       "<g class=\"displacy-arrow\">\n",
       "    <path class=\"displacy-arc\" id=\"arrow-e74a3efcf93f47628d4bebde4a6a647d-7-14\" stroke-width=\"2px\" d=\"M1720,332.0 C1720,277.0 1785.0,277.0 1785.0,332.0\" fill=\"none\" stroke=\"currentColor\"/>\n",
       "    <text dy=\"1.25em\" style=\"font-size: 0.8em; letter-spacing: 1px\">\n",
       "        <textPath xlink:href=\"#arrow-e74a3efcf93f47628d4bebde4a6a647d-7-14\" class=\"displacy-label\" startOffset=\"50%\" side=\"left\" fill=\"currentColor\" text-anchor=\"middle\">obl</textPath>\n",
       "    </text>\n",
       "    <path class=\"displacy-arrowhead\" d=\"M1720,334.0 L1712,322.0 1728,322.0\" fill=\"currentColor\"/>\n",
       "</g>\n",
       "\n",
       "<g class=\"displacy-arrow\">\n",
       "    <path class=\"displacy-arc\" id=\"arrow-e74a3efcf93f47628d4bebde4a6a647d-7-15\" stroke-width=\"2px\" d=\"M840,332.0 C840,2.0 1810.0,2.0 1810.0,332.0\" fill=\"none\" stroke=\"currentColor\"/>\n",
       "    <text dy=\"1.25em\" style=\"font-size: 0.8em; letter-spacing: 1px\">\n",
       "        <textPath xlink:href=\"#arrow-e74a3efcf93f47628d4bebde4a6a647d-7-15\" class=\"displacy-label\" startOffset=\"50%\" side=\"left\" fill=\"currentColor\" text-anchor=\"middle\">advmod</textPath>\n",
       "    </text>\n",
       "    <path class=\"displacy-arrowhead\" d=\"M1810.0,334.0 L1818.0,322.0 1802.0,322.0\" fill=\"currentColor\"/>\n",
       "</g>\n",
       "\n",
       "<g class=\"displacy-arrow\">\n",
       "    <path class=\"displacy-arc\" id=\"arrow-e74a3efcf93f47628d4bebde4a6a647d-7-16\" stroke-width=\"2px\" d=\"M1940,332.0 C1940,167.0 2235.0,167.0 2235.0,332.0\" fill=\"none\" stroke=\"currentColor\"/>\n",
       "    <text dy=\"1.25em\" style=\"font-size: 0.8em; letter-spacing: 1px\">\n",
       "        <textPath xlink:href=\"#arrow-e74a3efcf93f47628d4bebde4a6a647d-7-16\" class=\"displacy-label\" startOffset=\"50%\" side=\"left\" fill=\"currentColor\" text-anchor=\"middle\">case</textPath>\n",
       "    </text>\n",
       "    <path class=\"displacy-arrowhead\" d=\"M1940,334.0 L1932,322.0 1948,322.0\" fill=\"currentColor\"/>\n",
       "</g>\n",
       "\n",
       "<g class=\"displacy-arrow\">\n",
       "    <path class=\"displacy-arc\" id=\"arrow-e74a3efcf93f47628d4bebde4a6a647d-7-17\" stroke-width=\"2px\" d=\"M2050,332.0 C2050,222.0 2230.0,222.0 2230.0,332.0\" fill=\"none\" stroke=\"currentColor\"/>\n",
       "    <text dy=\"1.25em\" style=\"font-size: 0.8em; letter-spacing: 1px\">\n",
       "        <textPath xlink:href=\"#arrow-e74a3efcf93f47628d4bebde4a6a647d-7-17\" class=\"displacy-label\" startOffset=\"50%\" side=\"left\" fill=\"currentColor\" text-anchor=\"middle\">det</textPath>\n",
       "    </text>\n",
       "    <path class=\"displacy-arrowhead\" d=\"M2050,334.0 L2042,322.0 2058,322.0\" fill=\"currentColor\"/>\n",
       "</g>\n",
       "\n",
       "<g class=\"displacy-arrow\">\n",
       "    <path class=\"displacy-arc\" id=\"arrow-e74a3efcf93f47628d4bebde4a6a647d-7-18\" stroke-width=\"2px\" d=\"M2160,332.0 C2160,277.0 2225.0,277.0 2225.0,332.0\" fill=\"none\" stroke=\"currentColor\"/>\n",
       "    <text dy=\"1.25em\" style=\"font-size: 0.8em; letter-spacing: 1px\">\n",
       "        <textPath xlink:href=\"#arrow-e74a3efcf93f47628d4bebde4a6a647d-7-18\" class=\"displacy-label\" startOffset=\"50%\" side=\"left\" fill=\"currentColor\" text-anchor=\"middle\">amod</textPath>\n",
       "    </text>\n",
       "    <path class=\"displacy-arrowhead\" d=\"M2160,334.0 L2152,322.0 2168,322.0\" fill=\"currentColor\"/>\n",
       "</g>\n",
       "\n",
       "<g class=\"displacy-arrow\">\n",
       "    <path class=\"displacy-arc\" id=\"arrow-e74a3efcf93f47628d4bebde4a6a647d-7-19\" stroke-width=\"2px\" d=\"M1830,332.0 C1830,112.0 2240.0,112.0 2240.0,332.0\" fill=\"none\" stroke=\"currentColor\"/>\n",
       "    <text dy=\"1.25em\" style=\"font-size: 0.8em; letter-spacing: 1px\">\n",
       "        <textPath xlink:href=\"#arrow-e74a3efcf93f47628d4bebde4a6a647d-7-19\" class=\"displacy-label\" startOffset=\"50%\" side=\"left\" fill=\"currentColor\" text-anchor=\"middle\">obl</textPath>\n",
       "    </text>\n",
       "    <path class=\"displacy-arrowhead\" d=\"M2240.0,334.0 L2248.0,322.0 2232.0,322.0\" fill=\"currentColor\"/>\n",
       "</g>\n",
       "\n",
       "<g class=\"displacy-arrow\">\n",
       "    <path class=\"displacy-arc\" id=\"arrow-e74a3efcf93f47628d4bebde4a6a647d-7-20\" stroke-width=\"2px\" d=\"M2380,332.0 C2380,277.0 2445.0,277.0 2445.0,332.0\" fill=\"none\" stroke=\"currentColor\"/>\n",
       "    <text dy=\"1.25em\" style=\"font-size: 0.8em; letter-spacing: 1px\">\n",
       "        <textPath xlink:href=\"#arrow-e74a3efcf93f47628d4bebde4a6a647d-7-20\" class=\"displacy-label\" startOffset=\"50%\" side=\"left\" fill=\"currentColor\" text-anchor=\"middle\">obj</textPath>\n",
       "    </text>\n",
       "    <path class=\"displacy-arrowhead\" d=\"M2380,334.0 L2372,322.0 2388,322.0\" fill=\"currentColor\"/>\n",
       "</g>\n",
       "\n",
       "<g class=\"displacy-arrow\">\n",
       "    <path class=\"displacy-arc\" id=\"arrow-e74a3efcf93f47628d4bebde4a6a647d-7-21\" stroke-width=\"2px\" d=\"M2270,332.0 C2270,222.0 2450.0,222.0 2450.0,332.0\" fill=\"none\" stroke=\"currentColor\"/>\n",
       "    <text dy=\"1.25em\" style=\"font-size: 0.8em; letter-spacing: 1px\">\n",
       "        <textPath xlink:href=\"#arrow-e74a3efcf93f47628d4bebde4a6a647d-7-21\" class=\"displacy-label\" startOffset=\"50%\" side=\"left\" fill=\"currentColor\" text-anchor=\"middle\">acl</textPath>\n",
       "    </text>\n",
       "    <path class=\"displacy-arrowhead\" d=\"M2450.0,334.0 L2458.0,322.0 2442.0,322.0\" fill=\"currentColor\"/>\n",
       "</g>\n",
       "\n",
       "<g class=\"displacy-arrow\">\n",
       "    <path class=\"displacy-arc\" id=\"arrow-e74a3efcf93f47628d4bebde4a6a647d-7-22\" stroke-width=\"2px\" d=\"M2600,332.0 C2600,277.0 2665.0,277.0 2665.0,332.0\" fill=\"none\" stroke=\"currentColor\"/>\n",
       "    <text dy=\"1.25em\" style=\"font-size: 0.8em; letter-spacing: 1px\">\n",
       "        <textPath xlink:href=\"#arrow-e74a3efcf93f47628d4bebde4a6a647d-7-22\" class=\"displacy-label\" startOffset=\"50%\" side=\"left\" fill=\"currentColor\" text-anchor=\"middle\">case</textPath>\n",
       "    </text>\n",
       "    <path class=\"displacy-arrowhead\" d=\"M2600,334.0 L2592,322.0 2608,322.0\" fill=\"currentColor\"/>\n",
       "</g>\n",
       "\n",
       "<g class=\"displacy-arrow\">\n",
       "    <path class=\"displacy-arc\" id=\"arrow-e74a3efcf93f47628d4bebde4a6a647d-7-23\" stroke-width=\"2px\" d=\"M2490,332.0 C2490,222.0 2670.0,222.0 2670.0,332.0\" fill=\"none\" stroke=\"currentColor\"/>\n",
       "    <text dy=\"1.25em\" style=\"font-size: 0.8em; letter-spacing: 1px\">\n",
       "        <textPath xlink:href=\"#arrow-e74a3efcf93f47628d4bebde4a6a647d-7-23\" class=\"displacy-label\" startOffset=\"50%\" side=\"left\" fill=\"currentColor\" text-anchor=\"middle\">obl</textPath>\n",
       "    </text>\n",
       "    <path class=\"displacy-arrowhead\" d=\"M2670.0,334.0 L2678.0,322.0 2662.0,322.0\" fill=\"currentColor\"/>\n",
       "</g>\n",
       "\n",
       "<g class=\"displacy-arrow\">\n",
       "    <path class=\"displacy-arc\" id=\"arrow-e74a3efcf93f47628d4bebde4a6a647d-7-24\" stroke-width=\"2px\" d=\"M2820,332.0 C2820,222.0 3000.0,222.0 3000.0,332.0\" fill=\"none\" stroke=\"currentColor\"/>\n",
       "    <text dy=\"1.25em\" style=\"font-size: 0.8em; letter-spacing: 1px\">\n",
       "        <textPath xlink:href=\"#arrow-e74a3efcf93f47628d4bebde4a6a647d-7-24\" class=\"displacy-label\" startOffset=\"50%\" side=\"left\" fill=\"currentColor\" text-anchor=\"middle\">obl</textPath>\n",
       "    </text>\n",
       "    <path class=\"displacy-arrowhead\" d=\"M2820,334.0 L2812,322.0 2828,322.0\" fill=\"currentColor\"/>\n",
       "</g>\n",
       "\n",
       "<g class=\"displacy-arrow\">\n",
       "    <path class=\"displacy-arc\" id=\"arrow-e74a3efcf93f47628d4bebde4a6a647d-7-25\" stroke-width=\"2px\" d=\"M2930,332.0 C2930,277.0 2995.0,277.0 2995.0,332.0\" fill=\"none\" stroke=\"currentColor\"/>\n",
       "    <text dy=\"1.25em\" style=\"font-size: 0.8em; letter-spacing: 1px\">\n",
       "        <textPath xlink:href=\"#arrow-e74a3efcf93f47628d4bebde4a6a647d-7-25\" class=\"displacy-label\" startOffset=\"50%\" side=\"left\" fill=\"currentColor\" text-anchor=\"middle\">obj</textPath>\n",
       "    </text>\n",
       "    <path class=\"displacy-arrowhead\" d=\"M2930,334.0 L2922,322.0 2938,322.0\" fill=\"currentColor\"/>\n",
       "</g>\n",
       "\n",
       "<g class=\"displacy-arrow\">\n",
       "    <path class=\"displacy-arc\" id=\"arrow-e74a3efcf93f47628d4bebde4a6a647d-7-26\" stroke-width=\"2px\" d=\"M2710,332.0 C2710,167.0 3005.0,167.0 3005.0,332.0\" fill=\"none\" stroke=\"currentColor\"/>\n",
       "    <text dy=\"1.25em\" style=\"font-size: 0.8em; letter-spacing: 1px\">\n",
       "        <textPath xlink:href=\"#arrow-e74a3efcf93f47628d4bebde4a6a647d-7-26\" class=\"displacy-label\" startOffset=\"50%\" side=\"left\" fill=\"currentColor\" text-anchor=\"middle\">acl</textPath>\n",
       "    </text>\n",
       "    <path class=\"displacy-arrowhead\" d=\"M3005.0,334.0 L3013.0,322.0 2997.0,322.0\" fill=\"currentColor\"/>\n",
       "</g>\n",
       "\n",
       "<g class=\"displacy-arrow\">\n",
       "    <path class=\"displacy-arc\" id=\"arrow-e74a3efcf93f47628d4bebde4a6a647d-7-27\" stroke-width=\"2px\" d=\"M3150,332.0 C3150,277.0 3215.0,277.0 3215.0,332.0\" fill=\"none\" stroke=\"currentColor\"/>\n",
       "    <text dy=\"1.25em\" style=\"font-size: 0.8em; letter-spacing: 1px\">\n",
       "        <textPath xlink:href=\"#arrow-e74a3efcf93f47628d4bebde4a6a647d-7-27\" class=\"displacy-label\" startOffset=\"50%\" side=\"left\" fill=\"currentColor\" text-anchor=\"middle\">nummod</textPath>\n",
       "    </text>\n",
       "    <path class=\"displacy-arrowhead\" d=\"M3150,334.0 L3142,322.0 3158,322.0\" fill=\"currentColor\"/>\n",
       "</g>\n",
       "\n",
       "<g class=\"displacy-arrow\">\n",
       "    <path class=\"displacy-arc\" id=\"arrow-e74a3efcf93f47628d4bebde4a6a647d-7-28\" stroke-width=\"2px\" d=\"M3040,332.0 C3040,222.0 3220.0,222.0 3220.0,332.0\" fill=\"none\" stroke=\"currentColor\"/>\n",
       "    <text dy=\"1.25em\" style=\"font-size: 0.8em; letter-spacing: 1px\">\n",
       "        <textPath xlink:href=\"#arrow-e74a3efcf93f47628d4bebde4a6a647d-7-28\" class=\"displacy-label\" startOffset=\"50%\" side=\"left\" fill=\"currentColor\" text-anchor=\"middle\">nsubj</textPath>\n",
       "    </text>\n",
       "    <path class=\"displacy-arrowhead\" d=\"M3220.0,334.0 L3228.0,322.0 3212.0,322.0\" fill=\"currentColor\"/>\n",
       "</g>\n",
       "\n",
       "<g class=\"displacy-arrow\">\n",
       "    <path class=\"displacy-arc\" id=\"arrow-e74a3efcf93f47628d4bebde4a6a647d-7-29\" stroke-width=\"2px\" d=\"M3370,332.0 C3370,277.0 3435.0,277.0 3435.0,332.0\" fill=\"none\" stroke=\"currentColor\"/>\n",
       "    <text dy=\"1.25em\" style=\"font-size: 0.8em; letter-spacing: 1px\">\n",
       "        <textPath xlink:href=\"#arrow-e74a3efcf93f47628d4bebde4a6a647d-7-29\" class=\"displacy-label\" startOffset=\"50%\" side=\"left\" fill=\"currentColor\" text-anchor=\"middle\">case</textPath>\n",
       "    </text>\n",
       "    <path class=\"displacy-arrowhead\" d=\"M3370,334.0 L3362,322.0 3378,322.0\" fill=\"currentColor\"/>\n",
       "</g>\n",
       "\n",
       "<g class=\"displacy-arrow\">\n",
       "    <path class=\"displacy-arc\" id=\"arrow-e74a3efcf93f47628d4bebde4a6a647d-7-30\" stroke-width=\"2px\" d=\"M3260,332.0 C3260,222.0 3440.0,222.0 3440.0,332.0\" fill=\"none\" stroke=\"currentColor\"/>\n",
       "    <text dy=\"1.25em\" style=\"font-size: 0.8em; letter-spacing: 1px\">\n",
       "        <textPath xlink:href=\"#arrow-e74a3efcf93f47628d4bebde4a6a647d-7-30\" class=\"displacy-label\" startOffset=\"50%\" side=\"left\" fill=\"currentColor\" text-anchor=\"middle\">nmod</textPath>\n",
       "    </text>\n",
       "    <path class=\"displacy-arrowhead\" d=\"M3440.0,334.0 L3448.0,322.0 3432.0,322.0\" fill=\"currentColor\"/>\n",
       "</g>\n",
       "</svg>\n",
       "</figure>\n",
       "\n",
       "<figure style=\"margin-bottom: 6rem\">\n",
       "<svg xmlns=\"http://www.w3.org/2000/svg\" xmlns:xlink=\"http://www.w3.org/1999/xlink\" xml:lang=\"es\" id=\"e74a3efcf93f47628d4bebde4a6a647d-8\" class=\"displacy\" width=\"1260\" height=\"412.0\" direction=\"ltr\" style=\"max-width: none; height: 412.0px; color: brown; background: #ffffff; font-family: Monaco; direction: ltr\">\n",
       "<text class=\"displacy-token\" fill=\"currentColor\" text-anchor=\"middle\" y=\"322.0\">\n",
       "    <tspan class=\"displacy-word\" fill=\"currentColor\" x=\"50\">Manuel</tspan>\n",
       "    <tspan class=\"displacy-tag\" dy=\"2em\" fill=\"currentColor\" x=\"50\">PROPN</tspan>\n",
       "</text>\n",
       "\n",
       "<text class=\"displacy-token\" fill=\"currentColor\" text-anchor=\"middle\" y=\"322.0\">\n",
       "    <tspan class=\"displacy-word\" fill=\"currentColor\" x=\"160\">trabaja</tspan>\n",
       "    <tspan class=\"displacy-tag\" dy=\"2em\" fill=\"currentColor\" x=\"160\">VERB</tspan>\n",
       "</text>\n",
       "\n",
       "<text class=\"displacy-token\" fill=\"currentColor\" text-anchor=\"middle\" y=\"322.0\">\n",
       "    <tspan class=\"displacy-word\" fill=\"currentColor\" x=\"270\">en</tspan>\n",
       "    <tspan class=\"displacy-tag\" dy=\"2em\" fill=\"currentColor\" x=\"270\">ADP</tspan>\n",
       "</text>\n",
       "\n",
       "<text class=\"displacy-token\" fill=\"currentColor\" text-anchor=\"middle\" y=\"322.0\">\n",
       "    <tspan class=\"displacy-word\" fill=\"currentColor\" x=\"380\">el</tspan>\n",
       "    <tspan class=\"displacy-tag\" dy=\"2em\" fill=\"currentColor\" x=\"380\">DET</tspan>\n",
       "</text>\n",
       "\n",
       "<text class=\"displacy-token\" fill=\"currentColor\" text-anchor=\"middle\" y=\"322.0\">\n",
       "    <tspan class=\"displacy-word\" fill=\"currentColor\" x=\"490\">Banco</tspan>\n",
       "    <tspan class=\"displacy-tag\" dy=\"2em\" fill=\"currentColor\" x=\"490\">PROPN</tspan>\n",
       "</text>\n",
       "\n",
       "<text class=\"displacy-token\" fill=\"currentColor\" text-anchor=\"middle\" y=\"322.0\">\n",
       "    <tspan class=\"displacy-word\" fill=\"currentColor\" x=\"600\">Asiático</tspan>\n",
       "    <tspan class=\"displacy-tag\" dy=\"2em\" fill=\"currentColor\" x=\"600\">PROPN</tspan>\n",
       "</text>\n",
       "\n",
       "<text class=\"displacy-token\" fill=\"currentColor\" text-anchor=\"middle\" y=\"322.0\">\n",
       "    <tspan class=\"displacy-word\" fill=\"currentColor\" x=\"710\">de</tspan>\n",
       "    <tspan class=\"displacy-tag\" dy=\"2em\" fill=\"currentColor\" x=\"710\">ADP</tspan>\n",
       "</text>\n",
       "\n",
       "<text class=\"displacy-token\" fill=\"currentColor\" text-anchor=\"middle\" y=\"322.0\">\n",
       "    <tspan class=\"displacy-word\" fill=\"currentColor\" x=\"820\">Desarrollo (</tspan>\n",
       "    <tspan class=\"displacy-tag\" dy=\"2em\" fill=\"currentColor\" x=\"820\">PROPN</tspan>\n",
       "</text>\n",
       "\n",
       "<text class=\"displacy-token\" fill=\"currentColor\" text-anchor=\"middle\" y=\"322.0\">\n",
       "    <tspan class=\"displacy-word\" fill=\"currentColor\" x=\"930\">ADB),</tspan>\n",
       "    <tspan class=\"displacy-tag\" dy=\"2em\" fill=\"currentColor\" x=\"930\">PROPN</tspan>\n",
       "</text>\n",
       "\n",
       "<text class=\"displacy-token\" fill=\"currentColor\" text-anchor=\"middle\" y=\"322.0\">\n",
       "    <tspan class=\"displacy-word\" fill=\"currentColor\" x=\"1040\">en</tspan>\n",
       "    <tspan class=\"displacy-tag\" dy=\"2em\" fill=\"currentColor\" x=\"1040\">ADP</tspan>\n",
       "</text>\n",
       "\n",
       "<text class=\"displacy-token\" fill=\"currentColor\" text-anchor=\"middle\" y=\"322.0\">\n",
       "    <tspan class=\"displacy-word\" fill=\"currentColor\" x=\"1150\">Manila.</tspan>\n",
       "    <tspan class=\"displacy-tag\" dy=\"2em\" fill=\"currentColor\" x=\"1150\">PROPN</tspan>\n",
       "</text>\n",
       "\n",
       "<g class=\"displacy-arrow\">\n",
       "    <path class=\"displacy-arc\" id=\"arrow-e74a3efcf93f47628d4bebde4a6a647d-8-0\" stroke-width=\"2px\" d=\"M70,277.0 C70,222.0 140.0,222.0 140.0,277.0\" fill=\"none\" stroke=\"currentColor\"/>\n",
       "    <text dy=\"1.25em\" style=\"font-size: 0.8em; letter-spacing: 1px\">\n",
       "        <textPath xlink:href=\"#arrow-e74a3efcf93f47628d4bebde4a6a647d-8-0\" class=\"displacy-label\" startOffset=\"50%\" side=\"left\" fill=\"currentColor\" text-anchor=\"middle\">nsubj</textPath>\n",
       "    </text>\n",
       "    <path class=\"displacy-arrowhead\" d=\"M70,279.0 L62,267.0 78,267.0\" fill=\"currentColor\"/>\n",
       "</g>\n",
       "\n",
       "<g class=\"displacy-arrow\">\n",
       "    <path class=\"displacy-arc\" id=\"arrow-e74a3efcf93f47628d4bebde4a6a647d-8-1\" stroke-width=\"2px\" d=\"M290,277.0 C290,167.0 475.0,167.0 475.0,277.0\" fill=\"none\" stroke=\"currentColor\"/>\n",
       "    <text dy=\"1.25em\" style=\"font-size: 0.8em; letter-spacing: 1px\">\n",
       "        <textPath xlink:href=\"#arrow-e74a3efcf93f47628d4bebde4a6a647d-8-1\" class=\"displacy-label\" startOffset=\"50%\" side=\"left\" fill=\"currentColor\" text-anchor=\"middle\">case</textPath>\n",
       "    </text>\n",
       "    <path class=\"displacy-arrowhead\" d=\"M290,279.0 L282,267.0 298,267.0\" fill=\"currentColor\"/>\n",
       "</g>\n",
       "\n",
       "<g class=\"displacy-arrow\">\n",
       "    <path class=\"displacy-arc\" id=\"arrow-e74a3efcf93f47628d4bebde4a6a647d-8-2\" stroke-width=\"2px\" d=\"M400,277.0 C400,222.0 470.0,222.0 470.0,277.0\" fill=\"none\" stroke=\"currentColor\"/>\n",
       "    <text dy=\"1.25em\" style=\"font-size: 0.8em; letter-spacing: 1px\">\n",
       "        <textPath xlink:href=\"#arrow-e74a3efcf93f47628d4bebde4a6a647d-8-2\" class=\"displacy-label\" startOffset=\"50%\" side=\"left\" fill=\"currentColor\" text-anchor=\"middle\">det</textPath>\n",
       "    </text>\n",
       "    <path class=\"displacy-arrowhead\" d=\"M400,279.0 L392,267.0 408,267.0\" fill=\"currentColor\"/>\n",
       "</g>\n",
       "\n",
       "<g class=\"displacy-arrow\">\n",
       "    <path class=\"displacy-arc\" id=\"arrow-e74a3efcf93f47628d4bebde4a6a647d-8-3\" stroke-width=\"2px\" d=\"M180,277.0 C180,112.0 480.0,112.0 480.0,277.0\" fill=\"none\" stroke=\"currentColor\"/>\n",
       "    <text dy=\"1.25em\" style=\"font-size: 0.8em; letter-spacing: 1px\">\n",
       "        <textPath xlink:href=\"#arrow-e74a3efcf93f47628d4bebde4a6a647d-8-3\" class=\"displacy-label\" startOffset=\"50%\" side=\"left\" fill=\"currentColor\" text-anchor=\"middle\">obl</textPath>\n",
       "    </text>\n",
       "    <path class=\"displacy-arrowhead\" d=\"M480.0,279.0 L488.0,267.0 472.0,267.0\" fill=\"currentColor\"/>\n",
       "</g>\n",
       "\n",
       "<g class=\"displacy-arrow\">\n",
       "    <path class=\"displacy-arc\" id=\"arrow-e74a3efcf93f47628d4bebde4a6a647d-8-4\" stroke-width=\"2px\" d=\"M510,277.0 C510,222.0 580.0,222.0 580.0,277.0\" fill=\"none\" stroke=\"currentColor\"/>\n",
       "    <text dy=\"1.25em\" style=\"font-size: 0.8em; letter-spacing: 1px\">\n",
       "        <textPath xlink:href=\"#arrow-e74a3efcf93f47628d4bebde4a6a647d-8-4\" class=\"displacy-label\" startOffset=\"50%\" side=\"left\" fill=\"currentColor\" text-anchor=\"middle\">flat</textPath>\n",
       "    </text>\n",
       "    <path class=\"displacy-arrowhead\" d=\"M580.0,279.0 L588.0,267.0 572.0,267.0\" fill=\"currentColor\"/>\n",
       "</g>\n",
       "\n",
       "<g class=\"displacy-arrow\">\n",
       "    <path class=\"displacy-arc\" id=\"arrow-e74a3efcf93f47628d4bebde4a6a647d-8-5\" stroke-width=\"2px\" d=\"M730,277.0 C730,222.0 800.0,222.0 800.0,277.0\" fill=\"none\" stroke=\"currentColor\"/>\n",
       "    <text dy=\"1.25em\" style=\"font-size: 0.8em; letter-spacing: 1px\">\n",
       "        <textPath xlink:href=\"#arrow-e74a3efcf93f47628d4bebde4a6a647d-8-5\" class=\"displacy-label\" startOffset=\"50%\" side=\"left\" fill=\"currentColor\" text-anchor=\"middle\">case</textPath>\n",
       "    </text>\n",
       "    <path class=\"displacy-arrowhead\" d=\"M730,279.0 L722,267.0 738,267.0\" fill=\"currentColor\"/>\n",
       "</g>\n",
       "\n",
       "<g class=\"displacy-arrow\">\n",
       "    <path class=\"displacy-arc\" id=\"arrow-e74a3efcf93f47628d4bebde4a6a647d-8-6\" stroke-width=\"2px\" d=\"M510,277.0 C510,112.0 810.0,112.0 810.0,277.0\" fill=\"none\" stroke=\"currentColor\"/>\n",
       "    <text dy=\"1.25em\" style=\"font-size: 0.8em; letter-spacing: 1px\">\n",
       "        <textPath xlink:href=\"#arrow-e74a3efcf93f47628d4bebde4a6a647d-8-6\" class=\"displacy-label\" startOffset=\"50%\" side=\"left\" fill=\"currentColor\" text-anchor=\"middle\">flat</textPath>\n",
       "    </text>\n",
       "    <path class=\"displacy-arrowhead\" d=\"M810.0,279.0 L818.0,267.0 802.0,267.0\" fill=\"currentColor\"/>\n",
       "</g>\n",
       "\n",
       "<g class=\"displacy-arrow\">\n",
       "    <path class=\"displacy-arc\" id=\"arrow-e74a3efcf93f47628d4bebde4a6a647d-8-7\" stroke-width=\"2px\" d=\"M510,277.0 C510,57.0 925.0,57.0 925.0,277.0\" fill=\"none\" stroke=\"currentColor\"/>\n",
       "    <text dy=\"1.25em\" style=\"font-size: 0.8em; letter-spacing: 1px\">\n",
       "        <textPath xlink:href=\"#arrow-e74a3efcf93f47628d4bebde4a6a647d-8-7\" class=\"displacy-label\" startOffset=\"50%\" side=\"left\" fill=\"currentColor\" text-anchor=\"middle\">flat</textPath>\n",
       "    </text>\n",
       "    <path class=\"displacy-arrowhead\" d=\"M925.0,279.0 L933.0,267.0 917.0,267.0\" fill=\"currentColor\"/>\n",
       "</g>\n",
       "\n",
       "<g class=\"displacy-arrow\">\n",
       "    <path class=\"displacy-arc\" id=\"arrow-e74a3efcf93f47628d4bebde4a6a647d-8-8\" stroke-width=\"2px\" d=\"M1060,277.0 C1060,222.0 1130.0,222.0 1130.0,277.0\" fill=\"none\" stroke=\"currentColor\"/>\n",
       "    <text dy=\"1.25em\" style=\"font-size: 0.8em; letter-spacing: 1px\">\n",
       "        <textPath xlink:href=\"#arrow-e74a3efcf93f47628d4bebde4a6a647d-8-8\" class=\"displacy-label\" startOffset=\"50%\" side=\"left\" fill=\"currentColor\" text-anchor=\"middle\">case</textPath>\n",
       "    </text>\n",
       "    <path class=\"displacy-arrowhead\" d=\"M1060,279.0 L1052,267.0 1068,267.0\" fill=\"currentColor\"/>\n",
       "</g>\n",
       "\n",
       "<g class=\"displacy-arrow\">\n",
       "    <path class=\"displacy-arc\" id=\"arrow-e74a3efcf93f47628d4bebde4a6a647d-8-9\" stroke-width=\"2px\" d=\"M510,277.0 C510,2.0 1150.0,2.0 1150.0,277.0\" fill=\"none\" stroke=\"currentColor\"/>\n",
       "    <text dy=\"1.25em\" style=\"font-size: 0.8em; letter-spacing: 1px\">\n",
       "        <textPath xlink:href=\"#arrow-e74a3efcf93f47628d4bebde4a6a647d-8-9\" class=\"displacy-label\" startOffset=\"50%\" side=\"left\" fill=\"currentColor\" text-anchor=\"middle\">nmod</textPath>\n",
       "    </text>\n",
       "    <path class=\"displacy-arrowhead\" d=\"M1150.0,279.0 L1158.0,267.0 1142.0,267.0\" fill=\"currentColor\"/>\n",
       "</g>\n",
       "</svg>\n",
       "</figure>\n",
       "</body>\n",
       "</html></span>"
      ],
      "text/plain": [
       "<IPython.core.display.HTML object>"
      ]
     },
     "metadata": {},
     "output_type": "display_data"
    }
   ],
   "source": [
    "from spacy import displacy\n",
    "\n",
    "sentence_spans = list(doc.sents)\n",
    "options = {'compact': False, 'color': 'brown', 'font': 'Monaco', 'distance': 110}\n",
    "displacy.render(sentence_spans, style=\"dep\", jupyter=True, page=True, options=options)"
   ]
  },
  {
   "cell_type": "markdown",
   "metadata": {
    "extensions": {
     "jupyter_dashboards": {
      "version": 1,
      "views": {
       "default_view": {
        "col": 0,
        "height": 2,
        "row": 34,
        "width": 12
       }
      }
     }
    }
   },
   "source": [
    "## Noun chunks"
   ]
  },
  {
   "cell_type": "code",
   "execution_count": 16,
   "metadata": {
    "extensions": {
     "jupyter_dashboards": {
      "version": 1,
      "views": {
       "default_view": {
        "hidden": true
       }
      }
     }
    }
   },
   "outputs": [
    {
     "data": {
      "text/html": [
       "<div>\n",
       "<style scoped>\n",
       "    .dataframe tbody tr th:only-of-type {\n",
       "        vertical-align: middle;\n",
       "    }\n",
       "\n",
       "    .dataframe tbody tr th {\n",
       "        vertical-align: top;\n",
       "    }\n",
       "\n",
       "    .dataframe thead th {\n",
       "        text-align: right;\n",
       "    }\n",
       "</style>\n",
       "<table border=\"1\" class=\"dataframe\">\n",
       "  <thead>\n",
       "    <tr style=\"text-align: right;\">\n",
       "      <th></th>\n",
       "      <th>Sintagma nominal (SN)</th>\n",
       "      <th>Núcleo del SN</th>\n",
       "      <th>Depende sintácticamente de</th>\n",
       "      <th>en función sintáctica de</th>\n",
       "      <th>Abreviatura de la función</th>\n",
       "    </tr>\n",
       "  </thead>\n",
       "  <tbody>\n",
       "    <tr>\n",
       "      <th>0</th>\n",
       "      <td>Esta</td>\n",
       "      <td>Esta</td>\n",
       "      <td>prueba</td>\n",
       "      <td>nominal subject</td>\n",
       "      <td>nsubj</td>\n",
       "    </tr>\n",
       "    <tr>\n",
       "      <th>1</th>\n",
       "      <td>una prueba</td>\n",
       "      <td>prueba</td>\n",
       "      <td>prueba</td>\n",
       "      <td>None</td>\n",
       "      <td>ROOT</td>\n",
       "    </tr>\n",
       "    <tr>\n",
       "      <th>2</th>\n",
       "      <td>este lema</td>\n",
       "      <td>lema</td>\n",
       "      <td>recorrido</td>\n",
       "      <td>oblique nominal</td>\n",
       "      <td>obl</td>\n",
       "    </tr>\n",
       "    <tr>\n",
       "      <th>3</th>\n",
       "      <td>personas</td>\n",
       "      <td>personas</td>\n",
       "      <td>miles</td>\n",
       "      <td>modifier of nominal</td>\n",
       "      <td>nmod</td>\n",
       "    </tr>\n",
       "    <tr>\n",
       "      <th>4</th>\n",
       "      <td>las calles</td>\n",
       "      <td>calles</td>\n",
       "      <td>recorrido</td>\n",
       "      <td>object</td>\n",
       "      <td>obj</td>\n",
       "    </tr>\n",
       "    <tr>\n",
       "      <th>5</th>\n",
       "      <td>Murcia</td>\n",
       "      <td>Murcia</td>\n",
       "      <td>calles</td>\n",
       "      <td>modifier of nominal</td>\n",
       "      <td>nmod</td>\n",
       "    </tr>\n",
       "    <tr>\n",
       "      <th>6</th>\n",
       "      <td>este jueves</td>\n",
       "      <td>jueves</td>\n",
       "      <td>recorrido</td>\n",
       "      <td>oblique nominal</td>\n",
       "      <td>obl</td>\n",
       "    </tr>\n",
       "    <tr>\n",
       "      <th>7</th>\n",
       "      <td>las administraciones</td>\n",
       "      <td>administraciones</td>\n",
       "      <td>reclamar</td>\n",
       "      <td>object</td>\n",
       "      <td>obj</td>\n",
       "    </tr>\n",
       "    <tr>\n",
       "      <th>8</th>\n",
       "      <td>la adopción</td>\n",
       "      <td>adopción</td>\n",
       "      <td>reclamar</td>\n",
       "      <td>object</td>\n",
       "      <td>obj</td>\n",
       "    </tr>\n",
       "    <tr>\n",
       "      <th>9</th>\n",
       "      <td>medidas</td>\n",
       "      <td>medidas</td>\n",
       "      <td>adopción</td>\n",
       "      <td>modifier of nominal</td>\n",
       "      <td>nmod</td>\n",
       "    </tr>\n",
       "    <tr>\n",
       "      <th>10</th>\n",
       "      <td>que</td>\n",
       "      <td>que</td>\n",
       "      <td>recuperen</td>\n",
       "      <td>nominal subject</td>\n",
       "      <td>nsubj</td>\n",
       "    </tr>\n",
       "    <tr>\n",
       "      <th>11</th>\n",
       "      <td>su laguna</td>\n",
       "      <td>laguna</td>\n",
       "      <td>recuperen</td>\n",
       "      <td>object</td>\n",
       "      <td>obj</td>\n",
       "    </tr>\n",
       "    <tr>\n",
       "      <th>12</th>\n",
       "      <td>aquella</td>\n",
       "      <td>aquella</td>\n",
       "      <td>laguna</td>\n",
       "      <td>appositional modifier</td>\n",
       "      <td>appos</td>\n",
       "    </tr>\n",
       "    <tr>\n",
       "      <th>13</th>\n",
       "      <td>aguas</td>\n",
       "      <td>aguas</td>\n",
       "      <td>aquella</td>\n",
       "      <td>modifier of nominal</td>\n",
       "      <td>nmod</td>\n",
       "    </tr>\n",
       "    <tr>\n",
       "      <th>14</th>\n",
       "      <td>que</td>\n",
       "      <td>que</td>\n",
       "      <td>conocieron</td>\n",
       "      <td>object</td>\n",
       "      <td>obj</td>\n",
       "    </tr>\n",
       "    <tr>\n",
       "      <th>15</th>\n",
       "      <td>colectivos</td>\n",
       "      <td>colectivos</td>\n",
       "      <td>unido</td>\n",
       "      <td>nominal subject</td>\n",
       "      <td>nsubj</td>\n",
       "    </tr>\n",
       "    <tr>\n",
       "      <th>16</th>\n",
       "      <td>se</td>\n",
       "      <td>se</td>\n",
       "      <td>unido</td>\n",
       "      <td>object</td>\n",
       "      <td>obj</td>\n",
       "    </tr>\n",
       "    <tr>\n",
       "      <th>17</th>\n",
       "      <td>torno</td>\n",
       "      <td>torno</td>\n",
       "      <td>en</td>\n",
       "      <td>fixed multiword expression</td>\n",
       "      <td>fixed</td>\n",
       "    </tr>\n",
       "    <tr>\n",
       "      <th>18</th>\n",
       "      <td>la consigna</td>\n",
       "      <td>consigna</td>\n",
       "      <td>unido</td>\n",
       "      <td>oblique nominal</td>\n",
       "      <td>obl</td>\n",
       "    </tr>\n",
       "    <tr>\n",
       "      <th>19</th>\n",
       "      <td>'</td>\n",
       "      <td>'</td>\n",
       "      <td>unido</td>\n",
       "      <td>adverbial clause modifier</td>\n",
       "      <td>advcl</td>\n",
       "    </tr>\n",
       "    <tr>\n",
       "      <th>20</th>\n",
       "      <td>SOS</td>\n",
       "      <td>SOS</td>\n",
       "      <td>SOS</td>\n",
       "      <td>None</td>\n",
       "      <td>ROOT</td>\n",
       "    </tr>\n",
       "    <tr>\n",
       "      <th>21</th>\n",
       "      <td>Mar</td>\n",
       "      <td>Mar</td>\n",
       "      <td>Mar</td>\n",
       "      <td>None</td>\n",
       "      <td>ROOT</td>\n",
       "    </tr>\n",
       "    <tr>\n",
       "      <th>22</th>\n",
       "      <td>Menor</td>\n",
       "      <td>Menor</td>\n",
       "      <td>Menor</td>\n",
       "      <td>None</td>\n",
       "      <td>ROOT</td>\n",
       "    </tr>\n",
       "    <tr>\n",
       "      <th>23</th>\n",
       "      <td>un mar Menor</td>\n",
       "      <td>mar</td>\n",
       "      <td>mar</td>\n",
       "      <td>None</td>\n",
       "      <td>ROOT</td>\n",
       "    </tr>\n",
       "    <tr>\n",
       "      <th>24</th>\n",
       "      <td>futuro</td>\n",
       "      <td>futuro</td>\n",
       "      <td>mar</td>\n",
       "      <td>modifier of nominal</td>\n",
       "      <td>nmod</td>\n",
       "    </tr>\n",
       "    <tr>\n",
       "      <th>25</th>\n",
       "      <td>'</td>\n",
       "      <td>'</td>\n",
       "      <td>mar</td>\n",
       "      <td>modifier of nominal</td>\n",
       "      <td>nmod</td>\n",
       "    </tr>\n",
       "    <tr>\n",
       "      <th>26</th>\n",
       "      <td>la situación</td>\n",
       "      <td>situación</td>\n",
       "      <td>protestar</td>\n",
       "      <td>oblique nominal</td>\n",
       "      <td>obl</td>\n",
       "    </tr>\n",
       "    <tr>\n",
       "      <th>27</th>\n",
       "      <td>la laguna</td>\n",
       "      <td>laguna</td>\n",
       "      <td>situación</td>\n",
       "      <td>modifier of nominal</td>\n",
       "      <td>nmod</td>\n",
       "    </tr>\n",
       "    <tr>\n",
       "      <th>28</th>\n",
       "      <td>meses</td>\n",
       "      <td>meses</td>\n",
       "      <td>después</td>\n",
       "      <td>oblique nominal</td>\n",
       "      <td>obl</td>\n",
       "    </tr>\n",
       "    <tr>\n",
       "      <th>29</th>\n",
       "      <td>la grave crisis</td>\n",
       "      <td>crisis</td>\n",
       "      <td>después</td>\n",
       "      <td>oblique nominal</td>\n",
       "      <td>obl</td>\n",
       "    </tr>\n",
       "    <tr>\n",
       "      <th>30</th>\n",
       "      <td>que</td>\n",
       "      <td>que</td>\n",
       "      <td>sufrió</td>\n",
       "      <td>object</td>\n",
       "      <td>obj</td>\n",
       "    </tr>\n",
       "    <tr>\n",
       "      <th>31</th>\n",
       "      <td>agosto</td>\n",
       "      <td>agosto</td>\n",
       "      <td>sufrió</td>\n",
       "      <td>oblique nominal</td>\n",
       "      <td>obl</td>\n",
       "    </tr>\n",
       "    <tr>\n",
       "      <th>32</th>\n",
       "      <td>cuando</td>\n",
       "      <td>cuando</td>\n",
       "      <td>sacaron</td>\n",
       "      <td>oblique nominal</td>\n",
       "      <td>obl</td>\n",
       "    </tr>\n",
       "    <tr>\n",
       "      <th>33</th>\n",
       "      <td>se</td>\n",
       "      <td>se</td>\n",
       "      <td>sacaron</td>\n",
       "      <td>object</td>\n",
       "      <td>obj</td>\n",
       "    </tr>\n",
       "    <tr>\n",
       "      <th>34</th>\n",
       "      <td>toneladas</td>\n",
       "      <td>toneladas</td>\n",
       "      <td>sacaron</td>\n",
       "      <td>nominal subject</td>\n",
       "      <td>nsubj</td>\n",
       "    </tr>\n",
       "    <tr>\n",
       "      <th>35</th>\n",
       "      <td>peces</td>\n",
       "      <td>peces</td>\n",
       "      <td>toneladas</td>\n",
       "      <td>modifier of nominal</td>\n",
       "      <td>nmod</td>\n",
       "    </tr>\n",
       "    <tr>\n",
       "      <th>36</th>\n",
       "      <td>Manuel</td>\n",
       "      <td>Manuel</td>\n",
       "      <td>trabaja</td>\n",
       "      <td>nominal subject</td>\n",
       "      <td>nsubj</td>\n",
       "    </tr>\n",
       "    <tr>\n",
       "      <th>37</th>\n",
       "      <td>el Banco Asiático de Desarrollo</td>\n",
       "      <td>Banco</td>\n",
       "      <td>trabaja</td>\n",
       "      <td>oblique nominal</td>\n",
       "      <td>obl</td>\n",
       "    </tr>\n",
       "    <tr>\n",
       "      <th>38</th>\n",
       "      <td>ADB</td>\n",
       "      <td>ADB</td>\n",
       "      <td>Banco</td>\n",
       "      <td>flat multiword expression</td>\n",
       "      <td>flat</td>\n",
       "    </tr>\n",
       "    <tr>\n",
       "      <th>39</th>\n",
       "      <td>Manila</td>\n",
       "      <td>Manila</td>\n",
       "      <td>Banco</td>\n",
       "      <td>modifier of nominal</td>\n",
       "      <td>nmod</td>\n",
       "    </tr>\n",
       "  </tbody>\n",
       "</table>\n",
       "</div>"
      ],
      "text/plain": [
       "              Sintagma nominal (SN)     Núcleo del SN  \\\n",
       "0                              Esta              Esta   \n",
       "1                        una prueba            prueba   \n",
       "2                         este lema              lema   \n",
       "3                          personas          personas   \n",
       "4                        las calles            calles   \n",
       "5                            Murcia            Murcia   \n",
       "6                       este jueves            jueves   \n",
       "7              las administraciones  administraciones   \n",
       "8                       la adopción          adopción   \n",
       "9                           medidas           medidas   \n",
       "10                              que               que   \n",
       "11                        su laguna            laguna   \n",
       "12                          aquella           aquella   \n",
       "13                            aguas             aguas   \n",
       "14                              que               que   \n",
       "15                       colectivos        colectivos   \n",
       "16                               se                se   \n",
       "17                            torno             torno   \n",
       "18                      la consigna          consigna   \n",
       "19                                '                 '   \n",
       "20                              SOS               SOS   \n",
       "21                              Mar               Mar   \n",
       "22                            Menor             Menor   \n",
       "23                     un mar Menor               mar   \n",
       "24                           futuro            futuro   \n",
       "25                                '                 '   \n",
       "26                     la situación         situación   \n",
       "27                        la laguna            laguna   \n",
       "28                            meses             meses   \n",
       "29                  la grave crisis            crisis   \n",
       "30                              que               que   \n",
       "31                           agosto            agosto   \n",
       "32                           cuando            cuando   \n",
       "33                               se                se   \n",
       "34                        toneladas         toneladas   \n",
       "35                            peces             peces   \n",
       "36                           Manuel            Manuel   \n",
       "37  el Banco Asiático de Desarrollo             Banco   \n",
       "38                              ADB               ADB   \n",
       "39                           Manila            Manila   \n",
       "\n",
       "   Depende sintácticamente de    en función sintáctica de  \\\n",
       "0                      prueba             nominal subject   \n",
       "1                      prueba                        None   \n",
       "2                   recorrido             oblique nominal   \n",
       "3                       miles         modifier of nominal   \n",
       "4                   recorrido                      object   \n",
       "5                      calles         modifier of nominal   \n",
       "6                   recorrido             oblique nominal   \n",
       "7                    reclamar                      object   \n",
       "8                    reclamar                      object   \n",
       "9                    adopción         modifier of nominal   \n",
       "10                  recuperen             nominal subject   \n",
       "11                  recuperen                      object   \n",
       "12                     laguna       appositional modifier   \n",
       "13                    aquella         modifier of nominal   \n",
       "14                 conocieron                      object   \n",
       "15                      unido             nominal subject   \n",
       "16                      unido                      object   \n",
       "17                         en  fixed multiword expression   \n",
       "18                      unido             oblique nominal   \n",
       "19                      unido   adverbial clause modifier   \n",
       "20                        SOS                        None   \n",
       "21                        Mar                        None   \n",
       "22                      Menor                        None   \n",
       "23                        mar                        None   \n",
       "24                        mar         modifier of nominal   \n",
       "25                        mar         modifier of nominal   \n",
       "26                  protestar             oblique nominal   \n",
       "27                  situación         modifier of nominal   \n",
       "28                    después             oblique nominal   \n",
       "29                    después             oblique nominal   \n",
       "30                     sufrió                      object   \n",
       "31                     sufrió             oblique nominal   \n",
       "32                    sacaron             oblique nominal   \n",
       "33                    sacaron                      object   \n",
       "34                    sacaron             nominal subject   \n",
       "35                  toneladas         modifier of nominal   \n",
       "36                    trabaja             nominal subject   \n",
       "37                    trabaja             oblique nominal   \n",
       "38                      Banco   flat multiword expression   \n",
       "39                      Banco         modifier of nominal   \n",
       "\n",
       "   Abreviatura de la función  \n",
       "0                      nsubj  \n",
       "1                       ROOT  \n",
       "2                        obl  \n",
       "3                       nmod  \n",
       "4                        obj  \n",
       "5                       nmod  \n",
       "6                        obl  \n",
       "7                        obj  \n",
       "8                        obj  \n",
       "9                       nmod  \n",
       "10                     nsubj  \n",
       "11                       obj  \n",
       "12                     appos  \n",
       "13                      nmod  \n",
       "14                       obj  \n",
       "15                     nsubj  \n",
       "16                       obj  \n",
       "17                     fixed  \n",
       "18                       obl  \n",
       "19                     advcl  \n",
       "20                      ROOT  \n",
       "21                      ROOT  \n",
       "22                      ROOT  \n",
       "23                      ROOT  \n",
       "24                      nmod  \n",
       "25                      nmod  \n",
       "26                       obl  \n",
       "27                      nmod  \n",
       "28                       obl  \n",
       "29                       obl  \n",
       "30                       obj  \n",
       "31                       obl  \n",
       "32                       obl  \n",
       "33                       obj  \n",
       "34                     nsubj  \n",
       "35                      nmod  \n",
       "36                     nsubj  \n",
       "37                       obl  \n",
       "38                      flat  \n",
       "39                      nmod  "
      ]
     },
     "execution_count": 16,
     "metadata": {},
     "output_type": "execute_result"
    }
   ],
   "source": [
    "import pandas as pd\n",
    "\n",
    "pd.DataFrame([[chunk.text, chunk.root.text, chunk.root.head.text, spacy.explain(chunk.root.dep_), chunk.root.dep_] for chunk in doc.noun_chunks], columns=['Sintagma nominal (SN)', 'Núcleo del SN', 'Depende sintácticamente de', 'en función sintáctica de', 'Abreviatura de la función'])"
   ]
  },
  {
   "cell_type": "code",
   "execution_count": null,
   "metadata": {
    "extensions": {
     "jupyter_dashboards": {
      "version": 1,
      "views": {
       "default_view": {
        "hidden": true
       }
      }
     }
    }
   },
   "outputs": [],
   "source": []
  },
  {
   "cell_type": "markdown",
   "metadata": {
    "extensions": {
     "jupyter_dashboards": {
      "version": 1,
      "views": {
       "default_view": {
        "col": 0,
        "height": 2,
        "row": 40,
        "width": 12
       }
      }
     }
    },
    "lang": "['*']"
   },
   "source": [
    "# Likelihood of a sentence\n",
    "Anothe key concept in NLP is that of **Language Models**. It is a function that is able to tell us the likelihood of a sentence of appearing in the real word. One such model, albeit a very simple one, is the one that multiplies the probabilities of every token in the sentence"
   ]
  },
  {
   "cell_type": "markdown",
   "metadata": {
    "extensions": {
     "jupyter_dashboards": {
      "version": 1,
      "views": {
       "default_view": {
        "col": 0,
        "height": 2,
        "row": 42,
        "width": 12
       }
      }
     }
    },
    "lang": "es"
   },
   "source": [
    "# Probabilidad de una sentencia\n",
    "Otro concepto clave en la PNL es el de **Modelos de lenguaje**. Es una función que es capaz de decirnos la probabilidad de que una oración aparezca en la palabra real. Uno de esos modelos, aunque muy simple, es el que multiplica las probabilidades de cada ficha en la oración."
   ]
  },
  {
   "cell_type": "code",
   "execution_count": 18,
   "metadata": {
    "extensions": {
     "jupyter_dashboards": {
      "version": 1,
      "views": {
       "default_view": {
        "hidden": true
       }
      }
     }
    }
   },
   "outputs": [
    {
     "data": {
      "text/html": [
       "<div>\n",
       "<style scoped>\n",
       "    .dataframe tbody tr th:only-of-type {\n",
       "        vertical-align: middle;\n",
       "    }\n",
       "\n",
       "    .dataframe tbody tr th {\n",
       "        vertical-align: top;\n",
       "    }\n",
       "\n",
       "    .dataframe thead th {\n",
       "        text-align: right;\n",
       "    }\n",
       "</style>\n",
       "<table border=\"1\" class=\"dataframe\">\n",
       "  <thead>\n",
       "    <tr style=\"text-align: right;\">\n",
       "      <th></th>\n",
       "      <th>Token</th>\n",
       "      <th>Prob</th>\n",
       "      <th>Log Prob</th>\n",
       "    </tr>\n",
       "  </thead>\n",
       "  <tbody>\n",
       "    <tr>\n",
       "      <th>0</th>\n",
       "      <td>Esta</td>\n",
       "      <td>2.061154e-09</td>\n",
       "      <td>-20.0</td>\n",
       "    </tr>\n",
       "    <tr>\n",
       "      <th>1</th>\n",
       "      <td>es</td>\n",
       "      <td>2.061154e-09</td>\n",
       "      <td>-20.0</td>\n",
       "    </tr>\n",
       "    <tr>\n",
       "      <th>2</th>\n",
       "      <td>una</td>\n",
       "      <td>2.061154e-09</td>\n",
       "      <td>-20.0</td>\n",
       "    </tr>\n",
       "    <tr>\n",
       "      <th>3</th>\n",
       "      <td>prueba</td>\n",
       "      <td>2.061154e-09</td>\n",
       "      <td>-20.0</td>\n",
       "    </tr>\n",
       "    <tr>\n",
       "      <th>4</th>\n",
       "      <td>.</td>\n",
       "      <td>2.061154e-09</td>\n",
       "      <td>-20.0</td>\n",
       "    </tr>\n",
       "    <tr>\n",
       "      <th>...</th>\n",
       "      <td>...</td>\n",
       "      <td>...</td>\n",
       "      <td>...</td>\n",
       "    </tr>\n",
       "    <tr>\n",
       "      <th>107</th>\n",
       "      <td>)</td>\n",
       "      <td>2.061154e-09</td>\n",
       "      <td>-20.0</td>\n",
       "    </tr>\n",
       "    <tr>\n",
       "      <th>108</th>\n",
       "      <td>,</td>\n",
       "      <td>2.061154e-09</td>\n",
       "      <td>-20.0</td>\n",
       "    </tr>\n",
       "    <tr>\n",
       "      <th>109</th>\n",
       "      <td>en</td>\n",
       "      <td>2.061154e-09</td>\n",
       "      <td>-20.0</td>\n",
       "    </tr>\n",
       "    <tr>\n",
       "      <th>110</th>\n",
       "      <td>Manila</td>\n",
       "      <td>2.061154e-09</td>\n",
       "      <td>-20.0</td>\n",
       "    </tr>\n",
       "    <tr>\n",
       "      <th>111</th>\n",
       "      <td>.</td>\n",
       "      <td>2.061154e-09</td>\n",
       "      <td>-20.0</td>\n",
       "    </tr>\n",
       "  </tbody>\n",
       "</table>\n",
       "<p>112 rows × 3 columns</p>\n",
       "</div>"
      ],
      "text/plain": [
       "      Token          Prob  Log Prob\n",
       "0      Esta  2.061154e-09     -20.0\n",
       "1        es  2.061154e-09     -20.0\n",
       "2       una  2.061154e-09     -20.0\n",
       "3    prueba  2.061154e-09     -20.0\n",
       "4         .  2.061154e-09     -20.0\n",
       "..      ...           ...       ...\n",
       "107       )  2.061154e-09     -20.0\n",
       "108       ,  2.061154e-09     -20.0\n",
       "109      en  2.061154e-09     -20.0\n",
       "110  Manila  2.061154e-09     -20.0\n",
       "111       .  2.061154e-09     -20.0\n",
       "\n",
       "[112 rows x 3 columns]"
      ]
     },
     "execution_count": 18,
     "metadata": {},
     "output_type": "execute_result"
    }
   ],
   "source": [
    "import pandas as pd\n",
    "import math\n",
    "\n",
    "pd.DataFrame([[word.text, math.exp(word.prob), word.prob] for word in doc], columns=['Token', 'Prob', 'Log Prob'])"
   ]
  },
  {
   "cell_type": "markdown",
   "metadata": {
    "extensions": {
     "jupyter_dashboards": {
      "version": 1,
      "views": {
       "default_view": {
        "col": 0,
        "height": 2,
        "row": 46,
        "width": 12
       }
      }
     }
    }
   },
   "source": [
    "# Dependency parsing (revisar)\n",
    "\n",
    "A syntactic dependency parser, with a rich API for navigating the tree. The parser also powers the sentence boundary detection, and lets you iterate over base noun phrases, or \"chunks\". "
   ]
  },
  {
   "cell_type": "code",
   "execution_count": 21,
   "metadata": {
    "extensions": {
     "jupyter_dashboards": {
      "version": 1,
      "views": {
       "default_view": {
        "hidden": true
       }
      }
     }
    }
   },
   "outputs": [],
   "source": [
    "from spacy.symbols import nsubj, VERB\n",
    "\n",
    "# Finding a verb with a subject from belEspañaow — good\n",
    "verbs = set()\n",
    "for possible_subject in doc:\n",
    "    if possible_subject.dep == nsubj and possible_subject.head.pos == VERB:\n",
    "        verbs.add(possible_subject.head)"
   ]
  },
  {
   "cell_type": "code",
   "execution_count": 22,
   "metadata": {
    "extensions": {
     "jupyter_dashboards": {
      "version": 1,
      "views": {
       "default_view": {
        "hidden": true
       }
      }
     }
    }
   },
   "outputs": [],
   "source": [
    "# Finding a verb with a subject from above — less good\n",
    "verbs = []\n",
    "for possible_verb in doc:\n",
    "    if possible_verb.pos == VERB:\n",
    "        for possible_subject in possible_verb.children:\n",
    "            if possible_subject.dep == nsubj:\n",
    "                verbs.append(possible_verb)\n",
    "                break"
   ]
  },
  {
   "cell_type": "markdown",
   "metadata": {
    "extensions": {
     "jupyter_dashboards": {
      "version": 1,
      "views": {
       "default_view": {
        "col": 0,
        "height": 2,
        "row": 52,
        "width": 12
       }
      }
     }
    }
   },
   "source": [
    "# Text readability"
   ]
  },
  {
   "cell_type": "markdown",
   "metadata": {
    "extensions": {
     "jupyter_dashboards": {
      "version": 1,
      "views": {
       "default_view": {
        "col": 0,
        "height": 2,
        "row": 54,
        "width": 12
       }
      }
     }
    }
   },
   "source": [
    "## Lecturabilidad de Fernández Huerta\n",
    "\n",
    "Basada en The Flesch Reading Ease formula.\n",
    "\n",
    "| Lecturabilidad (L)  |  nivel\t            |   Nivel educativo     |\n",
    "|---------------------|---------------------|-----------------------|\n",
    "| 0-30                |  muy difícil         |   universitario (especialización)        |   \n",
    "| 30-50\t              |  difícil\t            | cursos selectivos     |\n",
    "| 50-60\t              |  algo difícil\t    |     preuniversitario      |\n",
    "| 60-70\t              |  normal(para adulto)\t|    7º u 8º grado      |\n",
    "| 70-80\t              |  algo fácil\t        |     6º grado      |\n",
    "| 80-90\t              |  fácil\t            |     5º grado      |\n",
    "| 90-100\t          |  muy fácil\t        |     4º grado      |"
   ]
  },
  {
   "cell_type": "code",
   "execution_count": 23,
   "metadata": {
    "extensions": {
     "jupyter_dashboards": {
      "version": 1,
      "views": {
       "default_view": {
        "hidden": true
       }
      }
     }
    }
   },
   "outputs": [
    {
     "data": {
      "text/plain": [
       "96.7"
      ]
     },
     "execution_count": 23,
     "metadata": {},
     "output_type": "execute_result"
    }
   ],
   "source": [
    "import textstat\n",
    "\n",
    "textstat.fernandez_huerta(text)"
   ]
  },
  {
   "cell_type": "markdown",
   "metadata": {
    "extensions": {
     "jupyter_dashboards": {
      "version": 1,
      "views": {
       "default_view": {
        "col": 0,
        "height": 2,
        "row": 58,
        "width": 12
       }
      }
     }
    }
   },
   "source": [
    "## Índice de perspicuidad de Szigriszt-Pazos\n",
    "\n",
    "\n",
    "| Perspicuidad\t        | estilo\t       |  tipo de publicación\t        |       estudios                                |\n",
    "|-----------|------------------|--------------------------------|-----------------------------------------------|\n",
    "| 0 a 15\t| muy difícil\t   |  científica, filosófica\t    |    titulados universitarios   |\n",
    "| 16 a 35  \t| árido\t           |  pedagógica, técnica\t        |    selectividad y estudios universitarios |\n",
    "| 36 a 50  \t| bastante difícil | literatura y divulgación\t    |    cursos secundarios |\n",
    "| 51 a 65  \t| normal\t       |  medios de comunicación\t    |     popular   |\n",
    "| 66 a 75  \t| bastante fácil   |   novela, revista femenina \t|    12 años    |\n",
    "| 76 a 85  \t| fácil\t           |  para quioscos\t                |    11 años    |\n",
    "| 86 a 100\t| muy fácil\t       |  cómics, tebeos y viñetas\t    |     6 a 10 años   |\n"
   ]
  },
  {
   "cell_type": "code",
   "execution_count": 24,
   "metadata": {
    "extensions": {
     "jupyter_dashboards": {
      "version": 1,
      "views": {
       "default_view": {
        "hidden": true
       }
      }
     }
    }
   },
   "outputs": [
    {
     "data": {
      "text/plain": [
       "96.42"
      ]
     },
     "execution_count": 24,
     "metadata": {},
     "output_type": "execute_result"
    }
   ],
   "source": [
    "import textstat\n",
    "\n",
    "textstat.szigriszt_pazos(text)"
   ]
  },
  {
   "cell_type": "markdown",
   "metadata": {
    "extensions": {
     "jupyter_dashboards": {
      "version": 1,
      "views": {
       "default_view": {
        "col": 0,
        "height": 2,
        "row": 62,
        "width": 12
       }
      }
     }
    }
   },
   "source": [
    "## Fórmula de Crawford\n",
    "\n",
    "Años de escolaridad necesarios para entender el texto."
   ]
  },
  {
   "cell_type": "code",
   "execution_count": 25,
   "metadata": {
    "extensions": {
     "jupyter_dashboards": {
      "version": 1,
      "views": {
       "default_view": {
        "hidden": true
       }
      }
     }
    }
   },
   "outputs": [
    {
     "data": {
      "text/plain": [
       "2.7"
      ]
     },
     "execution_count": 25,
     "metadata": {},
     "output_type": "execute_result"
    }
   ],
   "source": [
    "import textstat\n",
    "\n",
    "textstat.crawford(text)"
   ]
  },
  {
   "cell_type": "markdown",
   "metadata": {
    "extensions": {
     "jupyter_dashboards": {
      "version": 1,
      "views": {
       "default_view": {
        "col": 0,
        "height": 2,
        "row": 66,
        "width": 12
       }
      }
     }
    }
   },
   "source": [
    "## Fórmula de comprensibilidad de Gutiérrez de Polini\n",
    "\n",
    "Sólo para niños de 11-12 años. Cuanto más bajo el número, más difícil de leer."
   ]
  },
  {
   "cell_type": "code",
   "execution_count": 26,
   "metadata": {
    "extensions": {
     "jupyter_dashboards": {
      "version": 1,
      "views": {
       "default_view": {
        "hidden": true
       }
      }
     }
    }
   },
   "outputs": [
    {
     "data": {
      "text/plain": [
       "42.02"
      ]
     },
     "execution_count": 26,
     "metadata": {},
     "output_type": "execute_result"
    }
   ],
   "source": [
    "import textstat\n",
    "\n",
    "textstat.gutierrez_polini(text)"
   ]
  },
  {
   "cell_type": "markdown",
   "metadata": {
    "extensions": {
     "jupyter_dashboards": {
      "version": 1,
      "views": {
       "default_view": {
        "col": 0,
        "height": 2,
        "row": 70,
        "width": 12
       }
      }
     }
    }
   },
   "source": [
    "## Número de palabras"
   ]
  },
  {
   "cell_type": "code",
   "execution_count": 27,
   "metadata": {
    "extensions": {
     "jupyter_dashboards": {
      "version": 1,
      "views": {
       "default_view": {
        "hidden": true
       }
      }
     }
    }
   },
   "outputs": [
    {
     "data": {
      "text/plain": [
       "99"
      ]
     },
     "execution_count": 27,
     "metadata": {},
     "output_type": "execute_result"
    }
   ],
   "source": [
    "import textstat\n",
    "\n",
    "textstat.lexicon_count(text, removepunct=True)"
   ]
  },
  {
   "cell_type": "markdown",
   "metadata": {
    "extensions": {
     "jupyter_dashboards": {
      "version": 1,
      "views": {
       "default_view": {
        "col": 0,
        "height": 2,
        "row": 74,
        "width": 12
       }
      }
     }
    }
   },
   "source": [
    "## Número de oraciones"
   ]
  },
  {
   "cell_type": "code",
   "execution_count": 28,
   "metadata": {
    "extensions": {
     "jupyter_dashboards": {
      "version": 1,
      "views": {
       "default_view": {
        "hidden": true
       }
      }
     }
    }
   },
   "outputs": [
    {
     "data": {
      "text/plain": [
       "5"
      ]
     },
     "execution_count": 28,
     "metadata": {},
     "output_type": "execute_result"
    }
   ],
   "source": [
    "import textstat\n",
    "\n",
    "textstat.sentence_count(text)"
   ]
  },
  {
   "cell_type": "markdown",
   "metadata": {
    "extensions": {
     "jupyter_dashboards": {
      "version": 1,
      "views": {
       "default_view": {
        "col": 0,
        "height": 2,
        "row": 78,
        "width": 12
       }
      }
     }
    }
   },
   "source": [
    "## Tiempo de lectura\n",
    "\n",
    "En segundos. 14,69 ms. por letra."
   ]
  },
  {
   "cell_type": "code",
   "execution_count": 29,
   "metadata": {
    "extensions": {
     "jupyter_dashboards": {
      "version": 1,
      "views": {
       "default_view": {
        "hidden": true
       }
      }
     }
    }
   },
   "outputs": [
    {
     "data": {
      "text/plain": [
       "7.12"
      ]
     },
     "execution_count": 29,
     "metadata": {},
     "output_type": "execute_result"
    }
   ],
   "source": [
    "import textstat\n",
    "\n",
    "textstat.reading_time(text, ms_per_char=14.69)"
   ]
  },
  {
   "cell_type": "code",
   "execution_count": 31,
   "metadata": {
    "extensions": {
     "jupyter_dashboards": {
      "version": 1,
      "views": {
       "default_view": {
        "hidden": true
       }
      }
     }
    }
   },
   "outputs": [
    {
     "data": {
      "text/html": [
       "<span class=\"tex2jax_ignore\"><svg xmlns=\"http://www.w3.org/2000/svg\" xmlns:xlink=\"http://www.w3.org/1999/xlink\" xml:lang=\"es\" id=\"9f4639fe2e6a41a695389970242020b3-0\" class=\"displacy\" width=\"1625\" height=\"399.5\" direction=\"ltr\" style=\"max-width: none; height: 399.5px; color: #000000; background: #ffffff; font-family: Arial; direction: ltr\">\n",
       "<text class=\"displacy-token\" fill=\"currentColor\" text-anchor=\"middle\" y=\"309.5\">\n",
       "    <tspan class=\"displacy-word\" fill=\"currentColor\" x=\"50\">La</tspan>\n",
       "    <tspan class=\"displacy-tag\" dy=\"2em\" fill=\"currentColor\" x=\"50\">DET</tspan>\n",
       "</text>\n",
       "\n",
       "<text class=\"displacy-token\" fill=\"currentColor\" text-anchor=\"middle\" y=\"309.5\">\n",
       "    <tspan class=\"displacy-word\" fill=\"currentColor\" x=\"225\">comida</tspan>\n",
       "    <tspan class=\"displacy-tag\" dy=\"2em\" fill=\"currentColor\" x=\"225\">NOUN</tspan>\n",
       "</text>\n",
       "\n",
       "<text class=\"displacy-token\" fill=\"currentColor\" text-anchor=\"middle\" y=\"309.5\">\n",
       "    <tspan class=\"displacy-word\" fill=\"currentColor\" x=\"400\">del</tspan>\n",
       "    <tspan class=\"displacy-tag\" dy=\"2em\" fill=\"currentColor\" x=\"400\">ADP</tspan>\n",
       "</text>\n",
       "\n",
       "<text class=\"displacy-token\" fill=\"currentColor\" text-anchor=\"middle\" y=\"309.5\">\n",
       "    <tspan class=\"displacy-word\" fill=\"currentColor\" x=\"575\">restaurante</tspan>\n",
       "    <tspan class=\"displacy-tag\" dy=\"2em\" fill=\"currentColor\" x=\"575\">NOUN</tspan>\n",
       "</text>\n",
       "\n",
       "<text class=\"displacy-token\" fill=\"currentColor\" text-anchor=\"middle\" y=\"309.5\">\n",
       "    <tspan class=\"displacy-word\" fill=\"currentColor\" x=\"750\">de</tspan>\n",
       "    <tspan class=\"displacy-tag\" dy=\"2em\" fill=\"currentColor\" x=\"750\">ADP</tspan>\n",
       "</text>\n",
       "\n",
       "<text class=\"displacy-token\" fill=\"currentColor\" text-anchor=\"middle\" y=\"309.5\">\n",
       "    <tspan class=\"displacy-word\" fill=\"currentColor\" x=\"925\">Miguel</tspan>\n",
       "    <tspan class=\"displacy-tag\" dy=\"2em\" fill=\"currentColor\" x=\"925\">PROPN</tspan>\n",
       "</text>\n",
       "\n",
       "<text class=\"displacy-token\" fill=\"currentColor\" text-anchor=\"middle\" y=\"309.5\">\n",
       "    <tspan class=\"displacy-word\" fill=\"currentColor\" x=\"1100\">es</tspan>\n",
       "    <tspan class=\"displacy-tag\" dy=\"2em\" fill=\"currentColor\" x=\"1100\">AUX</tspan>\n",
       "</text>\n",
       "\n",
       "<text class=\"displacy-token\" fill=\"currentColor\" text-anchor=\"middle\" y=\"309.5\">\n",
       "    <tspan class=\"displacy-word\" fill=\"currentColor\" x=\"1275\">muy</tspan>\n",
       "    <tspan class=\"displacy-tag\" dy=\"2em\" fill=\"currentColor\" x=\"1275\">ADV</tspan>\n",
       "</text>\n",
       "\n",
       "<text class=\"displacy-token\" fill=\"currentColor\" text-anchor=\"middle\" y=\"309.5\">\n",
       "    <tspan class=\"displacy-word\" fill=\"currentColor\" x=\"1450\">sabrosa.</tspan>\n",
       "    <tspan class=\"displacy-tag\" dy=\"2em\" fill=\"currentColor\" x=\"1450\">ADJ</tspan>\n",
       "</text>\n",
       "\n",
       "<g class=\"displacy-arrow\">\n",
       "    <path class=\"displacy-arc\" id=\"arrow-9f4639fe2e6a41a695389970242020b3-0-0\" stroke-width=\"2px\" d=\"M70,264.5 C70,177.0 215.0,177.0 215.0,264.5\" fill=\"none\" stroke=\"currentColor\"/>\n",
       "    <text dy=\"1.25em\" style=\"font-size: 0.8em; letter-spacing: 1px\">\n",
       "        <textPath xlink:href=\"#arrow-9f4639fe2e6a41a695389970242020b3-0-0\" class=\"displacy-label\" startOffset=\"50%\" side=\"left\" fill=\"currentColor\" text-anchor=\"middle\">det</textPath>\n",
       "    </text>\n",
       "    <path class=\"displacy-arrowhead\" d=\"M70,266.5 L62,254.5 78,254.5\" fill=\"currentColor\"/>\n",
       "</g>\n",
       "\n",
       "<g class=\"displacy-arrow\">\n",
       "    <path class=\"displacy-arc\" id=\"arrow-9f4639fe2e6a41a695389970242020b3-0-1\" stroke-width=\"2px\" d=\"M245,264.5 C245,2.0 1450.0,2.0 1450.0,264.5\" fill=\"none\" stroke=\"currentColor\"/>\n",
       "    <text dy=\"1.25em\" style=\"font-size: 0.8em; letter-spacing: 1px\">\n",
       "        <textPath xlink:href=\"#arrow-9f4639fe2e6a41a695389970242020b3-0-1\" class=\"displacy-label\" startOffset=\"50%\" side=\"left\" fill=\"currentColor\" text-anchor=\"middle\">nsubj</textPath>\n",
       "    </text>\n",
       "    <path class=\"displacy-arrowhead\" d=\"M245,266.5 L237,254.5 253,254.5\" fill=\"currentColor\"/>\n",
       "</g>\n",
       "\n",
       "<g class=\"displacy-arrow\">\n",
       "    <path class=\"displacy-arc\" id=\"arrow-9f4639fe2e6a41a695389970242020b3-0-2\" stroke-width=\"2px\" d=\"M420,264.5 C420,177.0 565.0,177.0 565.0,264.5\" fill=\"none\" stroke=\"currentColor\"/>\n",
       "    <text dy=\"1.25em\" style=\"font-size: 0.8em; letter-spacing: 1px\">\n",
       "        <textPath xlink:href=\"#arrow-9f4639fe2e6a41a695389970242020b3-0-2\" class=\"displacy-label\" startOffset=\"50%\" side=\"left\" fill=\"currentColor\" text-anchor=\"middle\">case</textPath>\n",
       "    </text>\n",
       "    <path class=\"displacy-arrowhead\" d=\"M420,266.5 L412,254.5 428,254.5\" fill=\"currentColor\"/>\n",
       "</g>\n",
       "\n",
       "<g class=\"displacy-arrow\">\n",
       "    <path class=\"displacy-arc\" id=\"arrow-9f4639fe2e6a41a695389970242020b3-0-3\" stroke-width=\"2px\" d=\"M245,264.5 C245,89.5 570.0,89.5 570.0,264.5\" fill=\"none\" stroke=\"currentColor\"/>\n",
       "    <text dy=\"1.25em\" style=\"font-size: 0.8em; letter-spacing: 1px\">\n",
       "        <textPath xlink:href=\"#arrow-9f4639fe2e6a41a695389970242020b3-0-3\" class=\"displacy-label\" startOffset=\"50%\" side=\"left\" fill=\"currentColor\" text-anchor=\"middle\">nmod</textPath>\n",
       "    </text>\n",
       "    <path class=\"displacy-arrowhead\" d=\"M570.0,266.5 L578.0,254.5 562.0,254.5\" fill=\"currentColor\"/>\n",
       "</g>\n",
       "\n",
       "<g class=\"displacy-arrow\">\n",
       "    <path class=\"displacy-arc\" id=\"arrow-9f4639fe2e6a41a695389970242020b3-0-4\" stroke-width=\"2px\" d=\"M770,264.5 C770,177.0 915.0,177.0 915.0,264.5\" fill=\"none\" stroke=\"currentColor\"/>\n",
       "    <text dy=\"1.25em\" style=\"font-size: 0.8em; letter-spacing: 1px\">\n",
       "        <textPath xlink:href=\"#arrow-9f4639fe2e6a41a695389970242020b3-0-4\" class=\"displacy-label\" startOffset=\"50%\" side=\"left\" fill=\"currentColor\" text-anchor=\"middle\">case</textPath>\n",
       "    </text>\n",
       "    <path class=\"displacy-arrowhead\" d=\"M770,266.5 L762,254.5 778,254.5\" fill=\"currentColor\"/>\n",
       "</g>\n",
       "\n",
       "<g class=\"displacy-arrow\">\n",
       "    <path class=\"displacy-arc\" id=\"arrow-9f4639fe2e6a41a695389970242020b3-0-5\" stroke-width=\"2px\" d=\"M595,264.5 C595,89.5 920.0,89.5 920.0,264.5\" fill=\"none\" stroke=\"currentColor\"/>\n",
       "    <text dy=\"1.25em\" style=\"font-size: 0.8em; letter-spacing: 1px\">\n",
       "        <textPath xlink:href=\"#arrow-9f4639fe2e6a41a695389970242020b3-0-5\" class=\"displacy-label\" startOffset=\"50%\" side=\"left\" fill=\"currentColor\" text-anchor=\"middle\">nmod</textPath>\n",
       "    </text>\n",
       "    <path class=\"displacy-arrowhead\" d=\"M920.0,266.5 L928.0,254.5 912.0,254.5\" fill=\"currentColor\"/>\n",
       "</g>\n",
       "\n",
       "<g class=\"displacy-arrow\">\n",
       "    <path class=\"displacy-arc\" id=\"arrow-9f4639fe2e6a41a695389970242020b3-0-6\" stroke-width=\"2px\" d=\"M1120,264.5 C1120,89.5 1445.0,89.5 1445.0,264.5\" fill=\"none\" stroke=\"currentColor\"/>\n",
       "    <text dy=\"1.25em\" style=\"font-size: 0.8em; letter-spacing: 1px\">\n",
       "        <textPath xlink:href=\"#arrow-9f4639fe2e6a41a695389970242020b3-0-6\" class=\"displacy-label\" startOffset=\"50%\" side=\"left\" fill=\"currentColor\" text-anchor=\"middle\">cop</textPath>\n",
       "    </text>\n",
       "    <path class=\"displacy-arrowhead\" d=\"M1120,266.5 L1112,254.5 1128,254.5\" fill=\"currentColor\"/>\n",
       "</g>\n",
       "\n",
       "<g class=\"displacy-arrow\">\n",
       "    <path class=\"displacy-arc\" id=\"arrow-9f4639fe2e6a41a695389970242020b3-0-7\" stroke-width=\"2px\" d=\"M1295,264.5 C1295,177.0 1440.0,177.0 1440.0,264.5\" fill=\"none\" stroke=\"currentColor\"/>\n",
       "    <text dy=\"1.25em\" style=\"font-size: 0.8em; letter-spacing: 1px\">\n",
       "        <textPath xlink:href=\"#arrow-9f4639fe2e6a41a695389970242020b3-0-7\" class=\"displacy-label\" startOffset=\"50%\" side=\"left\" fill=\"currentColor\" text-anchor=\"middle\">advmod</textPath>\n",
       "    </text>\n",
       "    <path class=\"displacy-arrowhead\" d=\"M1295,266.5 L1287,254.5 1303,254.5\" fill=\"currentColor\"/>\n",
       "</g>\n",
       "</svg></span>"
      ],
      "text/plain": [
       "<IPython.core.display.HTML object>"
      ]
     },
     "metadata": {},
     "output_type": "display_data"
    },
    {
     "ename": "AttributeError",
     "evalue": "'NoneType' object has no attribute 'replace'",
     "output_type": "error",
     "traceback": [
      "\u001b[0;31m---------------------------------------------------------------------------\u001b[0m",
      "\u001b[0;31mAttributeError\u001b[0m                            Traceback (most recent call last)",
      "\u001b[0;32m<ipython-input-31-d615b58edf2e>\u001b[0m in \u001b[0;36m<module>\u001b[0;34m\u001b[0m\n\u001b[1;32m      4\u001b[0m \u001b[0mmodels\u001b[0m \u001b[0;34m=\u001b[0m \u001b[0;34m[\u001b[0m\u001b[0;34m\"es_dep_news_trf\"\u001b[0m\u001b[0;34m,\u001b[0m \u001b[0;34m\"es_core_news_lg\"\u001b[0m\u001b[0;34m]\u001b[0m\u001b[0;34m\u001b[0m\u001b[0;34m\u001b[0m\u001b[0m\n\u001b[1;32m      5\u001b[0m \u001b[0mdefault_text\u001b[0m \u001b[0;34m=\u001b[0m \u001b[0;34m\"La comida del restaurante de Miguel es muy sabrosa.\"\u001b[0m\u001b[0;34m\u001b[0m\u001b[0;34m\u001b[0m\u001b[0m\n\u001b[0;32m----> 6\u001b[0;31m \u001b[0mspacy_streamlit\u001b[0m\u001b[0;34m.\u001b[0m\u001b[0mvisualize\u001b[0m\u001b[0;34m(\u001b[0m\u001b[0mmodels\u001b[0m\u001b[0;34m,\u001b[0m \u001b[0mdefault_text\u001b[0m\u001b[0;34m)\u001b[0m\u001b[0;34m\u001b[0m\u001b[0;34m\u001b[0m\u001b[0m\n\u001b[0m",
      "\u001b[0;32m~/opt/anaconda3/envs/py3.16.13/lib/python3.6/site-packages/spacy_streamlit/visualizer.py\u001b[0m in \u001b[0;36mvisualize\u001b[0;34m(models, default_text, default_model, visualizers, ner_labels, ner_attrs, similarity_texts, token_attrs, show_json_doc, show_meta, show_config, show_visualizer_select, show_pipeline_info, sidebar_title, sidebar_description, show_logo, color, key, get_default_text)\u001b[0m\n\u001b[1;32m     94\u001b[0m \u001b[0;34m\u001b[0m\u001b[0m\n\u001b[1;32m     95\u001b[0m     \u001b[0;32mif\u001b[0m \u001b[0;34m\"parser\"\u001b[0m \u001b[0;32min\u001b[0m \u001b[0mvisualizers\u001b[0m \u001b[0;32mand\u001b[0m \u001b[0;34m\"parser\"\u001b[0m \u001b[0;32min\u001b[0m \u001b[0mactive_visualizers\u001b[0m\u001b[0;34m:\u001b[0m\u001b[0;34m\u001b[0m\u001b[0;34m\u001b[0m\u001b[0m\n\u001b[0;32m---> 96\u001b[0;31m         \u001b[0mvisualize_parser\u001b[0m\u001b[0;34m(\u001b[0m\u001b[0mdoc\u001b[0m\u001b[0;34m,\u001b[0m \u001b[0mkey\u001b[0m\u001b[0;34m=\u001b[0m\u001b[0mkey\u001b[0m\u001b[0;34m)\u001b[0m\u001b[0;34m\u001b[0m\u001b[0;34m\u001b[0m\u001b[0m\n\u001b[0m\u001b[1;32m     97\u001b[0m     \u001b[0;32mif\u001b[0m \u001b[0;34m\"ner\"\u001b[0m \u001b[0;32min\u001b[0m \u001b[0mvisualizers\u001b[0m \u001b[0;32mand\u001b[0m \u001b[0;34m\"ner\"\u001b[0m \u001b[0;32min\u001b[0m \u001b[0mactive_visualizers\u001b[0m\u001b[0;34m:\u001b[0m\u001b[0;34m\u001b[0m\u001b[0;34m\u001b[0m\u001b[0m\n\u001b[1;32m     98\u001b[0m         \u001b[0mner_labels\u001b[0m \u001b[0;34m=\u001b[0m \u001b[0mner_labels\u001b[0m \u001b[0;32mor\u001b[0m \u001b[0mnlp\u001b[0m\u001b[0;34m.\u001b[0m\u001b[0mget_pipe\u001b[0m\u001b[0;34m(\u001b[0m\u001b[0;34m\"ner\"\u001b[0m\u001b[0;34m)\u001b[0m\u001b[0;34m.\u001b[0m\u001b[0mlabels\u001b[0m\u001b[0;34m\u001b[0m\u001b[0;34m\u001b[0m\u001b[0m\n",
      "\u001b[0;32m~/opt/anaconda3/envs/py3.16.13/lib/python3.6/site-packages/spacy_streamlit/visualizer.py\u001b[0m in \u001b[0;36mvisualize_parser\u001b[0;34m(doc, title, key)\u001b[0m\n\u001b[1;32m    151\u001b[0m         \u001b[0mhtml\u001b[0m \u001b[0;34m=\u001b[0m \u001b[0mdisplacy\u001b[0m\u001b[0;34m.\u001b[0m\u001b[0mrender\u001b[0m\u001b[0;34m(\u001b[0m\u001b[0msent\u001b[0m\u001b[0;34m,\u001b[0m \u001b[0moptions\u001b[0m\u001b[0;34m=\u001b[0m\u001b[0moptions\u001b[0m\u001b[0;34m,\u001b[0m \u001b[0mstyle\u001b[0m\u001b[0;34m=\u001b[0m\u001b[0;34m\"dep\"\u001b[0m\u001b[0;34m)\u001b[0m\u001b[0;34m\u001b[0m\u001b[0;34m\u001b[0m\u001b[0m\n\u001b[1;32m    152\u001b[0m         \u001b[0;31m# Double newlines seem to mess with the rendering\u001b[0m\u001b[0;34m\u001b[0m\u001b[0;34m\u001b[0m\u001b[0;34m\u001b[0m\u001b[0m\n\u001b[0;32m--> 153\u001b[0;31m         \u001b[0mhtml\u001b[0m \u001b[0;34m=\u001b[0m \u001b[0mhtml\u001b[0m\u001b[0;34m.\u001b[0m\u001b[0mreplace\u001b[0m\u001b[0;34m(\u001b[0m\u001b[0;34m\"\\n\\n\"\u001b[0m\u001b[0;34m,\u001b[0m \u001b[0;34m\"\\n\"\u001b[0m\u001b[0;34m)\u001b[0m\u001b[0;34m\u001b[0m\u001b[0;34m\u001b[0m\u001b[0m\n\u001b[0m\u001b[1;32m    154\u001b[0m         \u001b[0;32mif\u001b[0m \u001b[0msplit_sents\u001b[0m \u001b[0;32mand\u001b[0m \u001b[0mlen\u001b[0m\u001b[0;34m(\u001b[0m\u001b[0mdocs\u001b[0m\u001b[0;34m)\u001b[0m \u001b[0;34m>\u001b[0m \u001b[0;36m1\u001b[0m\u001b[0;34m:\u001b[0m\u001b[0;34m\u001b[0m\u001b[0;34m\u001b[0m\u001b[0m\n\u001b[1;32m    155\u001b[0m             \u001b[0mst\u001b[0m\u001b[0;34m.\u001b[0m\u001b[0mmarkdown\u001b[0m\u001b[0;34m(\u001b[0m\u001b[0;34mf\"> {sent.text}\"\u001b[0m\u001b[0;34m)\u001b[0m\u001b[0;34m\u001b[0m\u001b[0;34m\u001b[0m\u001b[0m\n",
      "\u001b[0;31mAttributeError\u001b[0m: 'NoneType' object has no attribute 'replace'"
     ]
    }
   ],
   "source": [
    "# streamlit_app.py\n",
    "import spacy_streamlit\n",
    "\n",
    "models = [\"es_dep_news_trf\", \"es_core_news_lg\"]\n",
    "default_text = \"La comida del restaurante de Miguel es muy sabrosa.\"\n",
    "spacy_streamlit.visualize(models, default_text)"
   ]
  },
  {
   "cell_type": "code",
   "execution_count": null,
   "metadata": {
    "extensions": {
     "jupyter_dashboards": {
      "version": 1,
      "views": {
       "default_view": {
        "hidden": true
       }
      }
     }
    }
   },
   "outputs": [],
   "source": []
  },
  {
   "cell_type": "code",
   "execution_count": null,
   "metadata": {
    "extensions": {
     "jupyter_dashboards": {
      "version": 1,
      "views": {
       "default_view": {
        "hidden": true
       }
      }
     }
    }
   },
   "outputs": [],
   "source": []
  },
  {
   "cell_type": "code",
   "execution_count": null,
   "metadata": {
    "extensions": {
     "jupyter_dashboards": {
      "version": 1,
      "views": {
       "default_view": {
        "hidden": true
       }
      }
     }
    }
   },
   "outputs": [],
   "source": []
  },
  {
   "cell_type": "markdown",
   "metadata": {
    "extensions": {
     "jupyter_dashboards": {
      "version": 1,
      "views": {
       "default_view": {
        "col": 0,
        "height": 2,
        "row": 90,
        "width": 12
       }
      }
     }
    }
   },
   "source": [
    "# Entity Recogniser and Linker a Wikipedia"
   ]
  },
  {
   "cell_type": "code",
   "execution_count": null,
   "metadata": {
    "extensions": {
     "jupyter_dashboards": {
      "version": 1,
      "views": {
       "default_view": {
        "hidden": true
       }
      }
     }
    }
   },
   "outputs": [],
   "source": []
  },
  {
   "cell_type": "code",
   "execution_count": 34,
   "metadata": {
    "extensions": {
     "jupyter_dashboards": {
      "version": 1,
      "views": {
       "default_view": {
        "hidden": true
       }
      }
     }
    }
   },
   "outputs": [
    {
     "name": "stdout",
     "output_type": "stream",
     "text": [
      "(Murcia, 'http://es.dbpedia.org/resource/Murcia')\n",
      "- (colectivos, 'http://es.dbpedia.org/resource/Colectivos_de_Buenos_Aires')\n",
      "- (SOS, 'http://es.dbpedia.org/resource/SOS')\n",
      "- (Mar Menor, 'http://es.dbpedia.org/resource/Mar_Menor')\n",
      "- (mar Menor, 'http://es.dbpedia.org/resource/Mar_Menor')\n",
      "- (peces, 'http://es.dbpedia.org/resource/Pez')\n",
      "- (Banco Asiático de Desarrollo, 'http://es.dbpedia.org/resource/Banco_Asiático_de_Desarrollo')\n",
      "- (ADB, 'http://es.dbpedia.org/resource/Apple_Desktop_Bus')\n",
      "- (Manila, 'http://es.dbpedia.org/resource/Manila')\n"
     ]
    }
   ],
   "source": [
    "import spacy\n",
    "# load your spacy pipeline\n",
    "nlp = spacy.blank('es')\n",
    "\n",
    "# add the pipeline stage with the configuration options:\n",
    "nlp.add_pipe('dbpedia_spotlight', config={'confidence': 0.4})\n",
    "\n",
    "# use it\n",
    "doc = nlp(text)\n",
    "\n",
    "# you can change the confidence if you have already instantiated the pipeline stage\n",
    "nlp.get_pipe('dbpedia_spotlight').language_code='es'\n",
    "\n",
    "# now recompute the document\n",
    "doc = nlp(text)\n",
    "# this now won't have any results\n",
    "\n",
    "# print([(ent.text, ent.kb_id_, ent._.dbpedia_raw_result['@similarityScore']) for ent in doc.ents])\n",
    "# print([(ent, ent.kb_id_) for ent in doc.ents])\n",
    "\n",
    "mi_bucle=[(ent, ent.kb_id_) for ent in doc.ents]\n",
    "print(*mi_bucle, sep='\\n- ')"
   ]
  },
  {
   "cell_type": "markdown",
   "metadata": {
    "extensions": {
     "jupyter_dashboards": {
      "version": 1,
      "views": {
       "default_view": {
        "col": 0,
        "height": 2,
        "row": 96,
        "width": 12
       }
      }
     }
    }
   },
   "source": [
    "# Language detection"
   ]
  },
  {
   "cell_type": "code",
   "execution_count": null,
   "metadata": {
    "extensions": {
     "jupyter_dashboards": {
      "version": 1,
      "views": {
       "default_view": {
        "hidden": true
       }
      }
     }
    }
   },
   "outputs": [],
   "source": []
  },
  {
   "cell_type": "markdown",
   "metadata": {
    "extensions": {
     "jupyter_dashboards": {
      "version": 1,
      "views": {
       "default_view": {
        "col": 0,
        "height": 2,
        "row": 100,
        "width": 12
       }
      }
     }
    }
   },
   "source": [
    "# Automated Term Extraction"
   ]
  },
  {
   "cell_type": "code",
   "execution_count": 35,
   "metadata": {
    "extensions": {
     "jupyter_dashboards": {
      "version": 1,
      "views": {
       "default_view": {
        "hidden": true
       }
      }
     }
    }
   },
   "outputs": [
    {
     "name": "stdout",
     "output_type": "stream",
     "text": [
      "situación de la laguna    1.386294\n",
      "torno a la consigna       1.386294\n",
      "toneladas de peces        1.098612\n",
      "adopción de medidas       1.098612\n",
      "grave crisis              0.693147\n",
      "dtype: float64\n"
     ]
    }
   ],
   "source": [
    "import spacy\n",
    "from pyate.term_extraction_pipeline import TermExtractionPipeline\n",
    "\n",
    "nlp = spacy.load(\"es_core_news_lg\")\n",
    "nlp.add_pipe(\"combo_basic\")\n",
    "doc = nlp(text)\n",
    "print(doc._.combo_basic.sort_values(ascending=False).head(5))"
   ]
  },
  {
   "cell_type": "markdown",
   "metadata": {
    "extensions": {
     "jupyter_dashboards": {
      "version": 1,
      "views": {
       "default_view": {
        "col": 0,
        "height": 2,
        "row": 104,
        "width": 12
       }
      }
     }
    }
   },
   "source": [
    "# Extracción de entidades (NER)\n",
    "\n",
    "*Entity recognizer*.\n",
    "\n",
    "Statistical entity recognition system that assigns labels to contiguous spans of tokens. \n",
    "\n",
    "The default model identifies a variety of named and numeric entities, including companies, locations, organizations and products. You can add arbitrary classes to the entity recognition system, and update the model with new examples."
   ]
  },
  {
   "cell_type": "code",
   "execution_count": 36,
   "metadata": {
    "extensions": {
     "jupyter_dashboards": {
      "version": 1,
      "views": {
       "default_view": {
        "hidden": true
       }
      }
     }
    }
   },
   "outputs": [
    {
     "data": {
      "text/html": [
       "<span class=\"tex2jax_ignore\"><!DOCTYPE html>\n",
       "<html lang=\"es\">\n",
       "    <head>\n",
       "        <title>displaCy</title>\n",
       "    </head>\n",
       "\n",
       "    <body style=\"font-size: 16px; font-family: -apple-system, BlinkMacSystemFont, 'Segoe UI', Helvetica, Arial, sans-serif, 'Apple Color Emoji', 'Segoe UI Emoji', 'Segoe UI Symbol'; padding: 4rem 2rem; direction: ltr\">\n",
       "<figure style=\"margin-bottom: 6rem\">\n",
       "<div class=\"entities\" style=\"line-height: 2.5; direction: ltr\">Esta es una prueba. \n",
       "<mark class=\"entity\" style=\"background: yellow; padding: 0.45em 0.6em; margin: 0 0.25em; line-height: 1; border-radius: 0.35em;\">\n",
       "    Con este lema miles de personas\n",
       "    <span style=\"font-size: 0.8em; font-weight: bold; line-height: 1; border-radius: 0.35em; vertical-align: middle; margin-left: 0.5rem\">MISC</span>\n",
       "</mark>\n",
       " han recorrido las calles \n",
       "<mark class=\"entity\" style=\"background: #ff9561; padding: 0.45em 0.6em; margin: 0 0.25em; line-height: 1; border-radius: 0.35em;\">\n",
       "    de Murcia\n",
       "    <span style=\"font-size: 0.8em; font-weight: bold; line-height: 1; border-radius: 0.35em; vertical-align: middle; margin-left: 0.5rem\">LOC</span>\n",
       "</mark>\n",
       " este jueves para reclamar a las administraciones públicas la adopción de medidas que recuperen su laguna, aquella de aguas transparentes que conocieron antaño y han perdido. Nueve colectivos ciudadanos se han unido en torno a la consigna 'SOS \n",
       "<mark class=\"entity\" style=\"background: #ff9561; padding: 0.45em 0.6em; margin: 0 0.25em; line-height: 1; border-radius: 0.35em;\">\n",
       "    Mar Menor\n",
       "    <span style=\"font-size: 0.8em; font-weight: bold; line-height: 1; border-radius: 0.35em; vertical-align: middle; margin-left: 0.5rem\">LOC</span>\n",
       "</mark>\n",
       ". \n",
       "<mark class=\"entity\" style=\"background: yellow; padding: 0.45em 0.6em; margin: 0 0.25em; line-height: 1; border-radius: 0.35em;\">\n",
       "    Por un mar Menor\n",
       "    <span style=\"font-size: 0.8em; font-weight: bold; line-height: 1; border-radius: 0.35em; vertical-align: middle; margin-left: 0.5rem\">MISC</span>\n",
       "</mark>\n",
       " con futuro' para protestar por la situación de la laguna, dos meses después de la grave crisis que sufrió en agosto, cuando se sacaron 15 toneladas de peces. \n",
       "<mark class=\"entity\" style=\"background: pink; padding: 0.45em 0.6em; margin: 0 0.25em; line-height: 1; border-radius: 0.35em;\">\n",
       "    Manuel\n",
       "    <span style=\"font-size: 0.8em; font-weight: bold; line-height: 1; border-radius: 0.35em; vertical-align: middle; margin-left: 0.5rem\">PER</span>\n",
       "</mark>\n",
       " trabaja en el \n",
       "<mark class=\"entity\" style=\"background: #ff9561; padding: 0.45em 0.6em; margin: 0 0.25em; line-height: 1; border-radius: 0.35em;\">\n",
       "    Banco Asiático de Desarrollo\n",
       "    <span style=\"font-size: 0.8em; font-weight: bold; line-height: 1; border-radius: 0.35em; vertical-align: middle; margin-left: 0.5rem\">LOC</span>\n",
       "</mark>\n",
       " (\n",
       "<mark class=\"entity\" style=\"background: yellow; padding: 0.45em 0.6em; margin: 0 0.25em; line-height: 1; border-radius: 0.35em;\">\n",
       "    ADB\n",
       "    <span style=\"font-size: 0.8em; font-weight: bold; line-height: 1; border-radius: 0.35em; vertical-align: middle; margin-left: 0.5rem\">MISC</span>\n",
       "</mark>\n",
       "), en \n",
       "<mark class=\"entity\" style=\"background: #ff9561; padding: 0.45em 0.6em; margin: 0 0.25em; line-height: 1; border-radius: 0.35em;\">\n",
       "    Manila\n",
       "    <span style=\"font-size: 0.8em; font-weight: bold; line-height: 1; border-radius: 0.35em; vertical-align: middle; margin-left: 0.5rem\">LOC</span>\n",
       "</mark>\n",
       ".</div>\n",
       "</figure>\n",
       "</body>\n",
       "</html></span>"
      ],
      "text/plain": [
       "<IPython.core.display.HTML object>"
      ]
     },
     "metadata": {},
     "output_type": "display_data"
    }
   ],
   "source": [
    "from spacy import displacy\n",
    "import es_core_news_lg\n",
    "\n",
    "nlp = es_core_news_lg.load()\n",
    "doc2 = nlp(text)\n",
    "options = {\"colors\": {\"PER\": \"pink\", \"ORG\": \"cyan\", \"MISC\": \"yellow\"}}\n",
    "displacy.render(doc2, style=\"ent\", jupyter=True, page=True, options=options)"
   ]
  },
  {
   "cell_type": "code",
   "execution_count": 37,
   "metadata": {
    "extensions": {
     "jupyter_dashboards": {
      "version": 1,
      "views": {
       "default_view": {
        "hidden": true
       }
      }
     }
    }
   },
   "outputs": [
    {
     "data": {
      "text/html": [
       "<div>\n",
       "<style scoped>\n",
       "    .dataframe tbody tr th:only-of-type {\n",
       "        vertical-align: middle;\n",
       "    }\n",
       "\n",
       "    .dataframe tbody tr th {\n",
       "        vertical-align: top;\n",
       "    }\n",
       "\n",
       "    .dataframe thead th {\n",
       "        text-align: right;\n",
       "    }\n",
       "</style>\n",
       "<table border=\"1\" class=\"dataframe\">\n",
       "  <thead>\n",
       "    <tr style=\"text-align: right;\">\n",
       "      <th></th>\n",
       "      <th>Text</th>\n",
       "      <th>Label</th>\n",
       "      <th>Description</th>\n",
       "    </tr>\n",
       "  </thead>\n",
       "  <tbody>\n",
       "    <tr>\n",
       "      <th>0</th>\n",
       "      <td>Con este lema miles de personas</td>\n",
       "      <td>MISC</td>\n",
       "      <td>Miscellaneous entities, e.g. events, nationali...</td>\n",
       "    </tr>\n",
       "    <tr>\n",
       "      <th>1</th>\n",
       "      <td>de Murcia</td>\n",
       "      <td>LOC</td>\n",
       "      <td>Non-GPE locations, mountain ranges, bodies of ...</td>\n",
       "    </tr>\n",
       "    <tr>\n",
       "      <th>2</th>\n",
       "      <td>Mar Menor</td>\n",
       "      <td>LOC</td>\n",
       "      <td>Non-GPE locations, mountain ranges, bodies of ...</td>\n",
       "    </tr>\n",
       "    <tr>\n",
       "      <th>3</th>\n",
       "      <td>Por un mar Menor</td>\n",
       "      <td>MISC</td>\n",
       "      <td>Miscellaneous entities, e.g. events, nationali...</td>\n",
       "    </tr>\n",
       "    <tr>\n",
       "      <th>4</th>\n",
       "      <td>Manuel</td>\n",
       "      <td>PER</td>\n",
       "      <td>Named person or family.</td>\n",
       "    </tr>\n",
       "    <tr>\n",
       "      <th>5</th>\n",
       "      <td>Banco Asiático de Desarrollo</td>\n",
       "      <td>LOC</td>\n",
       "      <td>Non-GPE locations, mountain ranges, bodies of ...</td>\n",
       "    </tr>\n",
       "    <tr>\n",
       "      <th>6</th>\n",
       "      <td>ADB</td>\n",
       "      <td>MISC</td>\n",
       "      <td>Miscellaneous entities, e.g. events, nationali...</td>\n",
       "    </tr>\n",
       "    <tr>\n",
       "      <th>7</th>\n",
       "      <td>Manila</td>\n",
       "      <td>LOC</td>\n",
       "      <td>Non-GPE locations, mountain ranges, bodies of ...</td>\n",
       "    </tr>\n",
       "  </tbody>\n",
       "</table>\n",
       "</div>"
      ],
      "text/plain": [
       "                              Text Label  \\\n",
       "0  Con este lema miles de personas  MISC   \n",
       "1                        de Murcia   LOC   \n",
       "2                        Mar Menor   LOC   \n",
       "3                 Por un mar Menor  MISC   \n",
       "4                           Manuel   PER   \n",
       "5     Banco Asiático de Desarrollo   LOC   \n",
       "6                              ADB  MISC   \n",
       "7                           Manila   LOC   \n",
       "\n",
       "                                         Description  \n",
       "0  Miscellaneous entities, e.g. events, nationali...  \n",
       "1  Non-GPE locations, mountain ranges, bodies of ...  \n",
       "2  Non-GPE locations, mountain ranges, bodies of ...  \n",
       "3  Miscellaneous entities, e.g. events, nationali...  \n",
       "4                            Named person or family.  \n",
       "5  Non-GPE locations, mountain ranges, bodies of ...  \n",
       "6  Miscellaneous entities, e.g. events, nationali...  \n",
       "7  Non-GPE locations, mountain ranges, bodies of ...  "
      ]
     },
     "execution_count": 37,
     "metadata": {},
     "output_type": "execute_result"
    }
   ],
   "source": [
    "import pandas as pd\n",
    "\n",
    "pd.DataFrame([[ent.text, ent.label_, spacy.explain(ent.label_)] for ent in doc2.ents], columns=['Text', 'Label', 'Description'])"
   ]
  },
  {
   "cell_type": "code",
   "execution_count": null,
   "metadata": {
    "extensions": {
     "jupyter_dashboards": {
      "version": 1,
      "views": {
       "default_view": {
        "hidden": true
       }
      }
     }
    }
   },
   "outputs": [],
   "source": []
  },
  {
   "cell_type": "code",
   "execution_count": 38,
   "metadata": {
    "extensions": {
     "jupyter_dashboards": {
      "version": 1,
      "views": {
       "default_view": {
        "hidden": true
       }
      }
     }
    }
   },
   "outputs": [
    {
     "data": {
      "text/plain": [
       "0.7107749"
      ]
     },
     "execution_count": 38,
     "metadata": {},
     "output_type": "execute_result"
    }
   ],
   "source": [
    "doc = nlp('Las naranjas y las manzanas se parecen')\n",
    "naranja = doc[1]\n",
    "manzana = doc[4]\n",
    "naranja.similarity(manzana)"
   ]
  },
  {
   "cell_type": "markdown",
   "metadata": {
    "extensions": {
     "jupyter_dashboards": {
      "version": 1,
      "views": {
       "default_view": {
        "col": 0,
        "height": 2,
        "row": 114,
        "width": 12
       }
      }
     }
    }
   },
   "source": [
    "One amazing property of word vectors is that they represent analogies really well, for instance:\n",
    " \n",
    " * Argentina - Macri = Alemania - Merkel\n",
    " * Reina - Mujer = Rey - Hombre\n",
    " \n",
    "We can also average out the vectors in a whole sentence to get a similarity between them. NLP methods that disregard the word order such as this one are commonly referred as **Bag of Words**"
   ]
  },
  {
   "cell_type": "code",
   "execution_count": 39,
   "metadata": {
    "extensions": {
     "jupyter_dashboards": {
      "version": 1,
      "views": {
       "default_view": {
        "hidden": true
       }
      }
     }
    }
   },
   "outputs": [
    {
     "name": "stderr",
     "output_type": "stream",
     "text": [
      "/Users/mbook/opt/anaconda3/envs/py3.16.13/lib/python3.6/site-packages/ipykernel_launcher.py:4: UserWarning: [W007] The model you're using has no word vectors loaded, so the result of the Doc.similarity method will be based on the tagger, parser and NER, which may not give useful similarity judgements. This may happen if you're using one of the small models, e.g. `en_core_web_sm`, which don't ship with word vectors and only use context-sensitive tensors. You can always add your own word vectors, or use one of the larger models instead if available.\n",
      "  after removing the cwd from sys.path.\n",
      "/Users/mbook/opt/anaconda3/envs/py3.16.13/lib/python3.6/site-packages/ipykernel_launcher.py:4: UserWarning: [W008] Evaluating Doc.similarity based on empty vectors.\n",
      "  after removing the cwd from sys.path.\n"
     ]
    },
    {
     "data": {
      "text/plain": [
       "0.0"
      ]
     },
     "execution_count": 39,
     "metadata": {},
     "output_type": "execute_result"
    }
   ],
   "source": [
    "nlp = spacy.load('es_dep_news_trf')\n",
    "doc = nlp(u\"El presidente Aznar ha estado en Madrid\")\n",
    "doc2 = nlp(u\"La premier alemana Angela Merkel visitó Buenos Aires esta semana\")\n",
    "doc.similarity(doc2)"
   ]
  },
  {
   "cell_type": "markdown",
   "metadata": {
    "extensions": {
     "jupyter_dashboards": {
      "version": 1,
      "views": {
       "default_view": {
        "col": 0,
        "height": 2,
        "row": 118,
        "width": 12
       }
      }
     }
    }
   },
   "source": [
    "## Training and updating"
   ]
  },
  {
   "cell_type": "markdown",
   "metadata": {
    "extensions": {
     "jupyter_dashboards": {
      "version": 1,
      "views": {
       "default_view": {
        "col": 0,
        "height": 2,
        "row": 120,
        "width": 12
       }
      }
     }
    }
   },
   "source": [
    "# Tokenization\n",
    "\n",
    "During processing, spaCy first tokenizes the text, i.e. segments it into words, punctuation and so on. The tokenizer is the **first component of the processing pipeline** and the only one that can't be replaced by writing to nlp.pipeline. It takes a text and returns a `Doc`, whereas all other components expect to already receive a tokenized Doc.\n",
    "\n",
    "![Order of processes in pipeline](https://spacy.io/assets/img/pipeline.svg)\n",
    "\n",
    "\n",
    "This is done by applying rules specific to each language. "
   ]
  },
  {
   "cell_type": "code",
   "execution_count": 40,
   "metadata": {
    "extensions": {
     "jupyter_dashboards": {
      "version": 1,
      "views": {
       "default_view": {
        "hidden": true
       }
      }
     }
    }
   },
   "outputs": [
    {
     "name": "stdout",
     "output_type": "stream",
     "text": [
      "El\n",
      "presidente\n",
      "Aznar\n",
      "ha\n",
      "estado\n",
      "en\n",
      "Madrid\n"
     ]
    }
   ],
   "source": [
    "nlp = spacy.load('es_dep_news_trf')\n",
    "for token in doc:\n",
    "    print(token.text)"
   ]
  },
  {
   "cell_type": "markdown",
   "metadata": {
    "extensions": {
     "jupyter_dashboards": {
      "version": 1,
      "views": {
       "default_view": {
        "col": 0,
        "height": 2,
        "row": 124,
        "width": 12
       }
      }
     }
    }
   },
   "source": [
    "## Adding special case tokenization rules\n",
    "\n",
    "Tokenization rules that are specific to one language, but can be generalised across that language should ideally live in the language data in `spacy/lang`. [Here](https://spacy.io/usage/linguistic-features#named-entities) is how to add them."
   ]
  },
  {
   "cell_type": "code",
   "execution_count": 41,
   "metadata": {
    "extensions": {
     "jupyter_dashboards": {
      "version": 1,
      "views": {
       "default_view": {
        "hidden": true
       }
      }
     }
    }
   },
   "outputs": [
    {
     "name": "stdout",
     "output_type": "stream",
     "text": [
      "El\n",
      "presidente\n",
      "Aznar\n",
      "ha\n",
      "estado\n",
      "en\n",
      "Madrid\n"
     ]
    }
   ],
   "source": [
    "nlp = spacy.load('es_dep_news_trf')\n",
    "for token in doc:\n",
    "    print(token.text)"
   ]
  },
  {
   "cell_type": "markdown",
   "metadata": {
    "extensions": {
     "jupyter_dashboards": {
      "version": 1,
      "views": {
       "default_view": {
        "col": 0,
        "height": 2,
        "row": 128,
        "width": 12
       }
      }
     }
    }
   },
   "source": [
    "## Bringing your own annotations\n",
    "\n",
    "Look [here](https://spacy.io/usage/linguistic-features#own-annotations) at what to do if your data is partially annotated, e.g. with pre-existing tokenization, part-of-speech tags, etc."
   ]
  },
  {
   "cell_type": "markdown",
   "metadata": {
    "extensions": {
     "jupyter_dashboards": {
      "version": 1,
      "views": {
       "default_view": {
        "col": 0,
        "height": 2,
        "row": 130,
        "width": 12
       }
      }
     }
    }
   },
   "source": [
    "# Rule-based matching"
   ]
  },
  {
   "cell_type": "markdown",
   "metadata": {
    "extensions": {
     "jupyter_dashboards": {
      "version": 1,
      "views": {
       "default_view": {
        "col": 0,
        "height": 2,
        "row": 132,
        "width": 12
       }
      }
     }
    }
   },
   "source": [
    "# Language Processing Pipelines\n",
    "\n",
    "Each pipeline component returns the processed Doc, which is then passed on to the next component."
   ]
  },
  {
   "cell_type": "code",
   "execution_count": null,
   "metadata": {
    "extensions": {
     "jupyter_dashboards": {
      "version": 1,
      "views": {
       "default_view": {
        "hidden": true
       }
      }
     }
    }
   },
   "outputs": [],
   "source": []
  },
  {
   "cell_type": "markdown",
   "metadata": {
    "extensions": {
     "jupyter_dashboards": {
      "version": 1,
      "views": {
       "default_view": {
        "col": 0,
        "height": 2,
        "row": 136,
        "width": 12
       }
      }
     }
    }
   },
   "source": [
    "# Adding languages\n",
    "\n",
    "The **shared language data** in the directory root includes rules that can be generalised across languages – for example, rules for basic punctuation, emoji, emoticons, single-letter abbreviations and norms for equivalent tokens with different spellings, like `\"` and `”`. This helps the models make more accurate predictions. The **individual language data** in a submodule contains rules that are only relevant to a particular language. "
   ]
  },
  {
   "cell_type": "code",
   "execution_count": 42,
   "metadata": {
    "extensions": {
     "jupyter_dashboards": {
      "version": 1,
      "views": {
       "default_view": {
        "hidden": true
       }
      }
     }
    }
   },
   "outputs": [],
   "source": [
    "from spacy.lang.en import English\n",
    "from spacy.lang.es import Spanish\n",
    "\n",
    "nlp_en = English() # includes English data\n",
    "nlp_es = Spanish() # includes Spanish data"
   ]
  },
  {
   "cell_type": "markdown",
   "metadata": {
    "extensions": {
     "jupyter_dashboards": {
      "version": 1,
      "views": {
       "default_view": {
        "col": 0,
        "height": 2,
        "row": 140,
        "width": 12
       }
      }
     }
    }
   },
   "source": [
    "## Stop words\n",
    "\n",
    "A \"stop list\" is a classic trick from the early days of information retrieval when search was largely about keyword presence and absence. It is still sometimes useful today to filter out common words from a bag-of-words model. To improve readability, [STOP_WORDS](https://spacy.io/usage/adding-languages#stop-words) are separated by spaces and newlines, and added as a multiline string.\n",
    "\n",
    "It is in `/Users/macbook/anaconda3/lib/python3.6/site-packages/spacy/lang/es/stop_words.py`"
   ]
  },
  {
   "cell_type": "markdown",
   "metadata": {
    "extensions": {
     "jupyter_dashboards": {
      "version": 1,
      "views": {
       "default_view": {
        "col": 0,
        "height": 2,
        "row": 142,
        "width": 12
       }
      }
     }
    }
   },
   "source": [
    "## Lemmatizer\n",
    "\n",
    "spaCy supports simple lookup-based [lemmatization](https://spacy.io/usage/adding-languages#lemmatizer). This is usually the quickest and easiest way to get started. The data is stored in a dictionary mapping a string to its lemma. To determine a token's lemma, spaCy simply looks it up in the table. It is in `/Users/macbook/anaconda3/lib/python3.6/site-packages/spacy/lang/es/lemmatizer.py`."
   ]
  },
  {
   "cell_type": "code",
   "execution_count": 43,
   "metadata": {
    "extensions": {
     "jupyter_dashboards": {
      "version": 1,
      "views": {
       "default_view": {
        "hidden": true
       }
      }
     }
    }
   },
   "outputs": [
    {
     "ename": "ImportError",
     "evalue": "cannot import name 'lemmatizer'",
     "output_type": "error",
     "traceback": [
      "\u001b[0;31m---------------------------------------------------------------------------\u001b[0m",
      "\u001b[0;31mImportError\u001b[0m                               Traceback (most recent call last)",
      "\u001b[0;32m<ipython-input-43-31db61147275>\u001b[0m in \u001b[0;36m<module>\u001b[0;34m\u001b[0m\n\u001b[0;32m----> 1\u001b[0;31m \u001b[0;32mfrom\u001b[0m \u001b[0mspacy\u001b[0m \u001b[0;32mimport\u001b[0m \u001b[0mlemmatizer\u001b[0m\u001b[0;34m\u001b[0m\u001b[0;34m\u001b[0m\u001b[0m\n\u001b[0m\u001b[1;32m      2\u001b[0m \u001b[0mlemma_lookup\u001b[0m \u001b[0;34m=\u001b[0m \u001b[0mdict\u001b[0m\u001b[0;34m(\u001b[0m\u001b[0mLOOKUP\u001b[0m\u001b[0;34m)\u001b[0m\u001b[0;34m\u001b[0m\u001b[0;34m\u001b[0m\u001b[0m\n",
      "\u001b[0;31mImportError\u001b[0m: cannot import name 'lemmatizer'"
     ]
    }
   ],
   "source": [
    "from spacy import lemmatizer\n",
    "lemma_lookup = dict(LOOKUP)"
   ]
  },
  {
   "cell_type": "markdown",
   "metadata": {
    "extensions": {
     "jupyter_dashboards": {
      "version": 1,
      "views": {
       "default_view": {
        "col": 0,
        "height": 2,
        "row": 146,
        "width": 12
       }
      }
     }
    }
   },
   "source": [
    "# Tag map\n",
    "\n",
    "Most treebanks define a custom part-of-speech tag scheme. You need to define how those symbols map down to the [Universal Dependencies tag set](http://universaldependencies.org/u/pos/all.html). This is done by providing a [tag map](https://spacy.io/usage/adding-languages#tag-map).\n"
   ]
  },
  {
   "cell_type": "markdown",
   "metadata": {
    "extensions": {
     "jupyter_dashboards": {
      "version": 1,
      "views": {
       "default_view": {
        "col": 0,
        "height": 2,
        "row": 148,
        "width": 12
       }
      }
     }
    }
   },
   "source": [
    "# Training SpaCy\n",
    "\n",
    "Leer [Training spaCy's Statistical Models](https://spacy.io/usage/training)."
   ]
  },
  {
   "cell_type": "markdown",
   "metadata": {
    "extensions": {
     "jupyter_dashboards": {
      "version": 1,
      "views": {
       "default_view": {
        "col": 0,
        "height": 2,
        "row": 150,
        "width": 12
       }
      }
     }
    }
   },
   "source": [
    "## Training a language model\n",
    "\n",
    "spaCy expects that common words will be cached in a Vocab instance. The vocabulary caches lexical features, and makes it easy to use information from unlabelled text samples in your models. Specifically, you'll usually want to collect word frequencies, and train word vectors. Note that your corpus should not be preprocessed (i.e. you need punctuation for example). \n",
    "\n",
    "To [generate the word frequencies](https://spacy.io/usage/adding-languages#training) from a large, raw corpus, you can use the [word_freqs.py](https://github.com/explosion/spacy-dev-resources/blob/master/training/word_freqs.py) script from the spaCy developer resources."
   ]
  },
  {
   "cell_type": "markdown",
   "metadata": {
    "extensions": {
     "jupyter_dashboards": {
      "version": 1,
      "views": {
       "default_view": {
        "col": 0,
        "height": 2,
        "row": 152,
        "width": 12
       }
      }
     }
    }
   },
   "source": [
    "## Training the word vectors for similarity models\n",
    "\n",
    "[Word2vec](https://en.wikipedia.org/wiki/Word2vec) and related algorithms let you train useful word similarity models from unlabelled text. This is a key part of using [deep learning](https://spacy.io/usage/deep-learning) for NLP with limited labelled data. The vectors are also useful by themselves – they power the `.similarity()` methods in spaCy. \n",
    "\n",
    "For best results, you should pre-process the text with spaCy before training the Word2vec model. This ensures your tokenization will match. You can use our [word vectors training script](https://github.com/explosion/spacy-dev-resources/blob/master/training/word_vectors.py), which pre-processes the text with your language-specific tokenizer and trains the model using [Gensim](https://radimrehurek.com/gensim/).\n",
    "\n",
    "See [Training the word vectors](https://spacy.io/usage/adding-languages#word-vectors)."
   ]
  },
  {
   "cell_type": "markdown",
   "metadata": {
    "extensions": {
     "jupyter_dashboards": {
      "version": 1,
      "views": {
       "default_view": {
        "col": 0,
        "height": 2,
        "row": 154,
        "width": 12
       }
      }
     }
    }
   },
   "source": [
    "### Training the tagger and parser\n",
    "\n",
    "You can now [train the tagger and parser model](https://spacy.io/usage/adding-languages#train-tagger-parser) using a corpus for your language annotated with [Universal Dependencies](http://universaldependencies.org/). If your corpus uses the [CoNLL-U](http://universaldependencies.org/docs/format.html) format, i.e. files with the extension `.conllu`, you can use the [`convert` ](https://spacy.io/api/cli#convert) command to convert it to spaCy's [JSON format](https://spacy.io/api/annotation#json-input) for training. Once you have your UD corpus transformed into JSON, you can train your model use the using spaCy's [`train` ](https://spacy.io/api/cli#train) command."
   ]
  },
  {
   "cell_type": "markdown",
   "metadata": {
    "extensions": {
     "jupyter_dashboards": {
      "version": 1,
      "views": {
       "default_view": {
        "col": 0,
        "height": 2,
        "row": 156,
        "width": 12
       }
      }
     }
    }
   },
   "source": [
    "# Semantic Similarity and Word Vectors\n",
    "\n",
    "https://spacy.io/usage/vectors-similarity"
   ]
  },
  {
   "cell_type": "code",
   "execution_count": 44,
   "metadata": {
    "extensions": {
     "jupyter_dashboards": {
      "version": 1,
      "views": {
       "default_view": {
        "hidden": true
       }
      }
     }
    }
   },
   "outputs": [
    {
     "name": "stderr",
     "output_type": "stream",
     "text": [
      "usage: ipykernel_launcher.py [-h] [model]\n",
      "ipykernel_launcher.py: error: unrecognized arguments: -f\n"
     ]
    },
    {
     "ename": "SystemExit",
     "evalue": "2",
     "output_type": "error",
     "traceback": [
      "An exception has occurred, use %tb to see the full traceback.\n",
      "\u001b[0;31mSystemExit\u001b[0m\u001b[0;31m:\u001b[0m 2\n"
     ]
    },
    {
     "name": "stderr",
     "output_type": "stream",
     "text": [
      "/Users/mbook/opt/anaconda3/envs/py3.16.13/lib/python3.6/site-packages/IPython/core/interactiveshell.py:3351: UserWarning: To exit: use 'exit', 'quit', or Ctrl-D.\n",
      "  warn(\"To exit: use 'exit', 'quit', or Ctrl-D.\", stacklevel=1)\n"
     ]
    }
   ],
   "source": [
    "from __future__ import unicode_literals, print_function\n",
    "\n",
    "import plac\n",
    "import spacy\n",
    "\n",
    "\n",
    "@plac.annotations(\n",
    "    model=(\"Model to load\", \"positional\", None, str))\n",
    "def main(model='es_dep_news_trf'):\n",
    "    nlp = spacy.load(model)\n",
    "    print(\"Loaded model '%s'\" % model)\n",
    "\n",
    "    doc = nlp(\"displaCy uses CSS and JavaScript to show you how computers \"\n",
    "               \"understand language\")\n",
    "\n",
    "    # The easiest way is to find the head of the subtree you want, and then use\n",
    "    # the `.subtree`, `.children`, `.lefts` and `.rights` iterators. `.subtree`\n",
    "    # is the one that does what you're asking for most directly:\n",
    "    for word in doc:\n",
    "        if word.dep_ in ('xcomp', 'ccomp'):\n",
    "            print(''.join(w.text_with_ws for w in word.subtree))\n",
    "\n",
    "    # It'd probably be better for `word.subtree` to return a `Span` object\n",
    "    # instead of a generator over the tokens. If you want the `Span` you can\n",
    "    # get it via the `.right_edge` and `.left_edge` properties. The `Span`\n",
    "    # object is nice because you can easily get a vector, merge it, etc.\n",
    "    for word in doc:\n",
    "        if word.dep_ in ('xcomp', 'ccomp'):\n",
    "            subtree_span = doc[word.left_edge.i : word.right_edge.i + 1]\n",
    "            print(subtree_span.text, '|', subtree_span.root.text)\n",
    "\n",
    "    # You might also want to select a head, and then select a start and end\n",
    "    # position by walking along its children. You could then take the\n",
    "    # `.left_edge` and `.right_edge` of those tokens, and use it to calculate\n",
    "    # a span.\n",
    "\n",
    "if __name__ == '__main__':\n",
    "    plac.call(main)\n",
    "\n",
    "    # Expected output:\n",
    "    # to show you how computers understand language\n",
    "    # how computers understand language\n",
    "    # to show you how computers understand language | show\n",
    "    # how computers understand language | understand\n"
   ]
  },
  {
   "cell_type": "code",
   "execution_count": 46,
   "metadata": {
    "extensions": {
     "jupyter_dashboards": {
      "version": 1,
      "views": {
       "default_view": {
        "hidden": true
       }
      }
     }
    }
   },
   "outputs": [],
   "source": [
    "from typing import List\n",
    "from thinc.types import Floats2d\n",
    "from thinc.api import Model, PyTorchWrapper, chain, with_array\n",
    "import spacy\n",
    "from spacy.tokens.doc import Doc\n",
    "from spacy.ml import CharacterEmbed\n",
    "from torch import nn\n",
    "\n",
    "@spacy.registry.architectures(\"CustomTorchModel.v1\")\n",
    "def create_torch_model(\n",
    "    nO: int,\n",
    "    width: int,\n",
    "    hidden_width: int,\n",
    "    embed_size: int,\n",
    "    nM: int,\n",
    "    nC: int,\n",
    "    dropout: float,\n",
    ") -> Model[List[Doc], List[Floats2d]]:\n",
    "    char_embed = CharacterEmbed(width, embed_size, nM, nC)\n",
    "    torch_model = nn.Sequential(\n",
    "        nn.Linear(width, hidden_width),\n",
    "        nn.ReLU(),\n",
    "        nn.Dropout2d(dropout),\n",
    "        nn.Linear(hidden_width, nO),\n",
    "        nn.ReLU(),\n",
    "        nn.Dropout2d(dropout),\n",
    "        nn.Softmax(dim=1)\n",
    "    )\n",
    "    wrapped_pt_model = PyTorchWrapper(torch_model)\n",
    "    model = chain(char_embed, with_array(wrapped_pt_model))\n",
    "    return model"
   ]
  },
  {
   "cell_type": "markdown",
   "metadata": {
    "extensions": {
     "jupyter_dashboards": {
      "version": 1,
      "views": {
       "default_view": {
        "col": 0,
        "height": 2,
        "row": 162,
        "width": 12
       }
      }
     }
    }
   },
   "source": []
  }
 ],
 "metadata": {
  "extensions": {
   "jupyter_dashboards": {
    "activeView": "default_view",
    "version": 1,
    "views": {
     "default_view": {
      "cellMargin": 10,
      "defaultCellHeight": 40,
      "maxColumns": 12,
      "name": "active_view",
      "type": "grid"
     }
    }
   }
  },
  "interpreter": {
   "hash": "de0fae0e589dd6382acd4abe62ee84d83ced5305af7ba43e1eff6e6644785fd2"
  },
  "kernelspec": {
   "display_name": "py3.16.13",
   "language": "python",
   "name": "py3.16.13"
  },
  "language_info": {
   "codemirror_mode": {
    "name": "ipython",
    "version": 3
   },
   "file_extension": ".py",
   "mimetype": "text/x-python",
   "name": "python",
   "nbconvert_exporter": "python",
   "pygments_lexer": "ipython3",
   "version": "3.6.13"
  },
  "latex_envs": {
   "LaTeX_envs_menu_present": true,
   "autocomplete": true,
   "bibliofile": "biblio-books.bib",
   "cite_by": "apalike",
   "current_citInitial": 1,
   "eqLabelWithNumbers": true,
   "eqNumInitial": 1,
   "hotkeys": {
    "equation": "Ctrl-E",
    "itemize": "Ctrl-I"
   },
   "labels_anchors": false,
   "latex_user_defs": false,
   "report_style_numbering": false,
   "user_envs_cfg": false
  },
  "nbTranslate": {
   "displayLangs": [
    "es",
    "en"
   ],
   "hotkey": "alt-t",
   "langInMainMenu": true,
   "sourceLang": "es",
   "targetLang": "en",
   "useGoogleTranslate": true
  },
  "toc": {
   "base_numbering": 1,
   "nav_menu": {},
   "number_sections": true,
   "sideBar": true,
   "skip_h1_title": false,
   "title_cell": "Table of Contents",
   "title_sidebar": "Contents",
   "toc_cell": false,
   "toc_position": {},
   "toc_section_display": true,
   "toc_window_display": true
  },
  "varInspector": {
   "cols": {
    "lenName": 16,
    "lenType": 16,
    "lenVar": 40
   },
   "kernels_config": {
    "python": {
     "delete_cmd_postfix": "",
     "delete_cmd_prefix": "del ",
     "library": "var_list.py",
     "varRefreshCmd": "print(var_dic_list())"
    },
    "r": {
     "delete_cmd_postfix": ") ",
     "delete_cmd_prefix": "rm(",
     "library": "var_list.r",
     "varRefreshCmd": "cat(var_dic_list()) "
    }
   },
   "types_to_exclude": [
    "module",
    "function",
    "builtin_function_or_method",
    "instance",
    "_Feature"
   ],
   "window_display": false
  },
  "widgets": {
   "application/vnd.jupyter.widget-state+json": {
    "state": {},
    "version_major": 2,
    "version_minor": 0
   }
  }
 },
 "nbformat": 4,
 "nbformat_minor": 4
}
